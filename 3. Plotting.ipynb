{
 "cells": [
  {
   "cell_type": "markdown",
   "id": "cdccb331",
   "metadata": {},
   "source": [
    "El ejemplo por excelencia para la creación de visualizaciones de datos es el cuarteto de Anscombe. Este conjunto de datos fue creado por el estadístico inglés Frank Anscombe para mostrar la importancia de los gráficos estadísticos."
   ]
  },
  {
   "cell_type": "code",
   "execution_count": 2,
   "id": "08152fb9",
   "metadata": {},
   "outputs": [
    {
     "name": "stdout",
     "output_type": "stream",
     "text": [
      "   dataset     x      y\n",
      "0        I  10.0   8.04\n",
      "1        I   8.0   6.95\n",
      "2        I  13.0   7.58\n",
      "3        I   9.0   8.81\n",
      "4        I  11.0   8.33\n",
      "5        I  14.0   9.96\n",
      "6        I   6.0   7.24\n",
      "7        I   4.0   4.26\n",
      "8        I  12.0  10.84\n",
      "9        I   7.0   4.82\n",
      "10       I   5.0   5.68\n",
      "11      II  10.0   9.14\n",
      "12      II   8.0   8.14\n",
      "13      II  13.0   8.74\n",
      "14      II   9.0   8.77\n",
      "15      II  11.0   9.26\n",
      "16      II  14.0   8.10\n",
      "17      II   6.0   6.13\n",
      "18      II   4.0   3.10\n",
      "19      II  12.0   9.13\n",
      "20      II   7.0   7.26\n",
      "21      II   5.0   4.74\n",
      "22     III  10.0   7.46\n",
      "23     III   8.0   6.77\n",
      "24     III  13.0  12.74\n",
      "25     III   9.0   7.11\n",
      "26     III  11.0   7.81\n",
      "27     III  14.0   8.84\n",
      "28     III   6.0   6.08\n",
      "29     III   4.0   5.39\n",
      "30     III  12.0   8.15\n",
      "31     III   7.0   6.42\n",
      "32     III   5.0   5.73\n",
      "33      IV   8.0   6.58\n",
      "34      IV   8.0   5.76\n",
      "35      IV   8.0   7.71\n",
      "36      IV   8.0   8.84\n",
      "37      IV   8.0   8.47\n",
      "38      IV   8.0   7.04\n",
      "39      IV   8.0   5.25\n",
      "40      IV  19.0  12.50\n",
      "41      IV   8.0   5.56\n",
      "42      IV   8.0   7.91\n",
      "43      IV   8.0   6.89\n"
     ]
    }
   ],
   "source": [
    "import seaborn as sns\n",
    "anscombe = sns.load_dataset(\"anscombe\")\n",
    "print(anscombe)"
   ]
  },
  {
   "cell_type": "markdown",
   "id": "c7c4aae3",
   "metadata": {},
   "source": [
    "### Conceptos básicos de Matplotlib\n",
    "\n",
    "\n",
    "matplotlib es la biblioteca de trazado fundamental de Python. Es extremadamente flexible y le da al usuario control total sobre todos los elementos del plot.\n",
    "\n",
    "La importación de las funciones de trazado de matplotlib es un poco diferente de nuestras importaciones de paquetes anteriores. Puede considerarlo como importar el paquete matplotlib, con todas las utilidades de trazado almacenadas en una subcarpeta (o subpaquete) llamada `pyplot`. Así como importamos un paquete y le dimos un nombre abreviado, podemos hacer lo mismo con `matplotlib.pyplot`."
   ]
  },
  {
   "cell_type": "code",
   "execution_count": 3,
   "id": "6202d14c",
   "metadata": {},
   "outputs": [],
   "source": [
    "import matplotlib.pyplot as plt"
   ]
  },
  {
   "cell_type": "markdown",
   "id": "a373ef5d",
   "metadata": {},
   "source": [
    "Los nombres de la mayoría de los gráficos básicos comenzarán con `plt.plot()`. En nuestro ejemplo, la función de trazado toma un vector para los valores de x y un vector correspondiente para los valores de y."
   ]
  },
  {
   "cell_type": "code",
   "execution_count": 5,
   "id": "eff1e368",
   "metadata": {},
   "outputs": [
    {
     "data": {
      "image/png": "[encoded data removed]",
      "text/plain": [
       "<Figure size 432x288 with 1 Axes>"
      ]
     },
     "metadata": {
      "needs_background": "light"
     },
     "output_type": "display_data"
    }
   ],
   "source": [
    "dataset_1 = anscombe[anscombe['dataset']=='I']\n",
    "\n",
    "plt.plot(dataset_1['x'], dataset_1['y'])\n",
    "plt.show()"
   ]
  },
  {
   "cell_type": "markdown",
   "id": "051d4516",
   "metadata": {},
   "source": [
    "Por defecto, plt.plot() dibujará líneas. Si queremos que dibuje puntos, podemos pasar un parámetro 'o' para indicarle a plt.plot() que use puntos."
   ]
  },
  {
   "cell_type": "code",
   "execution_count": 7,
   "id": "2f4ec77c",
   "metadata": {},
   "outputs": [
    {
     "data": {
      "image/png": "[encoded data removed]",
      "text/plain": [
       "<Figure size 432x288 with 1 Axes>"
      ]
     },
     "metadata": {
      "needs_background": "light"
     },
     "output_type": "display_data"
    }
   ],
   "source": [
    "plt.plot(dataset_1['x'], dataset_1['y'], 'o')\n",
    "plt.show()"
   ]
  },
  {
   "cell_type": "code",
   "execution_count": 8,
   "id": "c7524243",
   "metadata": {},
   "outputs": [],
   "source": [
    "dataset_2 = anscombe[anscombe['dataset']=='II']\n",
    "dataset_3 = anscombe[anscombe['dataset']=='III']\n",
    "dataset_4 = anscombe[anscombe['dataset']=='IV']"
   ]
  },
  {
   "cell_type": "markdown",
   "id": "0721952f",
   "metadata": {},
   "source": [
    "#### Subtramas de objetos y ejes de figura\n",
    "\n",
    "En este punto, podríamos crear estas tramas individualmente, pero matplotlib ofrece una forma mucho más práctica de crear subtramas. Puede especificar las dimensiones de su figura final y colocar parcelas más pequeñas para que se ajusten a las dimensiones especificadas. De esta manera, podrás presentar tus resultados en una sola figura."
   ]
  },
  {
   "cell_type": "markdown",
   "id": "765abe6e",
   "metadata": {},
   "source": [
    "La sintaxis de `subplot` toma tres parámetros:\n",
    "- Número de filas en la figura para subtramas\n",
    "- Número de columnas en la figura para subtramas\n",
    "- Ubicación de la subtrama\n",
    "\n",
    "La ubicación de la subtrama está numerada secuencialmente y las tramas(plots) se colocan primero en dirección de izquierda a derecha y luego de arriba a abajo. Si intentamos trazar esto ahora (ejecutando el siguiente código), obtendremos una figura vacía.\n",
    "Todo lo que hemos hecho hasta ahora es crear una figura y dividirla en una cuadrícula de 2 x 2 donde se pueden colocar los gráficos. Como no se crearon ni insertaron gráficos, no aparecerá nada."
   ]
  },
  {
   "cell_type": "code",
   "execution_count": 10,
   "id": "417bb1b2",
   "metadata": {},
   "outputs": [
    {
     "data": {
      "image/png": "[encoded data removed]",
      "text/plain": [
       "<Figure size 432x288 with 4 Axes>"
      ]
     },
     "metadata": {
      "needs_background": "light"
     },
     "output_type": "display_data"
    }
   ],
   "source": [
    "# Crear la figura completa, donde nuestros subplots serán colocados\n",
    "fig = plt.figure()\n",
    "\n",
    "# especificar en la figura cómo se deben distribuir las subtramas\n",
    "# Los primeres parametros son las filas y columnas que tendrá el subplot y el tercer parámetro es la ubicación\n",
    "axes1 = fig.add_subplot(2, 2, 1)\n",
    "axes2 = fig.add_subplot(2, 2, 2)\n",
    "axes3 = fig.add_subplot(2, 2, 3)\n",
    "axes4 = fig.add_subplot(2, 2, 4)\n",
    "\n",
    "plt.show()"
   ]
  },
  {
   "cell_type": "markdown",
   "id": "9d5f9097",
   "metadata": {},
   "source": [
    "Podemos usar el método `.plot()` en cada eje para crear nuestra gráfica"
   ]
  },
  {
   "cell_type": "code",
   "execution_count": 14,
   "id": "4159b82c",
   "metadata": {},
   "outputs": [
    {
     "data": {
      "image/png": "[encoded data removed]",
      "text/plain": [
       "<Figure size 432x288 with 4 Axes>"
      ]
     },
     "metadata": {
      "needs_background": "light"
     },
     "output_type": "display_data"
    }
   ],
   "source": [
    "\n",
    "fig = plt.figure()\n",
    "\n",
    "axes1 = fig.add_subplot(2, 2, 1)\n",
    "axes2 = fig.add_subplot(2, 2, 2)\n",
    "axes3 = fig.add_subplot(2, 2, 3)\n",
    "axes4 = fig.add_subplot(2, 2, 4)\n",
    "\n",
    "#Agreganodo un plot a cada eje\n",
    "axes1.plot(dataset_1['x'], dataset_1['y'], 'o')\n",
    "axes2.plot(dataset_2['x'], dataset_2['y'], 'o')\n",
    "axes3.plot(dataset_3['x'], dataset_3['y'], 'o')\n",
    "axes4.plot(dataset_4['x'], dataset_4['y'], 'o')\n",
    "\n",
    "plt.show()"
   ]
  },
  {
   "cell_type": "markdown",
   "id": "4faefd14",
   "metadata": {},
   "source": [
    "Finalmente, podemos agregar una etiqueta a nuestras subtramas y mejorar el espaciado de las subtramas con `fig.tight_layout()`, pero se prefiere `fig.set_tight_layout()`"
   ]
  },
  {
   "cell_type": "code",
   "execution_count": 20,
   "id": "cdfd6473",
   "metadata": {},
   "outputs": [
    {
     "data": {
      "image/png": "[encoded data removed]",
      "text/plain": [
       "<Figure size 432x288 with 4 Axes>"
      ]
     },
     "metadata": {
      "needs_background": "light"
     },
     "output_type": "display_data"
    }
   ],
   "source": [
    "fig = plt.figure()\n",
    "\n",
    "axes1 = fig.add_subplot(2, 2, 1)\n",
    "axes2 = fig.add_subplot(2, 2, 2)\n",
    "axes3 = fig.add_subplot(2, 2, 3)\n",
    "axes4 = fig.add_subplot(2, 2, 4)\n",
    "\n",
    "axes1.plot(dataset_1['x'], dataset_1['y'], 'o')\n",
    "axes2.plot(dataset_2['x'], dataset_2['y'], 'o')\n",
    "axes3.plot(dataset_3['x'], dataset_3['y'], 'o')\n",
    "axes4.plot(dataset_4['x'], dataset_4['y'], 'o')\n",
    "\n",
    "# agregar un titulo\n",
    "axes1.set_title(\"dataset 1\")\n",
    "axes2.set_title(\"dataset 2\")\n",
    "axes3.set_title(\"dataset 3\")\n",
    "axes4.set_title(\"dataset 4\")\n",
    "\n",
    "axes1.set_xlabel('eje x')\n",
    "axes2.set_xlabel('eje x')\n",
    "axes3.set_xlabel('eje x')\n",
    "axes4.set_xlabel('eje x')\n",
    "\n",
    "axes1.set_ylabel('eje x')\n",
    "axes2.set_ylabel('eje x')\n",
    "axes3.set_ylabel('eje x')\n",
    "axes4.set_ylabel('eje x')\n",
    "\n",
    "# Agregar titulo a toda la figura\n",
    "fig.suptitle(\"Anscombe Data\")\n",
    "\n",
    "# use un diseño ajustado para que las tramas y los títulos no se superpongan\n",
    "fig.set_tight_layout(True)\n",
    "\n",
    "plt.show()"
   ]
  },
  {
   "cell_type": "markdown",
   "id": "914fe6e5",
   "metadata": {},
   "source": [
    "#### Anatomía de una figura\n",
    "\n",
    "Una de las partes más confusas del trazado en Python es el uso de los términos \"eje\" (axis) y \"ejes\" (axes), especialmente cuando se intenta describir verbalmente las diferentes partes (ya que se pronuncian de manera similar). En el ejemplo de Anscombe, cada subtrama individual tiene ejes. Los ejes contienen tanto un eje x como un eje y. Las cuatro subtramas juntas forman la figura."
   ]
  },
  {
   "cell_type": "markdown",
   "id": "82d34121",
   "metadata": {},
   "source": [
    "!['abc'](https://matplotlib.org/stable/_images/sphx_glr_anatomy_001.png)"
   ]
  },
  {
   "cell_type": "code",
   "execution_count": null,
   "id": "1499f18f",
   "metadata": {},
   "outputs": [],
   "source": [
    "### Gráficos estadísticos usando matplotlib"
   ]
  },
  {
   "cell_type": "code",
   "execution_count": null,
   "id": "e080ab1b",
   "metadata": {},
   "outputs": [],
   "source": [
    "# Pag 134"
   ]
  }
 ],
 "metadata": {
  "kernelspec": {
   "display_name": "Python 3",
   "language": "python",
   "name": "python3"
  },
  "language_info": {
   "codemirror_mode": {
    "name": "ipython",
    "version": 3
   },
   "file_extension": ".py",
   "mimetype": "text/x-python",
   "name": "python",
   "nbconvert_exporter": "python",
   "pygments_lexer": "ipython3",
   "version": "3.7.4"
  }
 },
 "nbformat": 4,
 "nbformat_minor": 5
}
