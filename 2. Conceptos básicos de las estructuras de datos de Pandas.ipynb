{
 "cells": [
  {
   "cell_type": "markdown",
   "id": "bfb38a29",
   "metadata": {},
   "source": [
    "## Creando tus propios datos"
   ]
  },
  {
   "cell_type": "markdown",
   "id": "71b8e718",
   "metadata": {},
   "source": [
    "### Crear una Serie\n",
    "\n",
    "En pandas, una serie es un contenedor unidimensional (es decir, Python Iterable), similar a la lista integrada de Python. Es el tipo de datos que representa cada columna del DataFrame. Cada valor en una columna de DataFrame debe almacenarse como el mismo `dtype`.\n",
    "\n",
    "Dado que un DataFrame puede considerarse como un diccionario de objetos Serie, donde cada clave es el nombre de la columna y el valor es la Serie, podemos concluir que una Serie es muy similar a una lista de Python, excepto que cada elemento debe ser del mismo `dtype`.\n",
    "\n",
    "La forma más sencilla de crear una serie es pasar una lista de Python. Si pasamos una lista de tipos mixtos, se utilizará la representación más común de ambos. Normalmente el `dtype` será `object`."
   ]
  },
  {
   "cell_type": "code",
   "execution_count": 3,
   "id": "f04031a4",
   "metadata": {},
   "outputs": [],
   "source": [
    "import pandas as pd"
   ]
  },
  {
   "cell_type": "code",
   "execution_count": 2,
   "id": "8aa44891",
   "metadata": {},
   "outputs": [
    {
     "name": "stdout",
     "output_type": "stream",
     "text": [
      "0    peru\n",
      "1      24\n",
      "dtype: object\n"
     ]
    }
   ],
   "source": [
    "s = pd.Series(['peru', 24])\n",
    "print(s)"
   ]
  },
  {
   "cell_type": "markdown",
   "id": "8e8c5c2d",
   "metadata": {},
   "source": [
    "Observe que el \"número de fila\" se muestra a la izquierda de la Serie. En realidad, este es el índice de la serie. Es similar al nombre de fila y al índice de fila de DataFrames."
   ]
  },
  {
   "cell_type": "code",
   "execution_count": 3,
   "id": "35c5df11",
   "metadata": {},
   "outputs": [
    {
     "name": "stdout",
     "output_type": "stream",
     "text": [
      "Nombre         Jorge\n",
      "Apellido    Zevallos\n",
      "dtype: object\n"
     ]
    }
   ],
   "source": [
    "s = pd.Series(\n",
    "    data = ['Jorge', 'Zevallos'],\n",
    "    index = ['Nombre', 'Apellido']\n",
    ")\n",
    "print(s)"
   ]
  },
  {
   "cell_type": "markdown",
   "id": "077f4b08",
   "metadata": {},
   "source": [
    "### Crear un DataFrame\n",
    "\n",
    "Un DataFrame puede considerarse como un diccionario de objetos de serie. Es por eso que los diccionarios son la forma más común de crear un DataFrame. La clave representa el nombre de la columna y los valores son el contenido de la columna."
   ]
  },
  {
   "cell_type": "code",
   "execution_count": 4,
   "id": "beec7cce",
   "metadata": {},
   "outputs": [
    {
     "name": "stdout",
     "output_type": "stream",
     "text": [
      "             Name Nacionalidad  Dorsal\n",
      "0    Lionel Messi    Argentino      10\n",
      "1  Paolo Guerrero      Peruano       9\n"
     ]
    }
   ],
   "source": [
    "soccer_players = pd.DataFrame(\n",
    "    {\n",
    "        \"Name\": ['Lionel Messi', 'Paolo Guerrero'],\n",
    "        \"Nacionalidad\": ['Argentino', 'Peruano'],\n",
    "        \"Dorsal\": [10, 9]\n",
    "    }\n",
    ")\n",
    "\n",
    "print(soccer_players)"
   ]
  },
  {
   "cell_type": "markdown",
   "id": "45b5a9dc",
   "metadata": {},
   "source": [
    "Podemos usar el parámetro de columnas o especificar el orden de las columnas. Si queremos usar la columna de nombre para el índice de fila, podemos usar el parámetro de índice."
   ]
  },
  {
   "cell_type": "code",
   "execution_count": 36,
   "id": "c07e5a7c",
   "metadata": {},
   "outputs": [
    {
     "name": "stdout",
     "output_type": "stream",
     "text": [
      "             Name Nacionalidad  Dorsal\n",
      "A    Lionel Messi    Argentino      10\n",
      "B  Paolo Guerrero      Peruano       9\n",
      "C     Luis Suarez     Uruguayo       9\n"
     ]
    }
   ],
   "source": [
    "soccer_players = pd.DataFrame(\n",
    "data ={\n",
    "        \"Name\": ['Lionel Messi', 'Paolo Guerrero', 'Luis Suarez'],\n",
    "        \"Nacionalidad\": ['Argentino', 'Peruano', 'Uruguayo'],\n",
    "        \"Dorsal\": [10, 9, 9]\n",
    "},\n",
    "index =[\"A\", \"B\", \"C\"],\n",
    ")\n",
    "print(soccer_players)"
   ]
  },
  {
   "cell_type": "code",
   "execution_count": 14,
   "id": "a338676d",
   "metadata": {},
   "outputs": [
    {
     "name": "stdout",
     "output_type": "stream",
     "text": [
      "                     Occupation        Born  Age        Died\n",
      "Rosaline Franklin       Chemist  1920-07-25   37  1958-04-16\n",
      "William Gosset     Statistician  1876-06-13   61  1937-10-16\n"
     ]
    }
   ],
   "source": [
    "scientists = pd.DataFrame(\n",
    "data ={\n",
    "\"Occupation\": [\"Chemist\", \"Statistician\"],\n",
    "\"Born\": [\"1920-07-25\", \"1876-06-13\"],\n",
    "\"Died\": [\"1958-04-16\", \"1937-10-16\"],\n",
    "\"Age\": [37, 61],\n",
    "},\n",
    "index =[\"Rosaline Franklin\", \"William Gosset\"],\n",
    "columns =[\"Occupation\", \"Born\", \"Age\", \"Died\"],\n",
    ")\n",
    "print(scientists)"
   ]
  },
  {
   "cell_type": "markdown",
   "id": "0f8d913b",
   "metadata": {},
   "source": [
    "## Las Series"
   ]
  },
  {
   "cell_type": "markdown",
   "id": "2bcc08ce",
   "metadata": {},
   "source": [
    "Hemos visto cómo el método de corte (slicing) afecta el tipo de resultado. Si usamos `.loc[]` para crear un subconjunto de la primera fila de un DataFrame, obtendremos un objeto Serie."
   ]
  },
  {
   "cell_type": "code",
   "execution_count": 17,
   "id": "a34bcd4b",
   "metadata": {},
   "outputs": [
    {
     "name": "stdout",
     "output_type": "stream",
     "text": [
      "<class 'pandas.core.series.Series'>\n"
     ]
    }
   ],
   "source": [
    "first_row = scientists.loc['William Gosset']\n",
    "print(type(first_row))"
   ]
  },
  {
   "cell_type": "code",
   "execution_count": 18,
   "id": "c1a23c03",
   "metadata": {},
   "outputs": [
    {
     "name": "stdout",
     "output_type": "stream",
     "text": [
      "Occupation    Statistician\n",
      "Born            1876-06-13\n",
      "Age                     61\n",
      "Died            1937-10-16\n",
      "Name: William Gosset, dtype: object\n"
     ]
    }
   ],
   "source": [
    "print(first_row)"
   ]
  },
  {
   "cell_type": "code",
   "execution_count": 22,
   "id": "b33d5108",
   "metadata": {},
   "outputs": [
    {
     "name": "stdout",
     "output_type": "stream",
     "text": [
      "Name            Lionel Messi\n",
      "Nacionalidad       Argentino\n",
      "Dorsal                    10\n",
      "Name: A, dtype: object\n"
     ]
    }
   ],
   "source": [
    "first_row = soccer_players.loc['A']\n",
    "print(first_row)"
   ]
  },
  {
   "cell_type": "markdown",
   "id": "e2e61ff9",
   "metadata": {},
   "source": [
    "Cuando se imprime una serie (es decir, la representación de cadena), el index (keys) se imprime como la primera \"columna\" y los valores se imprimen como la segunda \"columna\"."
   ]
  },
  {
   "cell_type": "markdown",
   "id": "ac55ea4e",
   "metadata": {},
   "source": [
    "Hay muchos atributos y métodos asociados con un objeto Serie. Dos ejemplos de atributos son `.index` y `.values`."
   ]
  },
  {
   "cell_type": "code",
   "execution_count": 23,
   "id": "b11b21d7",
   "metadata": {},
   "outputs": [
    {
     "name": "stdout",
     "output_type": "stream",
     "text": [
      "Index(['Name', 'Nacionalidad', 'Dorsal'], dtype='object')\n"
     ]
    }
   ],
   "source": [
    "print(first_row.index)"
   ]
  },
  {
   "cell_type": "code",
   "execution_count": 29,
   "id": "810527bd",
   "metadata": {},
   "outputs": [
    {
     "name": "stdout",
     "output_type": "stream",
     "text": [
      "['Lionel Messi' 'Argentino' 10]\n",
      "Index(['Name', 'Nacionalidad', 'Dorsal'], dtype='object')\n",
      "object\n",
      "(3,)\n",
      "3\n"
     ]
    }
   ],
   "source": [
    "print(first_row.values)\n",
    "print(first_row.keys())\n",
    "print(first_row.dtype)\n",
    "print(first_row.shape)\n",
    "print(first_row.size)"
   ]
  },
  {
   "cell_type": "code",
   "execution_count": 30,
   "id": "4b86ebf1",
   "metadata": {},
   "outputs": [
    {
     "name": "stdout",
     "output_type": "stream",
     "text": [
      "Name\n"
     ]
    }
   ],
   "source": [
    "print(first_row.keys()[0])"
   ]
  },
  {
   "cell_type": "markdown",
   "id": "6677dbfb",
   "metadata": {},
   "source": [
    "#### La serie es similar a ndarray\n",
    "\n",
    "La estructura de datos de Pandas conocida como Serie es muy similar a `numpy.ndarray`. A su vez, muchos métodos y funciones que operan en un ndarray también operarán en una Serie. A veces se puede hacer referencia a una serie como “vector”."
   ]
  },
  {
   "cell_type": "markdown",
   "id": "e9b149f1",
   "metadata": {},
   "source": [
    "###### Métodos en series"
   ]
  },
  {
   "cell_type": "code",
   "execution_count": 31,
   "id": "ddccf1a1",
   "metadata": {},
   "outputs": [
    {
     "name": "stdout",
     "output_type": "stream",
     "text": [
      "A    10\n",
      "B     9\n",
      "Name: Dorsal, dtype: int64\n"
     ]
    }
   ],
   "source": [
    "dorsales = soccer_players['Dorsal']\n",
    "print(dorsales)"
   ]
  },
  {
   "cell_type": "code",
   "execution_count": 34,
   "id": "90d6b500",
   "metadata": {},
   "outputs": [
    {
     "name": "stdout",
     "output_type": "stream",
     "text": [
      "9.5\n",
      "9\n",
      "10\n",
      "0.7071067811865476\n"
     ]
    }
   ],
   "source": [
    "print(dorsales.mean())\n",
    "print(dorsales.min())\n",
    "print(dorsales.max())\n",
    "print(dorsales.std())"
   ]
  },
  {
   "cell_type": "markdown",
   "id": "d064c706",
   "metadata": {},
   "source": [
    "#### Subconjunto booleano: serie"
   ]
  },
  {
   "cell_type": "code",
   "execution_count": 4,
   "id": "5e0d5e48",
   "metadata": {},
   "outputs": [
    {
     "data": {
      "text/html": [
       "<div>\n",
       "<style scoped>\n",
       "    .dataframe tbody tr th:only-of-type {\n",
       "        vertical-align: middle;\n",
       "    }\n",
       "\n",
       "    .dataframe tbody tr th {\n",
       "        vertical-align: top;\n",
       "    }\n",
       "\n",
       "    .dataframe thead th {\n",
       "        text-align: right;\n",
       "    }\n",
       "</style>\n",
       "<table border=\"1\" class=\"dataframe\">\n",
       "  <thead>\n",
       "    <tr style=\"text-align: right;\">\n",
       "      <th></th>\n",
       "      <th>Name</th>\n",
       "      <th>Born</th>\n",
       "      <th>Died</th>\n",
       "      <th>Age</th>\n",
       "      <th>Occupation</th>\n",
       "    </tr>\n",
       "  </thead>\n",
       "  <tbody>\n",
       "    <tr>\n",
       "      <th>0</th>\n",
       "      <td>Rosaline Franklin</td>\n",
       "      <td>1920-07-25</td>\n",
       "      <td>1958-04-16</td>\n",
       "      <td>37</td>\n",
       "      <td>Chemist</td>\n",
       "    </tr>\n",
       "    <tr>\n",
       "      <th>1</th>\n",
       "      <td>William Gosset</td>\n",
       "      <td>1876-06-13</td>\n",
       "      <td>1937-10-16</td>\n",
       "      <td>61</td>\n",
       "      <td>Statistician</td>\n",
       "    </tr>\n",
       "    <tr>\n",
       "      <th>2</th>\n",
       "      <td>Florence Nightingale</td>\n",
       "      <td>1820-05-12</td>\n",
       "      <td>1910-08-13</td>\n",
       "      <td>90</td>\n",
       "      <td>Nurse</td>\n",
       "    </tr>\n",
       "    <tr>\n",
       "      <th>3</th>\n",
       "      <td>Marie Curie</td>\n",
       "      <td>1867-11-07</td>\n",
       "      <td>1934-07-04</td>\n",
       "      <td>66</td>\n",
       "      <td>Chemist</td>\n",
       "    </tr>\n",
       "    <tr>\n",
       "      <th>4</th>\n",
       "      <td>Rachel Carson</td>\n",
       "      <td>1907-05-27</td>\n",
       "      <td>1964-04-14</td>\n",
       "      <td>56</td>\n",
       "      <td>Biologist</td>\n",
       "    </tr>\n",
       "    <tr>\n",
       "      <th>5</th>\n",
       "      <td>John Snow</td>\n",
       "      <td>1813-03-15</td>\n",
       "      <td>1858-06-16</td>\n",
       "      <td>45</td>\n",
       "      <td>Physician</td>\n",
       "    </tr>\n",
       "    <tr>\n",
       "      <th>6</th>\n",
       "      <td>Alan Turing</td>\n",
       "      <td>1912-06-23</td>\n",
       "      <td>1954-06-07</td>\n",
       "      <td>41</td>\n",
       "      <td>Computer Scientist</td>\n",
       "    </tr>\n",
       "    <tr>\n",
       "      <th>7</th>\n",
       "      <td>Johann Gauss</td>\n",
       "      <td>1777-04-30</td>\n",
       "      <td>1855-02-23</td>\n",
       "      <td>77</td>\n",
       "      <td>Mathematician</td>\n",
       "    </tr>\n",
       "  </tbody>\n",
       "</table>\n",
       "</div>"
      ],
      "text/plain": [
       "                   Name        Born        Died  Age          Occupation\n",
       "0     Rosaline Franklin  1920-07-25  1958-04-16   37             Chemist\n",
       "1        William Gosset  1876-06-13  1937-10-16   61        Statistician\n",
       "2  Florence Nightingale  1820-05-12  1910-08-13   90               Nurse\n",
       "3           Marie Curie  1867-11-07  1934-07-04   66             Chemist\n",
       "4         Rachel Carson  1907-05-27  1964-04-14   56           Biologist\n",
       "5             John Snow  1813-03-15  1858-06-16   45           Physician\n",
       "6           Alan Turing  1912-06-23  1954-06-07   41  Computer Scientist\n",
       "7          Johann Gauss  1777-04-30  1855-02-23   77       Mathematician"
      ]
     },
     "execution_count": 4,
     "metadata": {},
     "output_type": "execute_result"
    }
   ],
   "source": [
    "scientists = pd.read_csv('./pandas_for_everyone-master/data/scientists.csv')\n",
    "scientists"
   ]
  },
  {
   "cell_type": "code",
   "execution_count": 5,
   "id": "dd4806de",
   "metadata": {},
   "outputs": [
    {
     "name": "stdout",
     "output_type": "stream",
     "text": [
      "0    37\n",
      "1    61\n",
      "2    90\n",
      "3    66\n",
      "4    56\n",
      "5    45\n",
      "6    41\n",
      "7    77\n",
      "Name: Age, dtype: int64\n"
     ]
    }
   ],
   "source": [
    "ages = scientists['Age']\n",
    "print(ages)"
   ]
  },
  {
   "cell_type": "code",
   "execution_count": 43,
   "id": "8c213bc2",
   "metadata": {},
   "outputs": [
    {
     "data": {
      "text/plain": [
       "count     8.000000\n",
       "mean     59.125000\n",
       "std      18.325918\n",
       "min      37.000000\n",
       "25%      44.000000\n",
       "50%      58.500000\n",
       "75%      68.750000\n",
       "max      90.000000\n",
       "Name: Age, dtype: float64"
      ]
     },
     "execution_count": 43,
     "metadata": {},
     "output_type": "execute_result"
    }
   ],
   "source": [
    "# Estadisticas basicas\n",
    "ages.describe()"
   ]
  },
  {
   "cell_type": "code",
   "execution_count": 44,
   "id": "31660422",
   "metadata": {},
   "outputs": [
    {
     "data": {
      "text/plain": [
       "59.125"
      ]
     },
     "execution_count": 44,
     "metadata": {},
     "output_type": "execute_result"
    }
   ],
   "source": [
    "ages.mean()"
   ]
  },
  {
   "cell_type": "markdown",
   "id": "d0849e38",
   "metadata": {},
   "source": [
    "Edades superiores a la media"
   ]
  },
  {
   "cell_type": "code",
   "execution_count": 45,
   "id": "a3f8502a",
   "metadata": {
    "scrolled": true
   },
   "outputs": [
    {
     "data": {
      "text/plain": [
       "1    61\n",
       "2    90\n",
       "3    66\n",
       "7    77\n",
       "Name: Age, dtype: int64"
      ]
     },
     "execution_count": 45,
     "metadata": {},
     "output_type": "execute_result"
    }
   ],
   "source": [
    "ages[ages > ages.mean()]"
   ]
  },
  {
   "cell_type": "code",
   "execution_count": 46,
   "id": "b716db10",
   "metadata": {},
   "outputs": [
    {
     "data": {
      "text/plain": [
       "0    False\n",
       "1     True\n",
       "2     True\n",
       "3     True\n",
       "4    False\n",
       "5    False\n",
       "6    False\n",
       "7     True\n",
       "Name: Age, dtype: bool"
      ]
     },
     "execution_count": 46,
     "metadata": {},
     "output_type": "execute_result"
    }
   ],
   "source": [
    "ages > ages.mean()"
   ]
  },
  {
   "cell_type": "code",
   "execution_count": 47,
   "id": "ffc542ec",
   "metadata": {},
   "outputs": [
    {
     "name": "stdout",
     "output_type": "stream",
     "text": [
      "<class 'pandas.core.series.Series'>\n"
     ]
    }
   ],
   "source": [
    "print(type(ages > ages.mean()))"
   ]
  },
  {
   "cell_type": "markdown",
   "id": "3eeabe33",
   "metadata": {},
   "source": [
    "Esta declaración devuelve una serie con un `dtype` de `bool`. En otras palabras, no sólo podemos subconjuntos de valores usando etiquetas e índices, sino también proporcionar un vector de valores booleanos.\n",
    "\n",
    "Si quisiéramos, podríamos proporcionar manualmente un vector de booleanos para subconjuntos de nuestros datos."
   ]
  },
  {
   "cell_type": "code",
   "execution_count": 48,
   "id": "a5ea9364",
   "metadata": {},
   "outputs": [
    {
     "name": "stdout",
     "output_type": "stream",
     "text": [
      "0    37\n",
      "1    61\n",
      "4    56\n",
      "5    45\n",
      "7    77\n",
      "Name: Age, dtype: int64\n"
     ]
    }
   ],
   "source": [
    "manual_bool_values = [\n",
    "True, # 0\n",
    "True, # 1\n",
    "False, # 2\n",
    "False, # 3\n",
    "True, # 4\n",
    "True, # 5\n",
    "False, # 6\n",
    "True, # 7\n",
    "]\n",
    "print(ages[manual_bool_values])"
   ]
  },
  {
   "cell_type": "markdown",
   "id": "601d3e0e",
   "metadata": {},
   "source": [
    "#### Las operaciones se alinean y vectorizan automáticamente (difusión)\n",
    "Si está familiarizado con la programación, le resultará extraño que `edades > edades.mean()` devuelva un vector sin ningún bucle for. Muchos de los métodos que funcionan en Series (y también en DataFrames) están \"vectorizados\", lo que significa que funcionan en todo el vector simultáneamente. Este enfoque hace que el código sea más fácil de leer y, por lo general, hay optimizaciones disponibles para agilizar los cálculos."
   ]
  },
  {
   "cell_type": "markdown",
   "id": "e369f5eb",
   "metadata": {},
   "source": [
    "##### Vectores de la misma longitud\n",
    "\n",
    "Si realiza una operación entre dos vectores de la misma longitud, el vector resultante será un cálculo elemento por elemento de los vectores."
   ]
  },
  {
   "cell_type": "code",
   "execution_count": 6,
   "id": "52ba3484",
   "metadata": {},
   "outputs": [
    {
     "name": "stdout",
     "output_type": "stream",
     "text": [
      "0     74\n",
      "1    122\n",
      "2    180\n",
      "3    132\n",
      "4    112\n",
      "5     90\n",
      "6     82\n",
      "7    154\n",
      "Name: Age, dtype: int64\n"
     ]
    }
   ],
   "source": [
    "print(ages + ages)"
   ]
  },
  {
   "cell_type": "code",
   "execution_count": 7,
   "id": "942818e4",
   "metadata": {},
   "outputs": [
    {
     "name": "stdout",
     "output_type": "stream",
     "text": [
      "0    1369\n",
      "1    3721\n",
      "2    8100\n",
      "3    4356\n",
      "4    3136\n",
      "5    2025\n",
      "6    1681\n",
      "7    5929\n",
      "Name: Age, dtype: int64\n"
     ]
    }
   ],
   "source": [
    "print(ages * ages)"
   ]
  },
  {
   "cell_type": "markdown",
   "id": "b14009d8",
   "metadata": {},
   "source": [
    "##### Vectores con números enteros (escalares)\n",
    "Cuando realiza una operación en un vector usando un escalar, el escalar se reciclará en todos los elementos del vector."
   ]
  },
  {
   "cell_type": "code",
   "execution_count": 8,
   "id": "78809c94",
   "metadata": {},
   "outputs": [
    {
     "name": "stdout",
     "output_type": "stream",
     "text": [
      "0    137\n",
      "1    161\n",
      "2    190\n",
      "3    166\n",
      "4    156\n",
      "5    145\n",
      "6    141\n",
      "7    177\n",
      "Name: Age, dtype: int64\n"
     ]
    }
   ],
   "source": [
    "print(ages + 100)"
   ]
  },
  {
   "cell_type": "code",
   "execution_count": 9,
   "id": "9b2ea29b",
   "metadata": {},
   "outputs": [
    {
     "name": "stdout",
     "output_type": "stream",
     "text": [
      "0     74\n",
      "1    122\n",
      "2    180\n",
      "3    132\n",
      "4    112\n",
      "5     90\n",
      "6     82\n",
      "7    154\n",
      "Name: Age, dtype: int64\n"
     ]
    }
   ],
   "source": [
    "print(ages * 2)"
   ]
  },
  {
   "cell_type": "markdown",
   "id": "c16d8dea",
   "metadata": {},
   "source": [
    "###### Vectores con diferentes longitudes\n",
    "\n",
    "Cuando trabajas con vectores de diferentes longitudes, el comportamiento dependerá del `type()` de los vectores. Con una Serie, los vectores realizarán una operación que coincida con el índice. El resto del vector resultante se completará con un valor \"faltante\", denominado NaN, que significa \"no es un número\".\n",
    "\n",
    "Este tipo de comportamiento, que se denomina \"broadcasting\", difiere según el lenguaje. La transmisión (\"broadcasting\" en Pandas se refiere a cómo se calculan las operaciones entre matrices con diferentes formas."
   ]
  },
  {
   "cell_type": "code",
   "execution_count": 11,
   "id": "dbdced00",
   "metadata": {},
   "outputs": [
    {
     "name": "stdout",
     "output_type": "stream",
     "text": [
      "0    38.0\n",
      "1    63.0\n",
      "2    93.0\n",
      "3    70.0\n",
      "4     NaN\n",
      "5     NaN\n",
      "6     NaN\n",
      "7     NaN\n",
      "dtype: float64\n"
     ]
    }
   ],
   "source": [
    "print(ages + pd.Series([1,2,3,4]))"
   ]
  },
  {
   "cell_type": "markdown",
   "id": "afa0f9f8",
   "metadata": {},
   "source": [
    "Con otros tipos la forma (shapes) deben coincidir:"
   ]
  },
  {
   "cell_type": "code",
   "execution_count": 12,
   "id": "d3db2697",
   "metadata": {},
   "outputs": [
    {
     "ename": "ValueError",
     "evalue": "operands could not be broadcast together with shapes (8,) (2,) ",
     "output_type": "error",
     "traceback": [
      "\u001b[1;31m---------------------------------------------------------------------------\u001b[0m",
      "\u001b[1;31mValueError\u001b[0m                                Traceback (most recent call last)",
      "\u001b[1;32m<ipython-input-12-5145150e190b>\u001b[0m in \u001b[0;36m<module>\u001b[1;34m\u001b[0m\n\u001b[0;32m      1\u001b[0m \u001b[1;32mimport\u001b[0m \u001b[0mnumpy\u001b[0m \u001b[1;32mas\u001b[0m \u001b[0mnp\u001b[0m\u001b[1;33m\u001b[0m\u001b[1;33m\u001b[0m\u001b[0m\n\u001b[0;32m      2\u001b[0m \u001b[1;33m\u001b[0m\u001b[0m\n\u001b[1;32m----> 3\u001b[1;33m \u001b[0mprint\u001b[0m\u001b[1;33m(\u001b[0m\u001b[0mages\u001b[0m \u001b[1;33m+\u001b[0m \u001b[0mnp\u001b[0m\u001b[1;33m.\u001b[0m\u001b[0marray\u001b[0m\u001b[1;33m(\u001b[0m\u001b[1;33m[\u001b[0m\u001b[1;36m1\u001b[0m\u001b[1;33m,\u001b[0m\u001b[1;36m100\u001b[0m\u001b[1;33m]\u001b[0m\u001b[1;33m)\u001b[0m\u001b[1;33m)\u001b[0m\u001b[1;33m\u001b[0m\u001b[1;33m\u001b[0m\u001b[0m\n\u001b[0m",
      "\u001b[1;32mC:\\ProgramData\\Anaconda3\\lib\\site-packages\\pandas\\core\\ops\\common.py\u001b[0m in \u001b[0;36mnew_method\u001b[1;34m(self, other)\u001b[0m\n\u001b[0;32m     63\u001b[0m         \u001b[0mother\u001b[0m \u001b[1;33m=\u001b[0m \u001b[0mitem_from_zerodim\u001b[0m\u001b[1;33m(\u001b[0m\u001b[0mother\u001b[0m\u001b[1;33m)\u001b[0m\u001b[1;33m\u001b[0m\u001b[1;33m\u001b[0m\u001b[0m\n\u001b[0;32m     64\u001b[0m \u001b[1;33m\u001b[0m\u001b[0m\n\u001b[1;32m---> 65\u001b[1;33m         \u001b[1;32mreturn\u001b[0m \u001b[0mmethod\u001b[0m\u001b[1;33m(\u001b[0m\u001b[0mself\u001b[0m\u001b[1;33m,\u001b[0m \u001b[0mother\u001b[0m\u001b[1;33m)\u001b[0m\u001b[1;33m\u001b[0m\u001b[1;33m\u001b[0m\u001b[0m\n\u001b[0m\u001b[0;32m     66\u001b[0m \u001b[1;33m\u001b[0m\u001b[0m\n\u001b[0;32m     67\u001b[0m     \u001b[1;32mreturn\u001b[0m \u001b[0mnew_method\u001b[0m\u001b[1;33m\u001b[0m\u001b[1;33m\u001b[0m\u001b[0m\n",
      "\u001b[1;32mC:\\ProgramData\\Anaconda3\\lib\\site-packages\\pandas\\core\\arraylike.py\u001b[0m in \u001b[0;36m__add__\u001b[1;34m(self, other)\u001b[0m\n\u001b[0;32m     87\u001b[0m     \u001b[1;33m@\u001b[0m\u001b[0munpack_zerodim_and_defer\u001b[0m\u001b[1;33m(\u001b[0m\u001b[1;34m\"__add__\"\u001b[0m\u001b[1;33m)\u001b[0m\u001b[1;33m\u001b[0m\u001b[1;33m\u001b[0m\u001b[0m\n\u001b[0;32m     88\u001b[0m     \u001b[1;32mdef\u001b[0m \u001b[0m__add__\u001b[0m\u001b[1;33m(\u001b[0m\u001b[0mself\u001b[0m\u001b[1;33m,\u001b[0m \u001b[0mother\u001b[0m\u001b[1;33m)\u001b[0m\u001b[1;33m:\u001b[0m\u001b[1;33m\u001b[0m\u001b[1;33m\u001b[0m\u001b[0m\n\u001b[1;32m---> 89\u001b[1;33m         \u001b[1;32mreturn\u001b[0m \u001b[0mself\u001b[0m\u001b[1;33m.\u001b[0m\u001b[0m_arith_method\u001b[0m\u001b[1;33m(\u001b[0m\u001b[0mother\u001b[0m\u001b[1;33m,\u001b[0m \u001b[0moperator\u001b[0m\u001b[1;33m.\u001b[0m\u001b[0madd\u001b[0m\u001b[1;33m)\u001b[0m\u001b[1;33m\u001b[0m\u001b[1;33m\u001b[0m\u001b[0m\n\u001b[0m\u001b[0;32m     90\u001b[0m \u001b[1;33m\u001b[0m\u001b[0m\n\u001b[0;32m     91\u001b[0m     \u001b[1;33m@\u001b[0m\u001b[0munpack_zerodim_and_defer\u001b[0m\u001b[1;33m(\u001b[0m\u001b[1;34m\"__radd__\"\u001b[0m\u001b[1;33m)\u001b[0m\u001b[1;33m\u001b[0m\u001b[1;33m\u001b[0m\u001b[0m\n",
      "\u001b[1;32mC:\\ProgramData\\Anaconda3\\lib\\site-packages\\pandas\\core\\series.py\u001b[0m in \u001b[0;36m_arith_method\u001b[1;34m(self, other, op)\u001b[0m\n\u001b[0;32m   4996\u001b[0m         \u001b[0mlvalues\u001b[0m \u001b[1;33m=\u001b[0m \u001b[0mextract_array\u001b[0m\u001b[1;33m(\u001b[0m\u001b[0mself\u001b[0m\u001b[1;33m,\u001b[0m \u001b[0mextract_numpy\u001b[0m\u001b[1;33m=\u001b[0m\u001b[1;32mTrue\u001b[0m\u001b[1;33m)\u001b[0m\u001b[1;33m\u001b[0m\u001b[1;33m\u001b[0m\u001b[0m\n\u001b[0;32m   4997\u001b[0m         \u001b[0mrvalues\u001b[0m \u001b[1;33m=\u001b[0m \u001b[0mextract_array\u001b[0m\u001b[1;33m(\u001b[0m\u001b[0mother\u001b[0m\u001b[1;33m,\u001b[0m \u001b[0mextract_numpy\u001b[0m\u001b[1;33m=\u001b[0m\u001b[1;32mTrue\u001b[0m\u001b[1;33m)\u001b[0m\u001b[1;33m\u001b[0m\u001b[1;33m\u001b[0m\u001b[0m\n\u001b[1;32m-> 4998\u001b[1;33m         \u001b[0mresult\u001b[0m \u001b[1;33m=\u001b[0m \u001b[0mops\u001b[0m\u001b[1;33m.\u001b[0m\u001b[0marithmetic_op\u001b[0m\u001b[1;33m(\u001b[0m\u001b[0mlvalues\u001b[0m\u001b[1;33m,\u001b[0m \u001b[0mrvalues\u001b[0m\u001b[1;33m,\u001b[0m \u001b[0mop\u001b[0m\u001b[1;33m)\u001b[0m\u001b[1;33m\u001b[0m\u001b[1;33m\u001b[0m\u001b[0m\n\u001b[0m\u001b[0;32m   4999\u001b[0m \u001b[1;33m\u001b[0m\u001b[0m\n\u001b[0;32m   5000\u001b[0m         \u001b[1;32mreturn\u001b[0m \u001b[0mself\u001b[0m\u001b[1;33m.\u001b[0m\u001b[0m_construct_result\u001b[0m\u001b[1;33m(\u001b[0m\u001b[0mresult\u001b[0m\u001b[1;33m,\u001b[0m \u001b[0mname\u001b[0m\u001b[1;33m=\u001b[0m\u001b[0mres_name\u001b[0m\u001b[1;33m)\u001b[0m\u001b[1;33m\u001b[0m\u001b[1;33m\u001b[0m\u001b[0m\n",
      "\u001b[1;32mC:\\ProgramData\\Anaconda3\\lib\\site-packages\\pandas\\core\\ops\\array_ops.py\u001b[0m in \u001b[0;36marithmetic_op\u001b[1;34m(left, right, op)\u001b[0m\n\u001b[0;32m    187\u001b[0m     \u001b[1;32melse\u001b[0m\u001b[1;33m:\u001b[0m\u001b[1;33m\u001b[0m\u001b[1;33m\u001b[0m\u001b[0m\n\u001b[0;32m    188\u001b[0m         \u001b[1;32mwith\u001b[0m \u001b[0mnp\u001b[0m\u001b[1;33m.\u001b[0m\u001b[0merrstate\u001b[0m\u001b[1;33m(\u001b[0m\u001b[0mall\u001b[0m\u001b[1;33m=\u001b[0m\u001b[1;34m\"ignore\"\u001b[0m\u001b[1;33m)\u001b[0m\u001b[1;33m:\u001b[0m\u001b[1;33m\u001b[0m\u001b[1;33m\u001b[0m\u001b[0m\n\u001b[1;32m--> 189\u001b[1;33m             \u001b[0mres_values\u001b[0m \u001b[1;33m=\u001b[0m \u001b[0m_na_arithmetic_op\u001b[0m\u001b[1;33m(\u001b[0m\u001b[0mlvalues\u001b[0m\u001b[1;33m,\u001b[0m \u001b[0mrvalues\u001b[0m\u001b[1;33m,\u001b[0m \u001b[0mop\u001b[0m\u001b[1;33m)\u001b[0m\u001b[1;33m\u001b[0m\u001b[1;33m\u001b[0m\u001b[0m\n\u001b[0m\u001b[0;32m    190\u001b[0m \u001b[1;33m\u001b[0m\u001b[0m\n\u001b[0;32m    191\u001b[0m     \u001b[1;32mreturn\u001b[0m \u001b[0mres_values\u001b[0m\u001b[1;33m\u001b[0m\u001b[1;33m\u001b[0m\u001b[0m\n",
      "\u001b[1;32mC:\\ProgramData\\Anaconda3\\lib\\site-packages\\pandas\\core\\ops\\array_ops.py\u001b[0m in \u001b[0;36m_na_arithmetic_op\u001b[1;34m(left, right, op, is_cmp)\u001b[0m\n\u001b[0;32m    140\u001b[0m \u001b[1;33m\u001b[0m\u001b[0m\n\u001b[0;32m    141\u001b[0m     \u001b[1;32mtry\u001b[0m\u001b[1;33m:\u001b[0m\u001b[1;33m\u001b[0m\u001b[1;33m\u001b[0m\u001b[0m\n\u001b[1;32m--> 142\u001b[1;33m         \u001b[0mresult\u001b[0m \u001b[1;33m=\u001b[0m \u001b[0mexpressions\u001b[0m\u001b[1;33m.\u001b[0m\u001b[0mevaluate\u001b[0m\u001b[1;33m(\u001b[0m\u001b[0mop\u001b[0m\u001b[1;33m,\u001b[0m \u001b[0mleft\u001b[0m\u001b[1;33m,\u001b[0m \u001b[0mright\u001b[0m\u001b[1;33m)\u001b[0m\u001b[1;33m\u001b[0m\u001b[1;33m\u001b[0m\u001b[0m\n\u001b[0m\u001b[0;32m    143\u001b[0m     \u001b[1;32mexcept\u001b[0m \u001b[0mTypeError\u001b[0m\u001b[1;33m:\u001b[0m\u001b[1;33m\u001b[0m\u001b[1;33m\u001b[0m\u001b[0m\n\u001b[0;32m    144\u001b[0m         \u001b[1;32mif\u001b[0m \u001b[0mis_cmp\u001b[0m\u001b[1;33m:\u001b[0m\u001b[1;33m\u001b[0m\u001b[1;33m\u001b[0m\u001b[0m\n",
      "\u001b[1;32mC:\\ProgramData\\Anaconda3\\lib\\site-packages\\pandas\\core\\computation\\expressions.py\u001b[0m in \u001b[0;36mevaluate\u001b[1;34m(op, a, b, use_numexpr)\u001b[0m\n\u001b[0;32m    233\u001b[0m         \u001b[1;32mif\u001b[0m \u001b[0muse_numexpr\u001b[0m\u001b[1;33m:\u001b[0m\u001b[1;33m\u001b[0m\u001b[1;33m\u001b[0m\u001b[0m\n\u001b[0;32m    234\u001b[0m             \u001b[1;31m# error: \"None\" not callable\u001b[0m\u001b[1;33m\u001b[0m\u001b[1;33m\u001b[0m\u001b[1;33m\u001b[0m\u001b[0m\n\u001b[1;32m--> 235\u001b[1;33m             \u001b[1;32mreturn\u001b[0m \u001b[0m_evaluate\u001b[0m\u001b[1;33m(\u001b[0m\u001b[0mop\u001b[0m\u001b[1;33m,\u001b[0m \u001b[0mop_str\u001b[0m\u001b[1;33m,\u001b[0m \u001b[0ma\u001b[0m\u001b[1;33m,\u001b[0m \u001b[0mb\u001b[0m\u001b[1;33m)\u001b[0m  \u001b[1;31m# type: ignore[misc]\u001b[0m\u001b[1;33m\u001b[0m\u001b[1;33m\u001b[0m\u001b[0m\n\u001b[0m\u001b[0;32m    236\u001b[0m     \u001b[1;32mreturn\u001b[0m \u001b[0m_evaluate_standard\u001b[0m\u001b[1;33m(\u001b[0m\u001b[0mop\u001b[0m\u001b[1;33m,\u001b[0m \u001b[0mop_str\u001b[0m\u001b[1;33m,\u001b[0m \u001b[0ma\u001b[0m\u001b[1;33m,\u001b[0m \u001b[0mb\u001b[0m\u001b[1;33m)\u001b[0m\u001b[1;33m\u001b[0m\u001b[1;33m\u001b[0m\u001b[0m\n\u001b[0;32m    237\u001b[0m \u001b[1;33m\u001b[0m\u001b[0m\n",
      "\u001b[1;32mC:\\ProgramData\\Anaconda3\\lib\\site-packages\\pandas\\core\\computation\\expressions.py\u001b[0m in \u001b[0;36m_evaluate_standard\u001b[1;34m(op, op_str, a, b)\u001b[0m\n\u001b[0;32m     67\u001b[0m         \u001b[0m_store_test_result\u001b[0m\u001b[1;33m(\u001b[0m\u001b[1;32mFalse\u001b[0m\u001b[1;33m)\u001b[0m\u001b[1;33m\u001b[0m\u001b[1;33m\u001b[0m\u001b[0m\n\u001b[0;32m     68\u001b[0m     \u001b[1;32mwith\u001b[0m \u001b[0mnp\u001b[0m\u001b[1;33m.\u001b[0m\u001b[0merrstate\u001b[0m\u001b[1;33m(\u001b[0m\u001b[0mall\u001b[0m\u001b[1;33m=\u001b[0m\u001b[1;34m\"ignore\"\u001b[0m\u001b[1;33m)\u001b[0m\u001b[1;33m:\u001b[0m\u001b[1;33m\u001b[0m\u001b[1;33m\u001b[0m\u001b[0m\n\u001b[1;32m---> 69\u001b[1;33m         \u001b[1;32mreturn\u001b[0m \u001b[0mop\u001b[0m\u001b[1;33m(\u001b[0m\u001b[0ma\u001b[0m\u001b[1;33m,\u001b[0m \u001b[0mb\u001b[0m\u001b[1;33m)\u001b[0m\u001b[1;33m\u001b[0m\u001b[1;33m\u001b[0m\u001b[0m\n\u001b[0m\u001b[0;32m     70\u001b[0m \u001b[1;33m\u001b[0m\u001b[0m\n\u001b[0;32m     71\u001b[0m \u001b[1;33m\u001b[0m\u001b[0m\n",
      "\u001b[1;31mValueError\u001b[0m: operands could not be broadcast together with shapes (8,) (2,) "
     ]
    }
   ],
   "source": [
    "import numpy as np\n",
    "# Genera error\n",
    "print(ages + np.array([1,100]))"
   ]
  },
  {
   "cell_type": "markdown",
   "id": "76dc5cf0",
   "metadata": {},
   "source": [
    "##### Vectores con etiquetas de índice comunes (alineación automática)\n",
    "\n",
    "Lo conveniente de Pandas es que la alineación de datos casi siempre es automática. Si es posible, las cosas siempre se alinearán con la etiqueta de índice cuando se realicen acciones."
   ]
  },
  {
   "cell_type": "code",
   "execution_count": 13,
   "id": "39389f0a",
   "metadata": {},
   "outputs": [
    {
     "name": "stdout",
     "output_type": "stream",
     "text": [
      "0    37\n",
      "1    61\n",
      "2    90\n",
      "3    66\n",
      "4    56\n",
      "5    45\n",
      "6    41\n",
      "7    77\n",
      "Name: Age, dtype: int64\n"
     ]
    }
   ],
   "source": [
    "print(ages)"
   ]
  },
  {
   "cell_type": "code",
   "execution_count": 15,
   "id": "14c05b0b",
   "metadata": {},
   "outputs": [
    {
     "data": {
      "text/plain": [
       "7    77\n",
       "6    41\n",
       "5    45\n",
       "4    56\n",
       "3    66\n",
       "2    90\n",
       "1    61\n",
       "0    37\n",
       "Name: Age, dtype: int64"
      ]
     },
     "execution_count": 15,
     "metadata": {},
     "output_type": "execute_result"
    }
   ],
   "source": [
    "rev_ages = ages.sort_index(ascending=False)\n",
    "rev_ages"
   ]
  },
  {
   "cell_type": "markdown",
   "id": "e3bff6b5",
   "metadata": {},
   "source": [
    "Si realizamos una operación usando ages y rev_ages, aún se realizará elemento por elemento, pero los vectores se alinearán primero antes de realizar la operación."
   ]
  },
  {
   "cell_type": "code",
   "execution_count": 16,
   "id": "29ec863c",
   "metadata": {},
   "outputs": [
    {
     "name": "stdout",
     "output_type": "stream",
     "text": [
      "0     74\n",
      "1    122\n",
      "2    180\n",
      "3    132\n",
      "4    112\n",
      "5     90\n",
      "6     82\n",
      "7    154\n",
      "Name: Age, dtype: int64\n"
     ]
    }
   ],
   "source": [
    "print(ages*2)"
   ]
  },
  {
   "cell_type": "code",
   "execution_count": 18,
   "id": "b5bbb378",
   "metadata": {},
   "outputs": [
    {
     "name": "stdout",
     "output_type": "stream",
     "text": [
      "0     74\n",
      "1    122\n",
      "2    180\n",
      "3    132\n",
      "4    112\n",
      "5     90\n",
      "6     82\n",
      "7    154\n",
      "Name: Age, dtype: int64\n"
     ]
    }
   ],
   "source": [
    "print(ages + rev_ages)"
   ]
  },
  {
   "cell_type": "markdown",
   "id": "3d3f59cd",
   "metadata": {},
   "source": [
    "### El DataFrame\n",
    "\n",
    "El DataFrame es el objeto Pandas más común. Se puede considerar como la forma en que Python almacena datos similares a hojas de cálculo. Muchas de las características de la estructura de datos de la Serie se trasladan al DataFrame."
   ]
  },
  {
   "cell_type": "markdown",
   "id": "aab054cc",
   "metadata": {},
   "source": [
    "#### Partes de un DataFrame\n",
    "\n",
    "Hay 3 partes principales en un objeto Pandas DataFrame: .index, .columns y .values. Estos se refieren al nombre de la fila, los nombres de las columnas y los valores de los datos, respectivamente."
   ]
  },
  {
   "cell_type": "code",
   "execution_count": 19,
   "id": "bfad98e3",
   "metadata": {},
   "outputs": [
    {
     "data": {
      "text/plain": [
       "RangeIndex(start=0, stop=8, step=1)"
      ]
     },
     "execution_count": 19,
     "metadata": {},
     "output_type": "execute_result"
    }
   ],
   "source": [
    "scientists.index"
   ]
  },
  {
   "cell_type": "code",
   "execution_count": 20,
   "id": "03f22d89",
   "metadata": {},
   "outputs": [
    {
     "data": {
      "text/plain": [
       "Index(['Name', 'Born', 'Died', 'Age', 'Occupation'], dtype='object')"
      ]
     },
     "execution_count": 20,
     "metadata": {},
     "output_type": "execute_result"
    }
   ],
   "source": [
    "scientists.columns"
   ]
  },
  {
   "cell_type": "code",
   "execution_count": 21,
   "id": "bed75a30",
   "metadata": {},
   "outputs": [
    {
     "data": {
      "text/plain": [
       "array([['Rosaline Franklin', '1920-07-25', '1958-04-16', 37, 'Chemist'],\n",
       "       ['William Gosset', '1876-06-13', '1937-10-16', 61, 'Statistician'],\n",
       "       ['Florence Nightingale', '1820-05-12', '1910-08-13', 90, 'Nurse'],\n",
       "       ['Marie Curie', '1867-11-07', '1934-07-04', 66, 'Chemist'],\n",
       "       ['Rachel Carson', '1907-05-27', '1964-04-14', 56, 'Biologist'],\n",
       "       ['John Snow', '1813-03-15', '1858-06-16', 45, 'Physician'],\n",
       "       ['Alan Turing', '1912-06-23', '1954-06-07', 41,\n",
       "        'Computer Scientist'],\n",
       "       ['Johann Gauss', '1777-04-30', '1855-02-23', 77, 'Mathematician']],\n",
       "      dtype=object)"
      ]
     },
     "execution_count": 21,
     "metadata": {},
     "output_type": "execute_result"
    }
   ],
   "source": [
    "scientists.values"
   ]
  },
  {
   "cell_type": "markdown",
   "id": "24523cb7",
   "metadata": {},
   "source": [
    "Los .values son útiles cuando no desea toda la información de la etiqueta del índice de fila y realmente solo desea la representación básica de `numpy` de los datos."
   ]
  },
  {
   "cell_type": "markdown",
   "id": "b6bf1f7d",
   "metadata": {},
   "source": [
    "#### Subconjunto booleano: DataFrames\n",
    "\n",
    "Así como pudimos crear un subconjunto de una serie con un vector booleano, también podemos crear un subconjunto de un DataFrame con un bool."
   ]
  },
  {
   "cell_type": "code",
   "execution_count": 22,
   "id": "73256b5f",
   "metadata": {},
   "outputs": [
    {
     "data": {
      "text/html": [
       "<div>\n",
       "<style scoped>\n",
       "    .dataframe tbody tr th:only-of-type {\n",
       "        vertical-align: middle;\n",
       "    }\n",
       "\n",
       "    .dataframe tbody tr th {\n",
       "        vertical-align: top;\n",
       "    }\n",
       "\n",
       "    .dataframe thead th {\n",
       "        text-align: right;\n",
       "    }\n",
       "</style>\n",
       "<table border=\"1\" class=\"dataframe\">\n",
       "  <thead>\n",
       "    <tr style=\"text-align: right;\">\n",
       "      <th></th>\n",
       "      <th>Name</th>\n",
       "      <th>Born</th>\n",
       "      <th>Died</th>\n",
       "      <th>Age</th>\n",
       "      <th>Occupation</th>\n",
       "    </tr>\n",
       "  </thead>\n",
       "  <tbody>\n",
       "    <tr>\n",
       "      <th>1</th>\n",
       "      <td>William Gosset</td>\n",
       "      <td>1876-06-13</td>\n",
       "      <td>1937-10-16</td>\n",
       "      <td>61</td>\n",
       "      <td>Statistician</td>\n",
       "    </tr>\n",
       "    <tr>\n",
       "      <th>2</th>\n",
       "      <td>Florence Nightingale</td>\n",
       "      <td>1820-05-12</td>\n",
       "      <td>1910-08-13</td>\n",
       "      <td>90</td>\n",
       "      <td>Nurse</td>\n",
       "    </tr>\n",
       "    <tr>\n",
       "      <th>3</th>\n",
       "      <td>Marie Curie</td>\n",
       "      <td>1867-11-07</td>\n",
       "      <td>1934-07-04</td>\n",
       "      <td>66</td>\n",
       "      <td>Chemist</td>\n",
       "    </tr>\n",
       "    <tr>\n",
       "      <th>7</th>\n",
       "      <td>Johann Gauss</td>\n",
       "      <td>1777-04-30</td>\n",
       "      <td>1855-02-23</td>\n",
       "      <td>77</td>\n",
       "      <td>Mathematician</td>\n",
       "    </tr>\n",
       "  </tbody>\n",
       "</table>\n",
       "</div>"
      ],
      "text/plain": [
       "                   Name        Born        Died  Age     Occupation\n",
       "1        William Gosset  1876-06-13  1937-10-16   61   Statistician\n",
       "2  Florence Nightingale  1820-05-12  1910-08-13   90          Nurse\n",
       "3           Marie Curie  1867-11-07  1934-07-04   66        Chemist\n",
       "7          Johann Gauss  1777-04-30  1855-02-23   77  Mathematician"
      ]
     },
     "execution_count": 22,
     "metadata": {},
     "output_type": "execute_result"
    }
   ],
   "source": [
    "scientists.loc[scientists['Age']>scientists['Age'].mean()]"
   ]
  },
  {
   "cell_type": "code",
   "execution_count": 24,
   "id": "d2e463e7",
   "metadata": {},
   "outputs": [
    {
     "data": {
      "text/html": [
       "<div>\n",
       "<style scoped>\n",
       "    .dataframe tbody tr th:only-of-type {\n",
       "        vertical-align: middle;\n",
       "    }\n",
       "\n",
       "    .dataframe tbody tr th {\n",
       "        vertical-align: top;\n",
       "    }\n",
       "\n",
       "    .dataframe thead th {\n",
       "        text-align: right;\n",
       "    }\n",
       "</style>\n",
       "<table border=\"1\" class=\"dataframe\">\n",
       "  <thead>\n",
       "    <tr style=\"text-align: right;\">\n",
       "      <th></th>\n",
       "      <th>Age</th>\n",
       "      <th>Name</th>\n",
       "    </tr>\n",
       "  </thead>\n",
       "  <tbody>\n",
       "    <tr>\n",
       "      <th>0</th>\n",
       "      <td>37</td>\n",
       "      <td>Rosaline Franklin</td>\n",
       "    </tr>\n",
       "    <tr>\n",
       "      <th>1</th>\n",
       "      <td>61</td>\n",
       "      <td>William Gosset</td>\n",
       "    </tr>\n",
       "    <tr>\n",
       "      <th>2</th>\n",
       "      <td>90</td>\n",
       "      <td>Florence Nightingale</td>\n",
       "    </tr>\n",
       "    <tr>\n",
       "      <th>3</th>\n",
       "      <td>66</td>\n",
       "      <td>Marie Curie</td>\n",
       "    </tr>\n",
       "    <tr>\n",
       "      <th>4</th>\n",
       "      <td>56</td>\n",
       "      <td>Rachel Carson</td>\n",
       "    </tr>\n",
       "    <tr>\n",
       "      <th>5</th>\n",
       "      <td>45</td>\n",
       "      <td>John Snow</td>\n",
       "    </tr>\n",
       "    <tr>\n",
       "      <th>6</th>\n",
       "      <td>41</td>\n",
       "      <td>Alan Turing</td>\n",
       "    </tr>\n",
       "    <tr>\n",
       "      <th>7</th>\n",
       "      <td>77</td>\n",
       "      <td>Johann Gauss</td>\n",
       "    </tr>\n",
       "  </tbody>\n",
       "</table>\n",
       "</div>"
      ],
      "text/plain": [
       "   Age                  Name\n",
       "0   37     Rosaline Franklin\n",
       "1   61        William Gosset\n",
       "2   90  Florence Nightingale\n",
       "3   66           Marie Curie\n",
       "4   56         Rachel Carson\n",
       "5   45             John Snow\n",
       "6   41           Alan Turing\n",
       "7   77          Johann Gauss"
      ]
     },
     "execution_count": 24,
     "metadata": {},
     "output_type": "execute_result"
    }
   ],
   "source": [
    "scientists[['Age', 'Name']]"
   ]
  },
  {
   "cell_type": "code",
   "execution_count": 25,
   "id": "25f10fc0",
   "metadata": {},
   "outputs": [
    {
     "data": {
      "text/plain": [
       "0    37\n",
       "1    61\n",
       "2    90\n",
       "3    66\n",
       "4    56\n",
       "5    45\n",
       "6    41\n",
       "7    77\n",
       "Name: Age, dtype: int64"
      ]
     },
     "execution_count": 25,
     "metadata": {},
     "output_type": "execute_result"
    }
   ],
   "source": [
    "scientists['Age']"
   ]
  },
  {
   "cell_type": "code",
   "execution_count": 36,
   "id": "bf056ea4",
   "metadata": {},
   "outputs": [
    {
     "data": {
      "text/html": [
       "<div>\n",
       "<style scoped>\n",
       "    .dataframe tbody tr th:only-of-type {\n",
       "        vertical-align: middle;\n",
       "    }\n",
       "\n",
       "    .dataframe tbody tr th {\n",
       "        vertical-align: top;\n",
       "    }\n",
       "\n",
       "    .dataframe thead th {\n",
       "        text-align: right;\n",
       "    }\n",
       "</style>\n",
       "<table border=\"1\" class=\"dataframe\">\n",
       "  <thead>\n",
       "    <tr style=\"text-align: right;\">\n",
       "      <th></th>\n",
       "      <th>Name</th>\n",
       "      <th>Born</th>\n",
       "      <th>Died</th>\n",
       "      <th>Age</th>\n",
       "      <th>Occupation</th>\n",
       "    </tr>\n",
       "  </thead>\n",
       "  <tbody>\n",
       "    <tr>\n",
       "      <th>1</th>\n",
       "      <td>William Gosset</td>\n",
       "      <td>1876-06-13</td>\n",
       "      <td>1937-10-16</td>\n",
       "      <td>61</td>\n",
       "      <td>Statistician</td>\n",
       "    </tr>\n",
       "    <tr>\n",
       "      <th>2</th>\n",
       "      <td>Florence Nightingale</td>\n",
       "      <td>1820-05-12</td>\n",
       "      <td>1910-08-13</td>\n",
       "      <td>90</td>\n",
       "      <td>Nurse</td>\n",
       "    </tr>\n",
       "    <tr>\n",
       "      <th>7</th>\n",
       "      <td>Johann Gauss</td>\n",
       "      <td>1777-04-30</td>\n",
       "      <td>1855-02-23</td>\n",
       "      <td>77</td>\n",
       "      <td>Mathematician</td>\n",
       "    </tr>\n",
       "  </tbody>\n",
       "</table>\n",
       "</div>"
      ],
      "text/plain": [
       "                   Name        Born        Died  Age     Occupation\n",
       "1        William Gosset  1876-06-13  1937-10-16   61   Statistician\n",
       "2  Florence Nightingale  1820-05-12  1910-08-13   90          Nurse\n",
       "7          Johann Gauss  1777-04-30  1855-02-23   77  Mathematician"
      ]
     },
     "execution_count": 36,
     "metadata": {},
     "output_type": "execute_result"
    }
   ],
   "source": [
    "scientists.loc[(scientists['Name'] == 'William Gosset') | (scientists['Age'] > 70) ]"
   ]
  },
  {
   "cell_type": "markdown",
   "id": "33303e2a",
   "metadata": {},
   "source": [
    "#### Las operaciones se alinean y vectorizan automáticamente (Broadcasting 'transmisión')\n",
    "\n",
    "Pandas admite la transmisión porque los objetos Series y DataFrame se crean sobre la biblioteca numpy. La transmisión describe lo que sucede al realizar operaciones entre objetos similares a matrices. Estos comportamientos dependen del tipo de objeto, su longitud y las etiquetas asociadas con el objeto."
   ]
  },
  {
   "cell_type": "code",
   "execution_count": 37,
   "id": "e914c498",
   "metadata": {},
   "outputs": [
    {
     "name": "stdout",
     "output_type": "stream",
     "text": [
      "                   Name        Born        Died  Age    Occupation\n",
      "0     Rosaline Franklin  1920-07-25  1958-04-16   37       Chemist\n",
      "1        William Gosset  1876-06-13  1937-10-16   61  Statistician\n",
      "2  Florence Nightingale  1820-05-12  1910-08-13   90         Nurse\n",
      "3           Marie Curie  1867-11-07  1934-07-04   66       Chemist\n",
      "            Name        Born        Died  Age          Occupation\n",
      "4  Rachel Carson  1907-05-27  1964-04-14   56           Biologist\n",
      "5      John Snow  1813-03-15  1858-06-16   45           Physician\n",
      "6    Alan Turing  1912-06-23  1954-06-07   41  Computer Scientist\n",
      "7   Johann Gauss  1777-04-30  1855-02-23   77       Mathematician\n"
     ]
    }
   ],
   "source": [
    "first_half = scientists[:4]\n",
    "second_half = scientists[4:]\n",
    "\n",
    "print(first_half)\n",
    "print(second_half)"
   ]
  },
  {
   "cell_type": "markdown",
   "id": "53124906",
   "metadata": {},
   "source": [
    "Cuando realizamos una acción en un dataframe con un escalar, intentará aplicar la operación en cada celda del dataframe. En este ejemplo, los números se multiplicarán por 2 y las cadenas se duplicarán (este es el comportamiento normal de Python con las cadenas)."
   ]
  },
  {
   "cell_type": "code",
   "execution_count": 38,
   "id": "ded10ed2",
   "metadata": {},
   "outputs": [
    {
     "name": "stdout",
     "output_type": "stream",
     "text": [
      "                                       Name                  Born  \\\n",
      "0        Rosaline FranklinRosaline Franklin  1920-07-251920-07-25   \n",
      "1              William GossetWilliam Gosset  1876-06-131876-06-13   \n",
      "2  Florence NightingaleFlorence Nightingale  1820-05-121820-05-12   \n",
      "3                    Marie CurieMarie Curie  1867-11-071867-11-07   \n",
      "4                Rachel CarsonRachel Carson  1907-05-271907-05-27   \n",
      "5                        John SnowJohn Snow  1813-03-151813-03-15   \n",
      "6                    Alan TuringAlan Turing  1912-06-231912-06-23   \n",
      "7                  Johann GaussJohann Gauss  1777-04-301777-04-30   \n",
      "\n",
      "                   Died  Age                            Occupation  \n",
      "0  1958-04-161958-04-16   74                        ChemistChemist  \n",
      "1  1937-10-161937-10-16  122              StatisticianStatistician  \n",
      "2  1910-08-131910-08-13  180                            NurseNurse  \n",
      "3  1934-07-041934-07-04  132                        ChemistChemist  \n",
      "4  1964-04-141964-04-14  112                    BiologistBiologist  \n",
      "5  1858-06-161858-06-16   90                    PhysicianPhysician  \n",
      "6  1954-06-071954-06-07   82  Computer ScientistComputer Scientist  \n",
      "7  1855-02-231855-02-23  154            MathematicianMathematician  \n"
     ]
    }
   ],
   "source": [
    "print(scientists * 2)"
   ]
  },
  {
   "cell_type": "markdown",
   "id": "1993108f",
   "metadata": {},
   "source": [
    "### Haciendo cambios a Series y DataFrames"
   ]
  },
  {
   "cell_type": "markdown",
   "id": "8b3d6831",
   "metadata": {},
   "source": [
    "El tipo de las columnas Born y Died es objeto, lo que significa que son cadenas o una secuencia de caracteres."
   ]
  },
  {
   "cell_type": "code",
   "execution_count": 39,
   "id": "6ac661b5",
   "metadata": {},
   "outputs": [
    {
     "name": "stdout",
     "output_type": "stream",
     "text": [
      "Name          object\n",
      "Born          object\n",
      "Died          object\n",
      "Age            int64\n",
      "Occupation    object\n",
      "dtype: object\n"
     ]
    }
   ],
   "source": [
    "print(scientists.dtypes)"
   ]
  },
  {
   "cell_type": "markdown",
   "id": "bd096dad",
   "metadata": {},
   "source": [
    "Podemos convertir las cadenas a un tipo `datetime` adecuado para poder realizar operaciones comunes de fecha y hora (por ejemplo, tomar diferencias entre fechas o calcular la edad de una persona). Puede proporcionar su propio formato si tiene una fecha que tiene un formato específico. Puede encontrar una lista de variables de formato en la documentación del módulo `datetime` de Python. El formato de nuestra fecha es “YYYY-MM-DD”, por lo que podemos usar el formato %Y-%m-%d."
   ]
  },
  {
   "cell_type": "code",
   "execution_count": 40,
   "id": "ae453459",
   "metadata": {},
   "outputs": [
    {
     "data": {
      "text/plain": [
       "0   1920-07-25\n",
       "1   1876-06-13\n",
       "2   1820-05-12\n",
       "3   1867-11-07\n",
       "4   1907-05-27\n",
       "5   1813-03-15\n",
       "6   1912-06-23\n",
       "7   1777-04-30\n",
       "Name: Born, dtype: datetime64[ns]"
      ]
     },
     "execution_count": 40,
     "metadata": {},
     "output_type": "execute_result"
    }
   ],
   "source": [
    "born_datetime = pd.to_datetime(scientists['Born'], format='%Y-%m-%d')\n",
    "born_datetime"
   ]
  },
  {
   "cell_type": "code",
   "execution_count": 41,
   "id": "cdd61843",
   "metadata": {},
   "outputs": [
    {
     "data": {
      "text/plain": [
       "0   1958-04-16\n",
       "1   1937-10-16\n",
       "2   1910-08-13\n",
       "3   1934-07-04\n",
       "4   1964-04-14\n",
       "5   1858-06-16\n",
       "6   1954-06-07\n",
       "7   1855-02-23\n",
       "Name: Died, dtype: datetime64[ns]"
      ]
     },
     "execution_count": 41,
     "metadata": {},
     "output_type": "execute_result"
    }
   ],
   "source": [
    "died_datetime = pd.to_datetime(scientists['Died'], format='%Y-%m-%d')\n",
    "died_datetime"
   ]
  },
  {
   "cell_type": "markdown",
   "id": "4677c309",
   "metadata": {},
   "source": [
    "Si quisiéramos, podríamos crear un nuevo conjunto de columnas que contengan las representaciones de fecha y hora de las fechas del objeto (cadena)."
   ]
  },
  {
   "cell_type": "code",
   "execution_count": 45,
   "id": "0ef59855",
   "metadata": {},
   "outputs": [
    {
     "data": {
      "text/html": [
       "<div>\n",
       "<style scoped>\n",
       "    .dataframe tbody tr th:only-of-type {\n",
       "        vertical-align: middle;\n",
       "    }\n",
       "\n",
       "    .dataframe tbody tr th {\n",
       "        vertical-align: top;\n",
       "    }\n",
       "\n",
       "    .dataframe thead th {\n",
       "        text-align: right;\n",
       "    }\n",
       "</style>\n",
       "<table border=\"1\" class=\"dataframe\">\n",
       "  <thead>\n",
       "    <tr style=\"text-align: right;\">\n",
       "      <th></th>\n",
       "      <th>Name</th>\n",
       "      <th>Born</th>\n",
       "      <th>Died</th>\n",
       "      <th>Age</th>\n",
       "      <th>Occupation</th>\n",
       "      <th>born_dt</th>\n",
       "      <th>died_dt</th>\n",
       "    </tr>\n",
       "  </thead>\n",
       "  <tbody>\n",
       "    <tr>\n",
       "      <th>0</th>\n",
       "      <td>Rosaline Franklin</td>\n",
       "      <td>1920-07-25</td>\n",
       "      <td>1958-04-16</td>\n",
       "      <td>37</td>\n",
       "      <td>Chemist</td>\n",
       "      <td>1920-07-25</td>\n",
       "      <td>1958-04-16</td>\n",
       "    </tr>\n",
       "    <tr>\n",
       "      <th>1</th>\n",
       "      <td>William Gosset</td>\n",
       "      <td>1876-06-13</td>\n",
       "      <td>1937-10-16</td>\n",
       "      <td>61</td>\n",
       "      <td>Statistician</td>\n",
       "      <td>1876-06-13</td>\n",
       "      <td>1937-10-16</td>\n",
       "    </tr>\n",
       "    <tr>\n",
       "      <th>2</th>\n",
       "      <td>Florence Nightingale</td>\n",
       "      <td>1820-05-12</td>\n",
       "      <td>1910-08-13</td>\n",
       "      <td>90</td>\n",
       "      <td>Nurse</td>\n",
       "      <td>1820-05-12</td>\n",
       "      <td>1910-08-13</td>\n",
       "    </tr>\n",
       "    <tr>\n",
       "      <th>3</th>\n",
       "      <td>Marie Curie</td>\n",
       "      <td>1867-11-07</td>\n",
       "      <td>1934-07-04</td>\n",
       "      <td>66</td>\n",
       "      <td>Chemist</td>\n",
       "      <td>1867-11-07</td>\n",
       "      <td>1934-07-04</td>\n",
       "    </tr>\n",
       "    <tr>\n",
       "      <th>4</th>\n",
       "      <td>Rachel Carson</td>\n",
       "      <td>1907-05-27</td>\n",
       "      <td>1964-04-14</td>\n",
       "      <td>56</td>\n",
       "      <td>Biologist</td>\n",
       "      <td>1907-05-27</td>\n",
       "      <td>1964-04-14</td>\n",
       "    </tr>\n",
       "    <tr>\n",
       "      <th>5</th>\n",
       "      <td>John Snow</td>\n",
       "      <td>1813-03-15</td>\n",
       "      <td>1858-06-16</td>\n",
       "      <td>45</td>\n",
       "      <td>Physician</td>\n",
       "      <td>1813-03-15</td>\n",
       "      <td>1858-06-16</td>\n",
       "    </tr>\n",
       "    <tr>\n",
       "      <th>6</th>\n",
       "      <td>Alan Turing</td>\n",
       "      <td>1912-06-23</td>\n",
       "      <td>1954-06-07</td>\n",
       "      <td>41</td>\n",
       "      <td>Computer Scientist</td>\n",
       "      <td>1912-06-23</td>\n",
       "      <td>1954-06-07</td>\n",
       "    </tr>\n",
       "    <tr>\n",
       "      <th>7</th>\n",
       "      <td>Johann Gauss</td>\n",
       "      <td>1777-04-30</td>\n",
       "      <td>1855-02-23</td>\n",
       "      <td>77</td>\n",
       "      <td>Mathematician</td>\n",
       "      <td>1777-04-30</td>\n",
       "      <td>1855-02-23</td>\n",
       "    </tr>\n",
       "  </tbody>\n",
       "</table>\n",
       "</div>"
      ],
      "text/plain": [
       "                   Name        Born        Died  Age          Occupation  \\\n",
       "0     Rosaline Franklin  1920-07-25  1958-04-16   37             Chemist   \n",
       "1        William Gosset  1876-06-13  1937-10-16   61        Statistician   \n",
       "2  Florence Nightingale  1820-05-12  1910-08-13   90               Nurse   \n",
       "3           Marie Curie  1867-11-07  1934-07-04   66             Chemist   \n",
       "4         Rachel Carson  1907-05-27  1964-04-14   56           Biologist   \n",
       "5             John Snow  1813-03-15  1858-06-16   45           Physician   \n",
       "6           Alan Turing  1912-06-23  1954-06-07   41  Computer Scientist   \n",
       "7          Johann Gauss  1777-04-30  1855-02-23   77       Mathematician   \n",
       "\n",
       "     born_dt    died_dt  \n",
       "0 1920-07-25 1958-04-16  \n",
       "1 1876-06-13 1937-10-16  \n",
       "2 1820-05-12 1910-08-13  \n",
       "3 1867-11-07 1934-07-04  \n",
       "4 1907-05-27 1964-04-14  \n",
       "5 1813-03-15 1858-06-16  \n",
       "6 1912-06-23 1954-06-07  \n",
       "7 1777-04-30 1855-02-23  "
      ]
     },
     "execution_count": 45,
     "metadata": {},
     "output_type": "execute_result"
    }
   ],
   "source": [
    "scientists['born_dt'], scientists['died_dt'] = [born_datetime, died_datetime]\n",
    "scientists"
   ]
  },
  {
   "cell_type": "code",
   "execution_count": 48,
   "id": "c89940cc",
   "metadata": {},
   "outputs": [
    {
     "name": "stdout",
     "output_type": "stream",
     "text": [
      "(8, 7)\n",
      "Name                  object\n",
      "Born                  object\n",
      "Died                  object\n",
      "Age                    int64\n",
      "Occupation            object\n",
      "born_dt       datetime64[ns]\n",
      "died_dt       datetime64[ns]\n",
      "dtype: object\n"
     ]
    }
   ],
   "source": [
    "print(scientists.shape)\n",
    "print(scientists.dtypes)"
   ]
  },
  {
   "cell_type": "markdown",
   "id": "0a8e401f",
   "metadata": {},
   "source": [
    "#### Cambiar directamente una columna\n",
    "También podemos asignar un nuevo valor directamente a la columna existente."
   ]
  },
  {
   "cell_type": "code",
   "execution_count": 50,
   "id": "a3f85c12",
   "metadata": {},
   "outputs": [],
   "source": [
    "# el frac=1 le dice a los pandas que seleccionen aleatoriamente el 100% de los valores\n",
    "# random_state hace que la aleatorización sea la misma cada vez\n",
    "scientists['Age'] = scientists[\"Age\"].sample(frac=1, random_state=42)"
   ]
  },
  {
   "cell_type": "markdown",
   "id": "3a361787",
   "metadata": {},
   "source": [
    "Para fragmentos de código largos, podemos envolver el código entre paréntesis ( ) para dividir el código en varias líneas."
   ]
  },
  {
   "cell_type": "code",
   "execution_count": 52,
   "id": "3f5026c6",
   "metadata": {},
   "outputs": [
    {
     "data": {
      "text/plain": [
       "0    37\n",
       "1    61\n",
       "2    90\n",
       "3    66\n",
       "4    56\n",
       "5    45\n",
       "6    41\n",
       "7    77\n",
       "Name: Age, dtype: int64"
      ]
     },
     "execution_count": 52,
     "metadata": {},
     "output_type": "execute_result"
    }
   ],
   "source": [
    "scientists['Age'] = (\n",
    "    scientists[\"Age\"]\n",
    "    .sample(frac=1, random_state=42)\n",
    ")\n",
    "scientists['Age']"
   ]
  },
  {
   "cell_type": "markdown",
   "id": "4cfcc73a",
   "metadata": {},
   "source": [
    "Si observa, intentamos mezclar aleatoriamente la columna, pero cuando volvimos a asignar los valores al marco de datos, volvió al orden original. Esto se debe a que Pandas intentará unirse automáticamente a los valores .index en muchas operaciones; en este ejemplo, para solucionar este problema, debemos eliminar esa información .index. Una forma de hacerlo es asignar solo los .values de los valores mezclados que no tienen ningún valor .index asociado."
   ]
  },
  {
   "cell_type": "code",
   "execution_count": 55,
   "id": "0e5ecf1a",
   "metadata": {},
   "outputs": [
    {
     "data": {
      "text/plain": [
       "0   22404 days\n",
       "1   16529 days\n",
       "2   13779 days\n",
       "3   28422 days\n",
       "4   32964 days\n",
       "5   20777 days\n",
       "6   24345 days\n",
       "7   15324 days\n",
       "Name: Age, dtype: timedelta64[ns]"
      ]
     },
     "execution_count": 55,
     "metadata": {},
     "output_type": "execute_result"
    }
   ],
   "source": [
    "scientists['Age'] = (\n",
    "    scientists[\"Age\"]\n",
    "    .sample(frac=1, random_state=42).values\n",
    ")\n",
    "scientists['Age']"
   ]
  },
  {
   "cell_type": "markdown",
   "id": "3a9a9d04",
   "metadata": {},
   "source": [
    "Podemos recalcular la edad \"real\" utilizando la aritmética de fecha y hora."
   ]
  },
  {
   "cell_type": "code",
   "execution_count": 57,
   "id": "453b06a9",
   "metadata": {},
   "outputs": [
    {
     "data": {
      "text/html": [
       "<div>\n",
       "<style scoped>\n",
       "    .dataframe tbody tr th:only-of-type {\n",
       "        vertical-align: middle;\n",
       "    }\n",
       "\n",
       "    .dataframe tbody tr th {\n",
       "        vertical-align: top;\n",
       "    }\n",
       "\n",
       "    .dataframe thead th {\n",
       "        text-align: right;\n",
       "    }\n",
       "</style>\n",
       "<table border=\"1\" class=\"dataframe\">\n",
       "  <thead>\n",
       "    <tr style=\"text-align: right;\">\n",
       "      <th></th>\n",
       "      <th>Name</th>\n",
       "      <th>Born</th>\n",
       "      <th>Died</th>\n",
       "      <th>Age</th>\n",
       "      <th>Occupation</th>\n",
       "      <th>born_dt</th>\n",
       "      <th>died_dt</th>\n",
       "      <th>age_days</th>\n",
       "    </tr>\n",
       "  </thead>\n",
       "  <tbody>\n",
       "    <tr>\n",
       "      <th>0</th>\n",
       "      <td>Rosaline Franklin</td>\n",
       "      <td>1920-07-25</td>\n",
       "      <td>1958-04-16</td>\n",
       "      <td>22404 days</td>\n",
       "      <td>Chemist</td>\n",
       "      <td>1920-07-25</td>\n",
       "      <td>1958-04-16</td>\n",
       "      <td>13779 days</td>\n",
       "    </tr>\n",
       "    <tr>\n",
       "      <th>1</th>\n",
       "      <td>William Gosset</td>\n",
       "      <td>1876-06-13</td>\n",
       "      <td>1937-10-16</td>\n",
       "      <td>16529 days</td>\n",
       "      <td>Statistician</td>\n",
       "      <td>1876-06-13</td>\n",
       "      <td>1937-10-16</td>\n",
       "      <td>22404 days</td>\n",
       "    </tr>\n",
       "    <tr>\n",
       "      <th>2</th>\n",
       "      <td>Florence Nightingale</td>\n",
       "      <td>1820-05-12</td>\n",
       "      <td>1910-08-13</td>\n",
       "      <td>13779 days</td>\n",
       "      <td>Nurse</td>\n",
       "      <td>1820-05-12</td>\n",
       "      <td>1910-08-13</td>\n",
       "      <td>32964 days</td>\n",
       "    </tr>\n",
       "    <tr>\n",
       "      <th>3</th>\n",
       "      <td>Marie Curie</td>\n",
       "      <td>1867-11-07</td>\n",
       "      <td>1934-07-04</td>\n",
       "      <td>28422 days</td>\n",
       "      <td>Chemist</td>\n",
       "      <td>1867-11-07</td>\n",
       "      <td>1934-07-04</td>\n",
       "      <td>24345 days</td>\n",
       "    </tr>\n",
       "    <tr>\n",
       "      <th>4</th>\n",
       "      <td>Rachel Carson</td>\n",
       "      <td>1907-05-27</td>\n",
       "      <td>1964-04-14</td>\n",
       "      <td>32964 days</td>\n",
       "      <td>Biologist</td>\n",
       "      <td>1907-05-27</td>\n",
       "      <td>1964-04-14</td>\n",
       "      <td>20777 days</td>\n",
       "    </tr>\n",
       "    <tr>\n",
       "      <th>5</th>\n",
       "      <td>John Snow</td>\n",
       "      <td>1813-03-15</td>\n",
       "      <td>1858-06-16</td>\n",
       "      <td>20777 days</td>\n",
       "      <td>Physician</td>\n",
       "      <td>1813-03-15</td>\n",
       "      <td>1858-06-16</td>\n",
       "      <td>16529 days</td>\n",
       "    </tr>\n",
       "    <tr>\n",
       "      <th>6</th>\n",
       "      <td>Alan Turing</td>\n",
       "      <td>1912-06-23</td>\n",
       "      <td>1954-06-07</td>\n",
       "      <td>24345 days</td>\n",
       "      <td>Computer Scientist</td>\n",
       "      <td>1912-06-23</td>\n",
       "      <td>1954-06-07</td>\n",
       "      <td>15324 days</td>\n",
       "    </tr>\n",
       "    <tr>\n",
       "      <th>7</th>\n",
       "      <td>Johann Gauss</td>\n",
       "      <td>1777-04-30</td>\n",
       "      <td>1855-02-23</td>\n",
       "      <td>15324 days</td>\n",
       "      <td>Mathematician</td>\n",
       "      <td>1777-04-30</td>\n",
       "      <td>1855-02-23</td>\n",
       "      <td>28422 days</td>\n",
       "    </tr>\n",
       "  </tbody>\n",
       "</table>\n",
       "</div>"
      ],
      "text/plain": [
       "                   Name        Born        Died        Age  \\\n",
       "0     Rosaline Franklin  1920-07-25  1958-04-16 22404 days   \n",
       "1        William Gosset  1876-06-13  1937-10-16 16529 days   \n",
       "2  Florence Nightingale  1820-05-12  1910-08-13 13779 days   \n",
       "3           Marie Curie  1867-11-07  1934-07-04 28422 days   \n",
       "4         Rachel Carson  1907-05-27  1964-04-14 32964 days   \n",
       "5             John Snow  1813-03-15  1858-06-16 20777 days   \n",
       "6           Alan Turing  1912-06-23  1954-06-07 24345 days   \n",
       "7          Johann Gauss  1777-04-30  1855-02-23 15324 days   \n",
       "\n",
       "           Occupation    born_dt    died_dt   age_days  \n",
       "0             Chemist 1920-07-25 1958-04-16 13779 days  \n",
       "1        Statistician 1876-06-13 1937-10-16 22404 days  \n",
       "2               Nurse 1820-05-12 1910-08-13 32964 days  \n",
       "3             Chemist 1867-11-07 1934-07-04 24345 days  \n",
       "4           Biologist 1907-05-27 1964-04-14 20777 days  \n",
       "5           Physician 1813-03-15 1858-06-16 16529 days  \n",
       "6  Computer Scientist 1912-06-23 1954-06-07 15324 days  \n",
       "7       Mathematician 1777-04-30 1855-02-23 28422 days  "
      ]
     },
     "execution_count": 57,
     "metadata": {},
     "output_type": "execute_result"
    }
   ],
   "source": [
    "scientists['age_days'] = scientists['died_dt'] - scientists['born_dt']\n",
    "scientists"
   ]
  },
  {
   "cell_type": "markdown",
   "id": "1dbec201",
   "metadata": {},
   "source": [
    "Convertir los dias a añoos"
   ]
  },
  {
   "cell_type": "code",
   "execution_count": 59,
   "id": "24213891",
   "metadata": {},
   "outputs": [
    {
     "data": {
      "text/html": [
       "<div>\n",
       "<style scoped>\n",
       "    .dataframe tbody tr th:only-of-type {\n",
       "        vertical-align: middle;\n",
       "    }\n",
       "\n",
       "    .dataframe tbody tr th {\n",
       "        vertical-align: top;\n",
       "    }\n",
       "\n",
       "    .dataframe thead th {\n",
       "        text-align: right;\n",
       "    }\n",
       "</style>\n",
       "<table border=\"1\" class=\"dataframe\">\n",
       "  <thead>\n",
       "    <tr style=\"text-align: right;\">\n",
       "      <th></th>\n",
       "      <th>Name</th>\n",
       "      <th>Born</th>\n",
       "      <th>Died</th>\n",
       "      <th>Age</th>\n",
       "      <th>Occupation</th>\n",
       "      <th>born_dt</th>\n",
       "      <th>died_dt</th>\n",
       "      <th>age_days</th>\n",
       "      <th>age_years</th>\n",
       "    </tr>\n",
       "  </thead>\n",
       "  <tbody>\n",
       "    <tr>\n",
       "      <th>0</th>\n",
       "      <td>Rosaline Franklin</td>\n",
       "      <td>1920-07-25</td>\n",
       "      <td>1958-04-16</td>\n",
       "      <td>22404 days</td>\n",
       "      <td>Chemist</td>\n",
       "      <td>1920-07-25</td>\n",
       "      <td>1958-04-16</td>\n",
       "      <td>13779 days</td>\n",
       "      <td>37.0</td>\n",
       "    </tr>\n",
       "    <tr>\n",
       "      <th>1</th>\n",
       "      <td>William Gosset</td>\n",
       "      <td>1876-06-13</td>\n",
       "      <td>1937-10-16</td>\n",
       "      <td>16529 days</td>\n",
       "      <td>Statistician</td>\n",
       "      <td>1876-06-13</td>\n",
       "      <td>1937-10-16</td>\n",
       "      <td>22404 days</td>\n",
       "      <td>61.0</td>\n",
       "    </tr>\n",
       "    <tr>\n",
       "      <th>2</th>\n",
       "      <td>Florence Nightingale</td>\n",
       "      <td>1820-05-12</td>\n",
       "      <td>1910-08-13</td>\n",
       "      <td>13779 days</td>\n",
       "      <td>Nurse</td>\n",
       "      <td>1820-05-12</td>\n",
       "      <td>1910-08-13</td>\n",
       "      <td>32964 days</td>\n",
       "      <td>90.0</td>\n",
       "    </tr>\n",
       "    <tr>\n",
       "      <th>3</th>\n",
       "      <td>Marie Curie</td>\n",
       "      <td>1867-11-07</td>\n",
       "      <td>1934-07-04</td>\n",
       "      <td>28422 days</td>\n",
       "      <td>Chemist</td>\n",
       "      <td>1867-11-07</td>\n",
       "      <td>1934-07-04</td>\n",
       "      <td>24345 days</td>\n",
       "      <td>66.0</td>\n",
       "    </tr>\n",
       "    <tr>\n",
       "      <th>4</th>\n",
       "      <td>Rachel Carson</td>\n",
       "      <td>1907-05-27</td>\n",
       "      <td>1964-04-14</td>\n",
       "      <td>32964 days</td>\n",
       "      <td>Biologist</td>\n",
       "      <td>1907-05-27</td>\n",
       "      <td>1964-04-14</td>\n",
       "      <td>20777 days</td>\n",
       "      <td>56.0</td>\n",
       "    </tr>\n",
       "    <tr>\n",
       "      <th>5</th>\n",
       "      <td>John Snow</td>\n",
       "      <td>1813-03-15</td>\n",
       "      <td>1858-06-16</td>\n",
       "      <td>20777 days</td>\n",
       "      <td>Physician</td>\n",
       "      <td>1813-03-15</td>\n",
       "      <td>1858-06-16</td>\n",
       "      <td>16529 days</td>\n",
       "      <td>45.0</td>\n",
       "    </tr>\n",
       "    <tr>\n",
       "      <th>6</th>\n",
       "      <td>Alan Turing</td>\n",
       "      <td>1912-06-23</td>\n",
       "      <td>1954-06-07</td>\n",
       "      <td>24345 days</td>\n",
       "      <td>Computer Scientist</td>\n",
       "      <td>1912-06-23</td>\n",
       "      <td>1954-06-07</td>\n",
       "      <td>15324 days</td>\n",
       "      <td>41.0</td>\n",
       "    </tr>\n",
       "    <tr>\n",
       "      <th>7</th>\n",
       "      <td>Johann Gauss</td>\n",
       "      <td>1777-04-30</td>\n",
       "      <td>1855-02-23</td>\n",
       "      <td>15324 days</td>\n",
       "      <td>Mathematician</td>\n",
       "      <td>1777-04-30</td>\n",
       "      <td>1855-02-23</td>\n",
       "      <td>28422 days</td>\n",
       "      <td>77.0</td>\n",
       "    </tr>\n",
       "  </tbody>\n",
       "</table>\n",
       "</div>"
      ],
      "text/plain": [
       "                   Name        Born        Died        Age  \\\n",
       "0     Rosaline Franklin  1920-07-25  1958-04-16 22404 days   \n",
       "1        William Gosset  1876-06-13  1937-10-16 16529 days   \n",
       "2  Florence Nightingale  1820-05-12  1910-08-13 13779 days   \n",
       "3           Marie Curie  1867-11-07  1934-07-04 28422 days   \n",
       "4         Rachel Carson  1907-05-27  1964-04-14 32964 days   \n",
       "5             John Snow  1813-03-15  1858-06-16 20777 days   \n",
       "6           Alan Turing  1912-06-23  1954-06-07 24345 days   \n",
       "7          Johann Gauss  1777-04-30  1855-02-23 15324 days   \n",
       "\n",
       "           Occupation    born_dt    died_dt   age_days  age_years  \n",
       "0             Chemist 1920-07-25 1958-04-16 13779 days       37.0  \n",
       "1        Statistician 1876-06-13 1937-10-16 22404 days       61.0  \n",
       "2               Nurse 1820-05-12 1910-08-13 32964 days       90.0  \n",
       "3             Chemist 1867-11-07 1934-07-04 24345 days       66.0  \n",
       "4           Biologist 1907-05-27 1964-04-14 20777 days       56.0  \n",
       "5           Physician 1813-03-15 1858-06-16 16529 days       45.0  \n",
       "6  Computer Scientist 1912-06-23 1954-06-07 15324 days       41.0  \n",
       "7       Mathematician 1777-04-30 1855-02-23 28422 days       77.0  "
      ]
     },
     "execution_count": 59,
     "metadata": {},
     "output_type": "execute_result"
    }
   ],
   "source": [
    "scientists['age_years'] = (\n",
    "    scientists['age_days'].astype('timedelta64[Y]')\n",
    ")\n",
    "scientists"
   ]
  },
  {
   "cell_type": "markdown",
   "id": "90904aef",
   "metadata": {},
   "source": [
    "#### Modificando columnas con `.assign()`\n",
    "Otra forma de asignar y modificar columnas es con el método `.assign()`. Esto tiene la ventaja de utilizar el encadenamiento de métodos.\n",
    "\n",
    "En la sintaxis: la nueva columna va a la izquierda del signo igual, el cómo calcular valores a la derecha del signo igual. Si son más columnas, separe las columnas nuevas con una coma."
   ]
  },
  {
   "cell_type": "code",
   "execution_count": 60,
   "id": "9a148480",
   "metadata": {},
   "outputs": [
    {
     "data": {
      "text/html": [
       "<div>\n",
       "<style scoped>\n",
       "    .dataframe tbody tr th:only-of-type {\n",
       "        vertical-align: middle;\n",
       "    }\n",
       "\n",
       "    .dataframe tbody tr th {\n",
       "        vertical-align: top;\n",
       "    }\n",
       "\n",
       "    .dataframe thead th {\n",
       "        text-align: right;\n",
       "    }\n",
       "</style>\n",
       "<table border=\"1\" class=\"dataframe\">\n",
       "  <thead>\n",
       "    <tr style=\"text-align: right;\">\n",
       "      <th></th>\n",
       "      <th>Name</th>\n",
       "      <th>Born</th>\n",
       "      <th>Died</th>\n",
       "      <th>Age</th>\n",
       "      <th>Occupation</th>\n",
       "      <th>born_dt</th>\n",
       "      <th>died_dt</th>\n",
       "      <th>age_days</th>\n",
       "      <th>age_years</th>\n",
       "      <th>age_days_assign</th>\n",
       "      <th>age_year_assign</th>\n",
       "    </tr>\n",
       "  </thead>\n",
       "  <tbody>\n",
       "    <tr>\n",
       "      <th>0</th>\n",
       "      <td>Rosaline Franklin</td>\n",
       "      <td>1920-07-25</td>\n",
       "      <td>1958-04-16</td>\n",
       "      <td>22404 days</td>\n",
       "      <td>Chemist</td>\n",
       "      <td>1920-07-25</td>\n",
       "      <td>1958-04-16</td>\n",
       "      <td>13779 days</td>\n",
       "      <td>37.0</td>\n",
       "      <td>13779 days</td>\n",
       "      <td>37.0</td>\n",
       "    </tr>\n",
       "    <tr>\n",
       "      <th>1</th>\n",
       "      <td>William Gosset</td>\n",
       "      <td>1876-06-13</td>\n",
       "      <td>1937-10-16</td>\n",
       "      <td>16529 days</td>\n",
       "      <td>Statistician</td>\n",
       "      <td>1876-06-13</td>\n",
       "      <td>1937-10-16</td>\n",
       "      <td>22404 days</td>\n",
       "      <td>61.0</td>\n",
       "      <td>22404 days</td>\n",
       "      <td>61.0</td>\n",
       "    </tr>\n",
       "    <tr>\n",
       "      <th>2</th>\n",
       "      <td>Florence Nightingale</td>\n",
       "      <td>1820-05-12</td>\n",
       "      <td>1910-08-13</td>\n",
       "      <td>13779 days</td>\n",
       "      <td>Nurse</td>\n",
       "      <td>1820-05-12</td>\n",
       "      <td>1910-08-13</td>\n",
       "      <td>32964 days</td>\n",
       "      <td>90.0</td>\n",
       "      <td>32964 days</td>\n",
       "      <td>90.0</td>\n",
       "    </tr>\n",
       "    <tr>\n",
       "      <th>3</th>\n",
       "      <td>Marie Curie</td>\n",
       "      <td>1867-11-07</td>\n",
       "      <td>1934-07-04</td>\n",
       "      <td>28422 days</td>\n",
       "      <td>Chemist</td>\n",
       "      <td>1867-11-07</td>\n",
       "      <td>1934-07-04</td>\n",
       "      <td>24345 days</td>\n",
       "      <td>66.0</td>\n",
       "      <td>24345 days</td>\n",
       "      <td>66.0</td>\n",
       "    </tr>\n",
       "    <tr>\n",
       "      <th>4</th>\n",
       "      <td>Rachel Carson</td>\n",
       "      <td>1907-05-27</td>\n",
       "      <td>1964-04-14</td>\n",
       "      <td>32964 days</td>\n",
       "      <td>Biologist</td>\n",
       "      <td>1907-05-27</td>\n",
       "      <td>1964-04-14</td>\n",
       "      <td>20777 days</td>\n",
       "      <td>56.0</td>\n",
       "      <td>20777 days</td>\n",
       "      <td>56.0</td>\n",
       "    </tr>\n",
       "    <tr>\n",
       "      <th>5</th>\n",
       "      <td>John Snow</td>\n",
       "      <td>1813-03-15</td>\n",
       "      <td>1858-06-16</td>\n",
       "      <td>20777 days</td>\n",
       "      <td>Physician</td>\n",
       "      <td>1813-03-15</td>\n",
       "      <td>1858-06-16</td>\n",
       "      <td>16529 days</td>\n",
       "      <td>45.0</td>\n",
       "      <td>16529 days</td>\n",
       "      <td>45.0</td>\n",
       "    </tr>\n",
       "    <tr>\n",
       "      <th>6</th>\n",
       "      <td>Alan Turing</td>\n",
       "      <td>1912-06-23</td>\n",
       "      <td>1954-06-07</td>\n",
       "      <td>24345 days</td>\n",
       "      <td>Computer Scientist</td>\n",
       "      <td>1912-06-23</td>\n",
       "      <td>1954-06-07</td>\n",
       "      <td>15324 days</td>\n",
       "      <td>41.0</td>\n",
       "      <td>15324 days</td>\n",
       "      <td>41.0</td>\n",
       "    </tr>\n",
       "    <tr>\n",
       "      <th>7</th>\n",
       "      <td>Johann Gauss</td>\n",
       "      <td>1777-04-30</td>\n",
       "      <td>1855-02-23</td>\n",
       "      <td>15324 days</td>\n",
       "      <td>Mathematician</td>\n",
       "      <td>1777-04-30</td>\n",
       "      <td>1855-02-23</td>\n",
       "      <td>28422 days</td>\n",
       "      <td>77.0</td>\n",
       "      <td>28422 days</td>\n",
       "      <td>77.0</td>\n",
       "    </tr>\n",
       "  </tbody>\n",
       "</table>\n",
       "</div>"
      ],
      "text/plain": [
       "                   Name        Born        Died        Age  \\\n",
       "0     Rosaline Franklin  1920-07-25  1958-04-16 22404 days   \n",
       "1        William Gosset  1876-06-13  1937-10-16 16529 days   \n",
       "2  Florence Nightingale  1820-05-12  1910-08-13 13779 days   \n",
       "3           Marie Curie  1867-11-07  1934-07-04 28422 days   \n",
       "4         Rachel Carson  1907-05-27  1964-04-14 32964 days   \n",
       "5             John Snow  1813-03-15  1858-06-16 20777 days   \n",
       "6           Alan Turing  1912-06-23  1954-06-07 24345 days   \n",
       "7          Johann Gauss  1777-04-30  1855-02-23 15324 days   \n",
       "\n",
       "           Occupation    born_dt    died_dt   age_days  age_years  \\\n",
       "0             Chemist 1920-07-25 1958-04-16 13779 days       37.0   \n",
       "1        Statistician 1876-06-13 1937-10-16 22404 days       61.0   \n",
       "2               Nurse 1820-05-12 1910-08-13 32964 days       90.0   \n",
       "3             Chemist 1867-11-07 1934-07-04 24345 days       66.0   \n",
       "4           Biologist 1907-05-27 1964-04-14 20777 days       56.0   \n",
       "5           Physician 1813-03-15 1858-06-16 16529 days       45.0   \n",
       "6  Computer Scientist 1912-06-23 1954-06-07 15324 days       41.0   \n",
       "7       Mathematician 1777-04-30 1855-02-23 28422 days       77.0   \n",
       "\n",
       "  age_days_assign  age_year_assign  \n",
       "0      13779 days             37.0  \n",
       "1      22404 days             61.0  \n",
       "2      32964 days             90.0  \n",
       "3      24345 days             66.0  \n",
       "4      20777 days             56.0  \n",
       "5      16529 days             45.0  \n",
       "6      15324 days             41.0  \n",
       "7      28422 days             77.0  "
      ]
     },
     "execution_count": 60,
     "metadata": {},
     "output_type": "execute_result"
    }
   ],
   "source": [
    "scientists = scientists.assign(\n",
    "    age_days_assign = scientists['died_dt'] - scientists['born_dt'],\n",
    "    age_year_assign = scientists['age_days'].astype('timedelta64[Y]')\n",
    ")\n",
    "scientists"
   ]
  },
  {
   "cell_type": "markdown",
   "id": "ae797528",
   "metadata": {},
   "source": [
    "#### Eliminando valores\n",
    "\n",
    "Para eliminar una columna, podemos seleccionar todas las columnas que queramos usando las técnicas de subconjunto de columnas, o seleccionar columnas para eliminar con el método `.drop()` en nuestro Dataframe"
   ]
  },
  {
   "cell_type": "code",
   "execution_count": 61,
   "id": "b7d1f5de",
   "metadata": {},
   "outputs": [
    {
     "name": "stdout",
     "output_type": "stream",
     "text": [
      "Index(['Name', 'Born', 'Died', 'Age', 'Occupation', 'born_dt', 'died_dt',\n",
      "       'age_days', 'age_years', 'age_days_assign', 'age_year_assign'],\n",
      "      dtype='object')\n"
     ]
    }
   ],
   "source": [
    "print(scientists.columns)"
   ]
  },
  {
   "cell_type": "markdown",
   "id": "73b8746e",
   "metadata": {},
   "source": [
    "Se proporciona el argumento axis=1 para eliminarlo en columnas"
   ]
  },
  {
   "cell_type": "code",
   "execution_count": 64,
   "id": "82062006",
   "metadata": {},
   "outputs": [
    {
     "data": {
      "text/plain": [
       "Index(['Name', 'Born', 'Died', 'Occupation', 'born_dt', 'died_dt', 'age_days',\n",
       "       'age_years', 'age_days_assign', 'age_year_assign'],\n",
       "      dtype='object')"
      ]
     },
     "execution_count": 64,
     "metadata": {},
     "output_type": "execute_result"
    }
   ],
   "source": [
    "scientists_dropped = scientists.drop(['Age'], axis='columns')\n",
    "scientists_dropped.columns"
   ]
  },
  {
   "cell_type": "code",
   "execution_count": 65,
   "id": "48982724",
   "metadata": {},
   "outputs": [
    {
     "data": {
      "text/html": [
       "<div>\n",
       "<style scoped>\n",
       "    .dataframe tbody tr th:only-of-type {\n",
       "        vertical-align: middle;\n",
       "    }\n",
       "\n",
       "    .dataframe tbody tr th {\n",
       "        vertical-align: top;\n",
       "    }\n",
       "\n",
       "    .dataframe thead th {\n",
       "        text-align: right;\n",
       "    }\n",
       "</style>\n",
       "<table border=\"1\" class=\"dataframe\">\n",
       "  <thead>\n",
       "    <tr style=\"text-align: right;\">\n",
       "      <th></th>\n",
       "      <th>Name</th>\n",
       "      <th>Died</th>\n",
       "      <th>Occupation</th>\n",
       "      <th>born_dt</th>\n",
       "      <th>died_dt</th>\n",
       "      <th>age_days</th>\n",
       "      <th>age_years</th>\n",
       "      <th>age_days_assign</th>\n",
       "      <th>age_year_assign</th>\n",
       "    </tr>\n",
       "  </thead>\n",
       "  <tbody>\n",
       "    <tr>\n",
       "      <th>0</th>\n",
       "      <td>Rosaline Franklin</td>\n",
       "      <td>1958-04-16</td>\n",
       "      <td>Chemist</td>\n",
       "      <td>1920-07-25</td>\n",
       "      <td>1958-04-16</td>\n",
       "      <td>13779 days</td>\n",
       "      <td>37.0</td>\n",
       "      <td>13779 days</td>\n",
       "      <td>37.0</td>\n",
       "    </tr>\n",
       "    <tr>\n",
       "      <th>1</th>\n",
       "      <td>William Gosset</td>\n",
       "      <td>1937-10-16</td>\n",
       "      <td>Statistician</td>\n",
       "      <td>1876-06-13</td>\n",
       "      <td>1937-10-16</td>\n",
       "      <td>22404 days</td>\n",
       "      <td>61.0</td>\n",
       "      <td>22404 days</td>\n",
       "      <td>61.0</td>\n",
       "    </tr>\n",
       "    <tr>\n",
       "      <th>2</th>\n",
       "      <td>Florence Nightingale</td>\n",
       "      <td>1910-08-13</td>\n",
       "      <td>Nurse</td>\n",
       "      <td>1820-05-12</td>\n",
       "      <td>1910-08-13</td>\n",
       "      <td>32964 days</td>\n",
       "      <td>90.0</td>\n",
       "      <td>32964 days</td>\n",
       "      <td>90.0</td>\n",
       "    </tr>\n",
       "    <tr>\n",
       "      <th>3</th>\n",
       "      <td>Marie Curie</td>\n",
       "      <td>1934-07-04</td>\n",
       "      <td>Chemist</td>\n",
       "      <td>1867-11-07</td>\n",
       "      <td>1934-07-04</td>\n",
       "      <td>24345 days</td>\n",
       "      <td>66.0</td>\n",
       "      <td>24345 days</td>\n",
       "      <td>66.0</td>\n",
       "    </tr>\n",
       "    <tr>\n",
       "      <th>4</th>\n",
       "      <td>Rachel Carson</td>\n",
       "      <td>1964-04-14</td>\n",
       "      <td>Biologist</td>\n",
       "      <td>1907-05-27</td>\n",
       "      <td>1964-04-14</td>\n",
       "      <td>20777 days</td>\n",
       "      <td>56.0</td>\n",
       "      <td>20777 days</td>\n",
       "      <td>56.0</td>\n",
       "    </tr>\n",
       "    <tr>\n",
       "      <th>5</th>\n",
       "      <td>John Snow</td>\n",
       "      <td>1858-06-16</td>\n",
       "      <td>Physician</td>\n",
       "      <td>1813-03-15</td>\n",
       "      <td>1858-06-16</td>\n",
       "      <td>16529 days</td>\n",
       "      <td>45.0</td>\n",
       "      <td>16529 days</td>\n",
       "      <td>45.0</td>\n",
       "    </tr>\n",
       "    <tr>\n",
       "      <th>6</th>\n",
       "      <td>Alan Turing</td>\n",
       "      <td>1954-06-07</td>\n",
       "      <td>Computer Scientist</td>\n",
       "      <td>1912-06-23</td>\n",
       "      <td>1954-06-07</td>\n",
       "      <td>15324 days</td>\n",
       "      <td>41.0</td>\n",
       "      <td>15324 days</td>\n",
       "      <td>41.0</td>\n",
       "    </tr>\n",
       "    <tr>\n",
       "      <th>7</th>\n",
       "      <td>Johann Gauss</td>\n",
       "      <td>1855-02-23</td>\n",
       "      <td>Mathematician</td>\n",
       "      <td>1777-04-30</td>\n",
       "      <td>1855-02-23</td>\n",
       "      <td>28422 days</td>\n",
       "      <td>77.0</td>\n",
       "      <td>28422 days</td>\n",
       "      <td>77.0</td>\n",
       "    </tr>\n",
       "  </tbody>\n",
       "</table>\n",
       "</div>"
      ],
      "text/plain": [
       "                   Name        Died          Occupation    born_dt    died_dt  \\\n",
       "0     Rosaline Franklin  1958-04-16             Chemist 1920-07-25 1958-04-16   \n",
       "1        William Gosset  1937-10-16        Statistician 1876-06-13 1937-10-16   \n",
       "2  Florence Nightingale  1910-08-13               Nurse 1820-05-12 1910-08-13   \n",
       "3           Marie Curie  1934-07-04             Chemist 1867-11-07 1934-07-04   \n",
       "4         Rachel Carson  1964-04-14           Biologist 1907-05-27 1964-04-14   \n",
       "5             John Snow  1858-06-16           Physician 1813-03-15 1858-06-16   \n",
       "6           Alan Turing  1954-06-07  Computer Scientist 1912-06-23 1954-06-07   \n",
       "7          Johann Gauss  1855-02-23       Mathematician 1777-04-30 1855-02-23   \n",
       "\n",
       "    age_days  age_years age_days_assign  age_year_assign  \n",
       "0 13779 days       37.0      13779 days             37.0  \n",
       "1 22404 days       61.0      22404 days             61.0  \n",
       "2 32964 days       90.0      32964 days             90.0  \n",
       "3 24345 days       66.0      24345 days             66.0  \n",
       "4 20777 days       56.0      20777 days             56.0  \n",
       "5 16529 days       45.0      16529 days             45.0  \n",
       "6 15324 days       41.0      15324 days             41.0  \n",
       "7 28422 days       77.0      28422 days             77.0  "
      ]
     },
     "execution_count": 65,
     "metadata": {},
     "output_type": "execute_result"
    }
   ],
   "source": [
    "scientists_dropped = scientists.drop(['Age', 'Born'], axis=1)\n",
    "scientists_dropped"
   ]
  },
  {
   "cell_type": "markdown",
   "id": "b939acaa",
   "metadata": {},
   "source": [
    "### Exportando e importando Datos"
   ]
  },
  {
   "cell_type": "markdown",
   "id": "f6e46625",
   "metadata": {},
   "source": [
    "#### Pickle\n",
    "\n",
    "Python tiene una forma de conservar datos. Esta es la forma en que Python serializa y guarda datos en formato binario. La lectura de datos de pickle también es compatible con versiones anteriores. Los archivos pickle generalmente se guardan con una extensión de .p, .pkl o .pickle.\n",
    "\n",
    "La salida de pickle está en formato binario. Si intentas abrirlo en un editor de texto, verás un montón de caracteres confusos.\n",
    "Si el objeto que está guardando es un paso intermedio en un conjunto de cálculos que desea guardar, o si sabe que sus datos permanecerán en el mundo de Python, guardar objetos en un pickle se optimizará para Python y el espacio de almacenamiento en disco. Sin embargo, este enfoque significa que las personas que no usan Python no podrán leer los datos."
   ]
  },
  {
   "cell_type": "markdown",
   "id": "8127eac7",
   "metadata": {},
   "source": [
    "##### Series"
   ]
  },
  {
   "cell_type": "code",
   "execution_count": 66,
   "id": "1581c726",
   "metadata": {},
   "outputs": [
    {
     "data": {
      "text/plain": [
       "0       Rosaline Franklin\n",
       "1          William Gosset\n",
       "2    Florence Nightingale\n",
       "3             Marie Curie\n",
       "4           Rachel Carson\n",
       "5               John Snow\n",
       "6             Alan Turing\n",
       "7            Johann Gauss\n",
       "Name: Name, dtype: object"
      ]
     },
     "execution_count": 66,
     "metadata": {},
     "output_type": "execute_result"
    }
   ],
   "source": [
    "names = scientists['Name']\n",
    "names"
   ]
  },
  {
   "cell_type": "code",
   "execution_count": 67,
   "id": "aaa77555",
   "metadata": {},
   "outputs": [],
   "source": [
    "names.to_pickle('nombres.pickle')"
   ]
  },
  {
   "cell_type": "markdown",
   "id": "ac666b4c",
   "metadata": {},
   "source": [
    "##### DataFrame"
   ]
  },
  {
   "cell_type": "code",
   "execution_count": 70,
   "id": "5a68a174",
   "metadata": {},
   "outputs": [],
   "source": [
    "scientists.to_pickle('nombres_df.pickle')"
   ]
  },
  {
   "cell_type": "markdown",
   "id": "0742a1d4",
   "metadata": {},
   "source": [
    "##### Read pickle data"
   ]
  },
  {
   "cell_type": "code",
   "execution_count": 71,
   "id": "1f4bb285",
   "metadata": {},
   "outputs": [
    {
     "name": "stdout",
     "output_type": "stream",
     "text": [
      "0       Rosaline Franklin\n",
      "1          William Gosset\n",
      "2    Florence Nightingale\n",
      "3             Marie Curie\n",
      "4           Rachel Carson\n",
      "5               John Snow\n",
      "6             Alan Turing\n",
      "7            Johann Gauss\n",
      "Name: Name, dtype: object\n"
     ]
    }
   ],
   "source": [
    "series_pickle = pd.read_pickle('nombres.pickle')\n",
    "print(series_pickle)"
   ]
  },
  {
   "cell_type": "code",
   "execution_count": 73,
   "id": "00a0dedf",
   "metadata": {},
   "outputs": [
    {
     "data": {
      "text/html": [
       "<div>\n",
       "<style scoped>\n",
       "    .dataframe tbody tr th:only-of-type {\n",
       "        vertical-align: middle;\n",
       "    }\n",
       "\n",
       "    .dataframe tbody tr th {\n",
       "        vertical-align: top;\n",
       "    }\n",
       "\n",
       "    .dataframe thead th {\n",
       "        text-align: right;\n",
       "    }\n",
       "</style>\n",
       "<table border=\"1\" class=\"dataframe\">\n",
       "  <thead>\n",
       "    <tr style=\"text-align: right;\">\n",
       "      <th></th>\n",
       "      <th>Name</th>\n",
       "      <th>Born</th>\n",
       "      <th>Died</th>\n",
       "      <th>Age</th>\n",
       "      <th>Occupation</th>\n",
       "      <th>born_dt</th>\n",
       "      <th>died_dt</th>\n",
       "      <th>age_days</th>\n",
       "      <th>age_years</th>\n",
       "      <th>age_days_assign</th>\n",
       "      <th>age_year_assign</th>\n",
       "    </tr>\n",
       "  </thead>\n",
       "  <tbody>\n",
       "    <tr>\n",
       "      <th>0</th>\n",
       "      <td>Rosaline Franklin</td>\n",
       "      <td>1920-07-25</td>\n",
       "      <td>1958-04-16</td>\n",
       "      <td>22404 days</td>\n",
       "      <td>Chemist</td>\n",
       "      <td>1920-07-25</td>\n",
       "      <td>1958-04-16</td>\n",
       "      <td>13779 days</td>\n",
       "      <td>37.0</td>\n",
       "      <td>13779 days</td>\n",
       "      <td>37.0</td>\n",
       "    </tr>\n",
       "    <tr>\n",
       "      <th>1</th>\n",
       "      <td>William Gosset</td>\n",
       "      <td>1876-06-13</td>\n",
       "      <td>1937-10-16</td>\n",
       "      <td>16529 days</td>\n",
       "      <td>Statistician</td>\n",
       "      <td>1876-06-13</td>\n",
       "      <td>1937-10-16</td>\n",
       "      <td>22404 days</td>\n",
       "      <td>61.0</td>\n",
       "      <td>22404 days</td>\n",
       "      <td>61.0</td>\n",
       "    </tr>\n",
       "    <tr>\n",
       "      <th>2</th>\n",
       "      <td>Florence Nightingale</td>\n",
       "      <td>1820-05-12</td>\n",
       "      <td>1910-08-13</td>\n",
       "      <td>13779 days</td>\n",
       "      <td>Nurse</td>\n",
       "      <td>1820-05-12</td>\n",
       "      <td>1910-08-13</td>\n",
       "      <td>32964 days</td>\n",
       "      <td>90.0</td>\n",
       "      <td>32964 days</td>\n",
       "      <td>90.0</td>\n",
       "    </tr>\n",
       "    <tr>\n",
       "      <th>3</th>\n",
       "      <td>Marie Curie</td>\n",
       "      <td>1867-11-07</td>\n",
       "      <td>1934-07-04</td>\n",
       "      <td>28422 days</td>\n",
       "      <td>Chemist</td>\n",
       "      <td>1867-11-07</td>\n",
       "      <td>1934-07-04</td>\n",
       "      <td>24345 days</td>\n",
       "      <td>66.0</td>\n",
       "      <td>24345 days</td>\n",
       "      <td>66.0</td>\n",
       "    </tr>\n",
       "    <tr>\n",
       "      <th>4</th>\n",
       "      <td>Rachel Carson</td>\n",
       "      <td>1907-05-27</td>\n",
       "      <td>1964-04-14</td>\n",
       "      <td>32964 days</td>\n",
       "      <td>Biologist</td>\n",
       "      <td>1907-05-27</td>\n",
       "      <td>1964-04-14</td>\n",
       "      <td>20777 days</td>\n",
       "      <td>56.0</td>\n",
       "      <td>20777 days</td>\n",
       "      <td>56.0</td>\n",
       "    </tr>\n",
       "    <tr>\n",
       "      <th>5</th>\n",
       "      <td>John Snow</td>\n",
       "      <td>1813-03-15</td>\n",
       "      <td>1858-06-16</td>\n",
       "      <td>20777 days</td>\n",
       "      <td>Physician</td>\n",
       "      <td>1813-03-15</td>\n",
       "      <td>1858-06-16</td>\n",
       "      <td>16529 days</td>\n",
       "      <td>45.0</td>\n",
       "      <td>16529 days</td>\n",
       "      <td>45.0</td>\n",
       "    </tr>\n",
       "    <tr>\n",
       "      <th>6</th>\n",
       "      <td>Alan Turing</td>\n",
       "      <td>1912-06-23</td>\n",
       "      <td>1954-06-07</td>\n",
       "      <td>24345 days</td>\n",
       "      <td>Computer Scientist</td>\n",
       "      <td>1912-06-23</td>\n",
       "      <td>1954-06-07</td>\n",
       "      <td>15324 days</td>\n",
       "      <td>41.0</td>\n",
       "      <td>15324 days</td>\n",
       "      <td>41.0</td>\n",
       "    </tr>\n",
       "    <tr>\n",
       "      <th>7</th>\n",
       "      <td>Johann Gauss</td>\n",
       "      <td>1777-04-30</td>\n",
       "      <td>1855-02-23</td>\n",
       "      <td>15324 days</td>\n",
       "      <td>Mathematician</td>\n",
       "      <td>1777-04-30</td>\n",
       "      <td>1855-02-23</td>\n",
       "      <td>28422 days</td>\n",
       "      <td>77.0</td>\n",
       "      <td>28422 days</td>\n",
       "      <td>77.0</td>\n",
       "    </tr>\n",
       "  </tbody>\n",
       "</table>\n",
       "</div>"
      ],
      "text/plain": [
       "                   Name        Born        Died        Age  \\\n",
       "0     Rosaline Franklin  1920-07-25  1958-04-16 22404 days   \n",
       "1        William Gosset  1876-06-13  1937-10-16 16529 days   \n",
       "2  Florence Nightingale  1820-05-12  1910-08-13 13779 days   \n",
       "3           Marie Curie  1867-11-07  1934-07-04 28422 days   \n",
       "4         Rachel Carson  1907-05-27  1964-04-14 32964 days   \n",
       "5             John Snow  1813-03-15  1858-06-16 20777 days   \n",
       "6           Alan Turing  1912-06-23  1954-06-07 24345 days   \n",
       "7          Johann Gauss  1777-04-30  1855-02-23 15324 days   \n",
       "\n",
       "           Occupation    born_dt    died_dt   age_days  age_years  \\\n",
       "0             Chemist 1920-07-25 1958-04-16 13779 days       37.0   \n",
       "1        Statistician 1876-06-13 1937-10-16 22404 days       61.0   \n",
       "2               Nurse 1820-05-12 1910-08-13 32964 days       90.0   \n",
       "3             Chemist 1867-11-07 1934-07-04 24345 days       66.0   \n",
       "4           Biologist 1907-05-27 1964-04-14 20777 days       56.0   \n",
       "5           Physician 1813-03-15 1858-06-16 16529 days       45.0   \n",
       "6  Computer Scientist 1912-06-23 1954-06-07 15324 days       41.0   \n",
       "7       Mathematician 1777-04-30 1855-02-23 28422 days       77.0   \n",
       "\n",
       "  age_days_assign  age_year_assign  \n",
       "0      13779 days             37.0  \n",
       "1      22404 days             61.0  \n",
       "2      32964 days             90.0  \n",
       "3      24345 days             66.0  \n",
       "4      20777 days             56.0  \n",
       "5      16529 days             45.0  \n",
       "6      15324 days             41.0  \n",
       "7      28422 days             77.0  "
      ]
     },
     "execution_count": 73,
     "metadata": {},
     "output_type": "execute_result"
    }
   ],
   "source": [
    "df_pickle = pd.read_pickle('nombres_df.pickle')\n",
    "df_pickle"
   ]
  },
  {
   "cell_type": "markdown",
   "id": "4947fc25",
   "metadata": {},
   "source": [
    "#### CSV\n",
    "\n",
    "Los valores separados por comas (CSV) son el tipo de almacenamiento de datos más flexible. Para cada fila, la información de la columna está separada por una coma. Sin embargo, la coma no es el único tipo de delimitador. Algunos archivos están delimitados por una tabulación (TSV) o incluso por un punto y coma. La razón principal por la que los CSV son el formato de datos preferido al colaborar y compartir datos es porque cualquier programa puede abrir este tipo de estructura de datos. Incluso se puede abrir en un editor de texto. Sin embargo, el formato de almacenamiento universal tiene un precio. Los archivos CSV suelen ser más lentos y ocupan más espacio en disco en comparación con otros formatos binarios.\n",
    "\n",
    "Series y DataFrame tienen un método `.to_csv()` para escribir un archivo CSV. La documentación de Series y DataFrame identifica muchas formas diferentes de modificar el archivo CSV resultante. Por ejemplo, si desea guardar un archivo TSV porque hay comas en sus datos, puede cambiar el parámetro `sep`.\n",
    "\n",
    "De forma predeterminada, el `.index` de un DataFrame se escribe en el archivo CSV. Esto crea un archivo donde la primera columna no tiene nombre y solo contiene los números de fila del marco de datos que se está guardando. Esta columna extraña en el CSV se vuelve problemática cuando intentas volver a leer el CSV en Pandas. Por lo tanto, normalmente colocamos el parámetro index=False al guardar archivos CSV para evitar este problema."
   ]
  },
  {
   "cell_type": "markdown",
   "id": "6ccba495",
   "metadata": {},
   "source": [
    "##### Importar CSV\n",
    "\n",
    "Usa `pd.read_csv()`. ['La documentacion'](https://pandas.pydata.org/docs/reference/api/pandas.read_csv.html)"
   ]
  },
  {
   "cell_type": "markdown",
   "id": "0a7abc93",
   "metadata": {},
   "source": [
    "#### Excel\n",
    "\n",
    "Excel, es probablemente el tipo de datos más utilizado (o el segundo más utilizado, después de los CSV)"
   ]
  },
  {
   "cell_type": "markdown",
   "id": "ddf4cb71",
   "metadata": {},
   "source": [
    "##### Series\n",
    "\n",
    "La estructura de datos de la Serie no tiene un método `.to_excel()` explícito. Si tiene una serie que necesita exportarse a un archivo de Excel, una opción es convertir la serie en un DataFrame de una columna.\n",
    "Antes de guardar y leer archivos de Excel, asegúrese de tener instalada la biblioteca `openpyxl`."
   ]
  },
  {
   "cell_type": "code",
   "execution_count": 74,
   "id": "27ac0826",
   "metadata": {},
   "outputs": [
    {
     "data": {
      "text/html": [
       "<div>\n",
       "<style scoped>\n",
       "    .dataframe tbody tr th:only-of-type {\n",
       "        vertical-align: middle;\n",
       "    }\n",
       "\n",
       "    .dataframe tbody tr th {\n",
       "        vertical-align: top;\n",
       "    }\n",
       "\n",
       "    .dataframe thead th {\n",
       "        text-align: right;\n",
       "    }\n",
       "</style>\n",
       "<table border=\"1\" class=\"dataframe\">\n",
       "  <thead>\n",
       "    <tr style=\"text-align: right;\">\n",
       "      <th></th>\n",
       "      <th>Name</th>\n",
       "    </tr>\n",
       "  </thead>\n",
       "  <tbody>\n",
       "    <tr>\n",
       "      <th>0</th>\n",
       "      <td>Rosaline Franklin</td>\n",
       "    </tr>\n",
       "    <tr>\n",
       "      <th>1</th>\n",
       "      <td>William Gosset</td>\n",
       "    </tr>\n",
       "    <tr>\n",
       "      <th>2</th>\n",
       "      <td>Florence Nightingale</td>\n",
       "    </tr>\n",
       "    <tr>\n",
       "      <th>3</th>\n",
       "      <td>Marie Curie</td>\n",
       "    </tr>\n",
       "    <tr>\n",
       "      <th>4</th>\n",
       "      <td>Rachel Carson</td>\n",
       "    </tr>\n",
       "    <tr>\n",
       "      <th>5</th>\n",
       "      <td>John Snow</td>\n",
       "    </tr>\n",
       "    <tr>\n",
       "      <th>6</th>\n",
       "      <td>Alan Turing</td>\n",
       "    </tr>\n",
       "    <tr>\n",
       "      <th>7</th>\n",
       "      <td>Johann Gauss</td>\n",
       "    </tr>\n",
       "  </tbody>\n",
       "</table>\n",
       "</div>"
      ],
      "text/plain": [
       "                   Name\n",
       "0     Rosaline Franklin\n",
       "1        William Gosset\n",
       "2  Florence Nightingale\n",
       "3           Marie Curie\n",
       "4         Rachel Carson\n",
       "5             John Snow\n",
       "6           Alan Turing\n",
       "7          Johann Gauss"
      ]
     },
     "execution_count": 74,
     "metadata": {},
     "output_type": "execute_result"
    }
   ],
   "source": [
    "# Convertiendo las series a Dataframe\n",
    "\n",
    "names_df = names.to_frame()\n",
    "names_df"
   ]
  },
  {
   "cell_type": "code",
   "execution_count": 75,
   "id": "b9df69d4",
   "metadata": {},
   "outputs": [
    {
     "name": "stderr",
     "output_type": "stream",
     "text": [
      "C:\\ProgramData\\Anaconda3\\lib\\site-packages\\ipykernel_launcher.py:1: FutureWarning: As the xlwt package is no longer maintained, the xlwt engine will be removed in a future version of pandas. This is the only engine in pandas that supports writing in the xls format. Install openpyxl and write to an xlsx file instead. You can set the option io.excel.xls.writer to 'xlwt' to silence this warning. While this option is deprecated and will also raise a warning, it can be globally set and the warning suppressed.\n",
      "  \"\"\"Entry point for launching an IPython kernel.\n"
     ]
    },
    {
     "ename": "ModuleNotFoundError",
     "evalue": "No module named 'xlwt'",
     "output_type": "error",
     "traceback": [
      "\u001b[1;31m---------------------------------------------------------------------------\u001b[0m",
      "\u001b[1;31mModuleNotFoundError\u001b[0m                       Traceback (most recent call last)",
      "\u001b[1;32m<ipython-input-75-ff628d87c74d>\u001b[0m in \u001b[0;36m<module>\u001b[1;34m\u001b[0m\n\u001b[1;32m----> 1\u001b[1;33m \u001b[0mnames_df\u001b[0m\u001b[1;33m.\u001b[0m\u001b[0mto_excel\u001b[0m\u001b[1;33m(\u001b[0m\u001b[1;34m'names.xls'\u001b[0m\u001b[1;33m)\u001b[0m\u001b[1;33m\u001b[0m\u001b[1;33m\u001b[0m\u001b[0m\n\u001b[0m",
      "\u001b[1;32mC:\\ProgramData\\Anaconda3\\lib\\site-packages\\pandas\\core\\generic.py\u001b[0m in \u001b[0;36mto_excel\u001b[1;34m(self, excel_writer, sheet_name, na_rep, float_format, columns, header, index, index_label, startrow, startcol, engine, merge_cells, encoding, inf_rep, verbose, freeze_panes, storage_options)\u001b[0m\n\u001b[0;32m   2194\u001b[0m             \u001b[0mfreeze_panes\u001b[0m\u001b[1;33m=\u001b[0m\u001b[0mfreeze_panes\u001b[0m\u001b[1;33m,\u001b[0m\u001b[1;33m\u001b[0m\u001b[1;33m\u001b[0m\u001b[0m\n\u001b[0;32m   2195\u001b[0m             \u001b[0mengine\u001b[0m\u001b[1;33m=\u001b[0m\u001b[0mengine\u001b[0m\u001b[1;33m,\u001b[0m\u001b[1;33m\u001b[0m\u001b[1;33m\u001b[0m\u001b[0m\n\u001b[1;32m-> 2196\u001b[1;33m             \u001b[0mstorage_options\u001b[0m\u001b[1;33m=\u001b[0m\u001b[0mstorage_options\u001b[0m\u001b[1;33m,\u001b[0m\u001b[1;33m\u001b[0m\u001b[1;33m\u001b[0m\u001b[0m\n\u001b[0m\u001b[0;32m   2197\u001b[0m         )\n\u001b[0;32m   2198\u001b[0m \u001b[1;33m\u001b[0m\u001b[0m\n",
      "\u001b[1;32mC:\\ProgramData\\Anaconda3\\lib\\site-packages\\pandas\\io\\formats\\excel.py\u001b[0m in \u001b[0;36mwrite\u001b[1;34m(self, writer, sheet_name, startrow, startcol, freeze_panes, engine, storage_options)\u001b[0m\n\u001b[0;32m    814\u001b[0m             \u001b[1;31m# 'save', 'supported_extensions' and 'write_cells'  [abstract]\u001b[0m\u001b[1;33m\u001b[0m\u001b[1;33m\u001b[0m\u001b[1;33m\u001b[0m\u001b[0m\n\u001b[0;32m    815\u001b[0m             writer = ExcelWriter(  # type: ignore[abstract]\n\u001b[1;32m--> 816\u001b[1;33m                 \u001b[0mwriter\u001b[0m\u001b[1;33m,\u001b[0m \u001b[0mengine\u001b[0m\u001b[1;33m=\u001b[0m\u001b[0mengine\u001b[0m\u001b[1;33m,\u001b[0m \u001b[0mstorage_options\u001b[0m\u001b[1;33m=\u001b[0m\u001b[0mstorage_options\u001b[0m\u001b[1;33m\u001b[0m\u001b[1;33m\u001b[0m\u001b[0m\n\u001b[0m\u001b[0;32m    817\u001b[0m             )\n\u001b[0;32m    818\u001b[0m             \u001b[0mneed_save\u001b[0m \u001b[1;33m=\u001b[0m \u001b[1;32mTrue\u001b[0m\u001b[1;33m\u001b[0m\u001b[1;33m\u001b[0m\u001b[0m\n",
      "\u001b[1;32mC:\\ProgramData\\Anaconda3\\lib\\site-packages\\pandas\\io\\excel\\_xlwt.py\u001b[0m in \u001b[0;36m__init__\u001b[1;34m(self, path, engine, encoding, mode, storage_options, **engine_kwargs)\u001b[0m\n\u001b[0;32m     25\u001b[0m     ):\n\u001b[0;32m     26\u001b[0m         \u001b[1;31m# Use the xlwt module as the Excel writer.\u001b[0m\u001b[1;33m\u001b[0m\u001b[1;33m\u001b[0m\u001b[1;33m\u001b[0m\u001b[0m\n\u001b[1;32m---> 27\u001b[1;33m         \u001b[1;32mimport\u001b[0m \u001b[0mxlwt\u001b[0m\u001b[1;33m\u001b[0m\u001b[1;33m\u001b[0m\u001b[0m\n\u001b[0m\u001b[0;32m     28\u001b[0m \u001b[1;33m\u001b[0m\u001b[0m\n\u001b[0;32m     29\u001b[0m         \u001b[0mengine_kwargs\u001b[0m\u001b[1;33m[\u001b[0m\u001b[1;34m\"engine\"\u001b[0m\u001b[1;33m]\u001b[0m \u001b[1;33m=\u001b[0m \u001b[0mengine\u001b[0m\u001b[1;33m\u001b[0m\u001b[1;33m\u001b[0m\u001b[0m\n",
      "\u001b[1;31mModuleNotFoundError\u001b[0m: No module named 'xlwt'"
     ]
    }
   ],
   "source": [
    "names_df.to_excel('names.xls')"
   ]
  },
  {
   "cell_type": "markdown",
   "id": "188737f0",
   "metadata": {},
   "source": [
    "##### DataFrames\n",
    "\n",
    "En el ejemplo anterior, puede ver cómo exportar un DataFrame a un archivo de Excel. La [documentación](https://pandas.pydata.org/docs/reference/api/pandas.read_excel.html) muestra varias formas de ajustar aún más la salida. Por ejemplo, puede enviar datos a una \"hoja\" específica utilizando el parámetro nombre_hoja."
   ]
  },
  {
   "cell_type": "markdown",
   "id": "176d837b",
   "metadata": {},
   "source": [
    "#### Feather\n",
    "\n",
    "El formato llamado \"pluma\" se utiliza para guardar DataFrames en un objeto binario que también se puede cargar en otros lenguajes (por ejemplo, R). El principal beneficio de este enfoque es que es más rápido que escribir y leer un archivo CSV entre idiomas.\n",
    "\n",
    "Para instalarlo: `pip install pyarrow`."
   ]
  },
  {
   "cell_type": "code",
   "execution_count": null,
   "id": "034e82e6",
   "metadata": {},
   "outputs": [],
   "source": [
    "scientists.to_feather('my_feather_file.feather')"
   ]
  },
  {
   "cell_type": "code",
   "execution_count": null,
   "id": "7951176d",
   "metadata": {},
   "outputs": [],
   "source": [
    "sci_feather = pd.read_feather('my_feather_file.feather')"
   ]
  },
  {
   "cell_type": "markdown",
   "id": "65a44a6b",
   "metadata": {},
   "source": [
    "#### Arrow\n",
    "\n",
    "Los archivos Feather son parte del proyecto Apache Arrow. Uno de los principales objetivos de Arrow es tener un formato de almacenamiento de memoria para objetos del DataFrame que funcionen en múltiples lenguajes de programación sin tener que convertir tipos para cada uno de ellos."
   ]
  },
  {
   "cell_type": "markdown",
   "id": "438aec4d",
   "metadata": {},
   "source": [
    "#### Dictionary\n",
    "\n",
    "Los objetos Pandas Series y DataFrame también tienen un método `.to_dict()`. Esto convierte el objeto en un objeto de diccionario de Python. Este formato es particularmente útil si tiene un DataFrame o una Serie y desea utilizar los datos de fuera de Pandas."
   ]
  },
  {
   "cell_type": "code",
   "execution_count": 78,
   "id": "90c28ac1",
   "metadata": {},
   "outputs": [
    {
     "data": {
      "text/html": [
       "<div>\n",
       "<style scoped>\n",
       "    .dataframe tbody tr th:only-of-type {\n",
       "        vertical-align: middle;\n",
       "    }\n",
       "\n",
       "    .dataframe tbody tr th {\n",
       "        vertical-align: top;\n",
       "    }\n",
       "\n",
       "    .dataframe thead th {\n",
       "        text-align: right;\n",
       "    }\n",
       "</style>\n",
       "<table border=\"1\" class=\"dataframe\">\n",
       "  <thead>\n",
       "    <tr style=\"text-align: right;\">\n",
       "      <th></th>\n",
       "      <th>Name</th>\n",
       "      <th>Born</th>\n",
       "      <th>Died</th>\n",
       "      <th>Age</th>\n",
       "      <th>Occupation</th>\n",
       "      <th>born_dt</th>\n",
       "      <th>died_dt</th>\n",
       "      <th>age_days</th>\n",
       "      <th>age_years</th>\n",
       "      <th>age_days_assign</th>\n",
       "      <th>age_year_assign</th>\n",
       "    </tr>\n",
       "  </thead>\n",
       "  <tbody>\n",
       "    <tr>\n",
       "      <th>0</th>\n",
       "      <td>Rosaline Franklin</td>\n",
       "      <td>1920-07-25</td>\n",
       "      <td>1958-04-16</td>\n",
       "      <td>22404 days</td>\n",
       "      <td>Chemist</td>\n",
       "      <td>1920-07-25</td>\n",
       "      <td>1958-04-16</td>\n",
       "      <td>13779 days</td>\n",
       "      <td>37.0</td>\n",
       "      <td>13779 days</td>\n",
       "      <td>37.0</td>\n",
       "    </tr>\n",
       "    <tr>\n",
       "      <th>1</th>\n",
       "      <td>William Gosset</td>\n",
       "      <td>1876-06-13</td>\n",
       "      <td>1937-10-16</td>\n",
       "      <td>16529 days</td>\n",
       "      <td>Statistician</td>\n",
       "      <td>1876-06-13</td>\n",
       "      <td>1937-10-16</td>\n",
       "      <td>22404 days</td>\n",
       "      <td>61.0</td>\n",
       "      <td>22404 days</td>\n",
       "      <td>61.0</td>\n",
       "    </tr>\n",
       "  </tbody>\n",
       "</table>\n",
       "</div>"
      ],
      "text/plain": [
       "                Name        Born        Died        Age    Occupation  \\\n",
       "0  Rosaline Franklin  1920-07-25  1958-04-16 22404 days       Chemist   \n",
       "1     William Gosset  1876-06-13  1937-10-16 16529 days  Statistician   \n",
       "\n",
       "     born_dt    died_dt   age_days  age_years age_days_assign  age_year_assign  \n",
       "0 1920-07-25 1958-04-16 13779 days       37.0      13779 days             37.0  \n",
       "1 1876-06-13 1937-10-16 22404 days       61.0      22404 days             61.0  "
      ]
     },
     "execution_count": 78,
     "metadata": {},
     "output_type": "execute_result"
    }
   ],
   "source": [
    "# Primeras dos filas\n",
    "sci_sub_dict = scientists.head(2)\n",
    "sci_sub_dict"
   ]
  },
  {
   "cell_type": "code",
   "execution_count": 79,
   "id": "383d0149",
   "metadata": {},
   "outputs": [
    {
     "data": {
      "text/plain": [
       "{'Name': {0: 'Rosaline Franklin', 1: 'William Gosset'},\n",
       " 'Born': {0: '1920-07-25', 1: '1876-06-13'},\n",
       " 'Died': {0: '1958-04-16', 1: '1937-10-16'},\n",
       " 'Age': {0: Timedelta('22404 days 00:00:00'),\n",
       "  1: Timedelta('16529 days 00:00:00')},\n",
       " 'Occupation': {0: 'Chemist', 1: 'Statistician'},\n",
       " 'born_dt': {0: Timestamp('1920-07-25 00:00:00'),\n",
       "  1: Timestamp('1876-06-13 00:00:00')},\n",
       " 'died_dt': {0: Timestamp('1958-04-16 00:00:00'),\n",
       "  1: Timestamp('1937-10-16 00:00:00')},\n",
       " 'age_days': {0: Timedelta('13779 days 00:00:00'),\n",
       "  1: Timedelta('22404 days 00:00:00')},\n",
       " 'age_years': {0: 37.0, 1: 61.0},\n",
       " 'age_days_assign': {0: Timedelta('13779 days 00:00:00'),\n",
       "  1: Timedelta('22404 days 00:00:00')},\n",
       " 'age_year_assign': {0: 37.0, 1: 61.0}}"
      ]
     },
     "execution_count": 79,
     "metadata": {},
     "output_type": "execute_result"
    }
   ],
   "source": [
    "sci_dict = sci_sub_dict.to_dict()\n",
    "sci_dict"
   ]
  },
  {
   "cell_type": "markdown",
   "id": "f7262fe2",
   "metadata": {},
   "source": [
    "Leer el diccinario en pandas:"
   ]
  },
  {
   "cell_type": "code",
   "execution_count": 80,
   "id": "b8e9cd5e",
   "metadata": {},
   "outputs": [
    {
     "data": {
      "text/html": [
       "<div>\n",
       "<style scoped>\n",
       "    .dataframe tbody tr th:only-of-type {\n",
       "        vertical-align: middle;\n",
       "    }\n",
       "\n",
       "    .dataframe tbody tr th {\n",
       "        vertical-align: top;\n",
       "    }\n",
       "\n",
       "    .dataframe thead th {\n",
       "        text-align: right;\n",
       "    }\n",
       "</style>\n",
       "<table border=\"1\" class=\"dataframe\">\n",
       "  <thead>\n",
       "    <tr style=\"text-align: right;\">\n",
       "      <th></th>\n",
       "      <th>Name</th>\n",
       "      <th>Born</th>\n",
       "      <th>Died</th>\n",
       "      <th>Age</th>\n",
       "      <th>Occupation</th>\n",
       "      <th>born_dt</th>\n",
       "      <th>died_dt</th>\n",
       "      <th>age_days</th>\n",
       "      <th>age_years</th>\n",
       "      <th>age_days_assign</th>\n",
       "      <th>age_year_assign</th>\n",
       "    </tr>\n",
       "  </thead>\n",
       "  <tbody>\n",
       "    <tr>\n",
       "      <th>0</th>\n",
       "      <td>Rosaline Franklin</td>\n",
       "      <td>1920-07-25</td>\n",
       "      <td>1958-04-16</td>\n",
       "      <td>22404 days</td>\n",
       "      <td>Chemist</td>\n",
       "      <td>1920-07-25</td>\n",
       "      <td>1958-04-16</td>\n",
       "      <td>13779 days</td>\n",
       "      <td>37.0</td>\n",
       "      <td>13779 days</td>\n",
       "      <td>37.0</td>\n",
       "    </tr>\n",
       "    <tr>\n",
       "      <th>1</th>\n",
       "      <td>William Gosset</td>\n",
       "      <td>1876-06-13</td>\n",
       "      <td>1937-10-16</td>\n",
       "      <td>16529 days</td>\n",
       "      <td>Statistician</td>\n",
       "      <td>1876-06-13</td>\n",
       "      <td>1937-10-16</td>\n",
       "      <td>22404 days</td>\n",
       "      <td>61.0</td>\n",
       "      <td>22404 days</td>\n",
       "      <td>61.0</td>\n",
       "    </tr>\n",
       "  </tbody>\n",
       "</table>\n",
       "</div>"
      ],
      "text/plain": [
       "                Name        Born        Died        Age    Occupation  \\\n",
       "0  Rosaline Franklin  1920-07-25  1958-04-16 22404 days       Chemist   \n",
       "1     William Gosset  1876-06-13  1937-10-16 16529 days  Statistician   \n",
       "\n",
       "     born_dt    died_dt   age_days  age_years age_days_assign  age_year_assign  \n",
       "0 1920-07-25 1958-04-16 13779 days       37.0      13779 days             37.0  \n",
       "1 1876-06-13 1937-10-16 22404 days       61.0      22404 days             61.0  "
      ]
     },
     "execution_count": 80,
     "metadata": {},
     "output_type": "execute_result"
    }
   ],
   "source": [
    "sci_dict_df = pd.DataFrame.from_dict(sci_dict)\n",
    "sci_dict_df"
   ]
  },
  {
   "cell_type": "markdown",
   "id": "e0b99edd",
   "metadata": {},
   "source": [
    "**Ojo**:\n",
    "\n",
    "Debido a que el conjunto de datos de los científicos con el que estamos trabajando incluye fechas y horas, no podemos simplemente copiar y pegar el diccionario como una cadena en la función pd.DataFrame.from_dict(). Obtendrá un NameError: el nombre 'Timedelta' no está definido.\n",
    "Las fechas y horas se almacenan en un formato diferente al que se imprime en la pantalla. Dependiendo del tipo de dtype almacenado en las columnas, su capacidad de simplemente copiar y pegar la salida .to_dict() puede o no devolver exactamente el mismo marco de datos.\n",
    "Si necesita una forma de trabajar con fechas, necesitará convertirla a un formato más general y convertir el valor nuevamente a una fecha."
   ]
  },
  {
   "cell_type": "markdown",
   "id": "514655da",
   "metadata": {},
   "source": [
    "#### JSON\n",
    "\n",
    "Los datos JSON son otro formato de archivo de texto sin formato común. El beneficio de usar `.to_json()` es que puede convertir fechas y horas para que usted pueda volver a leerlas en Pandas. Al usar `orient='records'` podemos pasar la variable o copiar y pegar desde la salida para cargarla nuevamente en Pandas. La `indent=2` permite que la salida se imprima un poco mejor en la pantalla."
   ]
  },
  {
   "cell_type": "code",
   "execution_count": 81,
   "id": "678c6593",
   "metadata": {},
   "outputs": [
    {
     "name": "stdout",
     "output_type": "stream",
     "text": [
      "[\n",
      "  {\n",
      "    \"Name\":\"Rosaline Franklin\",\n",
      "    \"Born\":\"1920-07-25\",\n",
      "    \"Died\":\"1958-04-16\",\n",
      "    \"Age\":\"P22404DT0H0M0S\",\n",
      "    \"Occupation\":\"Chemist\",\n",
      "    \"born_dt\":\"1920-07-25T00:00:00.000Z\",\n",
      "    \"died_dt\":\"1958-04-16T00:00:00.000Z\",\n",
      "    \"age_days\":\"P13779DT0H0M0S\",\n",
      "    \"age_years\":37.0,\n",
      "    \"age_days_assign\":\"P13779DT0H0M0S\",\n",
      "    \"age_year_assign\":37.0\n",
      "  },\n",
      "  {\n",
      "    \"Name\":\"William Gosset\",\n",
      "    \"Born\":\"1876-06-13\",\n",
      "    \"Died\":\"1937-10-16\",\n",
      "    \"Age\":\"P16529DT0H0M0S\",\n",
      "    \"Occupation\":\"Statistician\",\n",
      "    \"born_dt\":\"1876-06-13T00:00:00.000Z\",\n",
      "    \"died_dt\":\"1937-10-16T00:00:00.000Z\",\n",
      "    \"age_days\":\"P22404DT0H0M0S\",\n",
      "    \"age_years\":61.0,\n",
      "    \"age_days_assign\":\"P22404DT0H0M0S\",\n",
      "    \"age_year_assign\":61.0\n",
      "  }\n",
      "]\n"
     ]
    }
   ],
   "source": [
    "sci_json = sci_sub_dict.to_json(orient='records', indent=2, date_format='iso')\n",
    "print(sci_json)\n",
    "# pprint.pprint(sci_json)"
   ]
  },
  {
   "cell_type": "markdown",
   "id": "fdd260c3",
   "metadata": {},
   "source": [
    "Copiar para recrear el dataframe:"
   ]
  },
  {
   "cell_type": "code",
   "execution_count": 84,
   "id": "0d0180d5",
   "metadata": {},
   "outputs": [
    {
     "data": {
      "text/html": [
       "<div>\n",
       "<style scoped>\n",
       "    .dataframe tbody tr th:only-of-type {\n",
       "        vertical-align: middle;\n",
       "    }\n",
       "\n",
       "    .dataframe tbody tr th {\n",
       "        vertical-align: top;\n",
       "    }\n",
       "\n",
       "    .dataframe thead th {\n",
       "        text-align: right;\n",
       "    }\n",
       "</style>\n",
       "<table border=\"1\" class=\"dataframe\">\n",
       "  <thead>\n",
       "    <tr style=\"text-align: right;\">\n",
       "      <th></th>\n",
       "      <th>Name</th>\n",
       "      <th>Born</th>\n",
       "      <th>Died</th>\n",
       "      <th>Age</th>\n",
       "      <th>Occupation</th>\n",
       "      <th>born_dt</th>\n",
       "      <th>died_dt</th>\n",
       "      <th>age_days</th>\n",
       "      <th>age_years</th>\n",
       "      <th>age_days_assign</th>\n",
       "      <th>age_year_assign</th>\n",
       "    </tr>\n",
       "  </thead>\n",
       "  <tbody>\n",
       "    <tr>\n",
       "      <th>0</th>\n",
       "      <td>Rosaline Franklin</td>\n",
       "      <td>1920-07-25</td>\n",
       "      <td>1958-04-16</td>\n",
       "      <td>61</td>\n",
       "      <td>Chemist</td>\n",
       "      <td>1920-07-25T00:00:00.000Z</td>\n",
       "      <td>1958-04-16T00:00:00.000Z</td>\n",
       "      <td>P13779DT0H0M0S</td>\n",
       "      <td>37</td>\n",
       "      <td>P13779DT0H0M0S</td>\n",
       "      <td>37</td>\n",
       "    </tr>\n",
       "    <tr>\n",
       "      <th>1</th>\n",
       "      <td>William Gosset</td>\n",
       "      <td>1876-06-13</td>\n",
       "      <td>1937-10-16</td>\n",
       "      <td>45</td>\n",
       "      <td>Statistician</td>\n",
       "      <td>1876-06-13T00:00:00.000Z</td>\n",
       "      <td>1937-10-16T00:00:00.000Z</td>\n",
       "      <td>P22404DT0H0M0S</td>\n",
       "      <td>61</td>\n",
       "      <td>P22404DT0H0M0S</td>\n",
       "      <td>61</td>\n",
       "    </tr>\n",
       "  </tbody>\n",
       "</table>\n",
       "</div>"
      ],
      "text/plain": [
       "                Name        Born        Died  Age    Occupation  \\\n",
       "0  Rosaline Franklin  1920-07-25  1958-04-16   61       Chemist   \n",
       "1     William Gosset  1876-06-13  1937-10-16   45  Statistician   \n",
       "\n",
       "                    born_dt                   died_dt        age_days  \\\n",
       "0  1920-07-25T00:00:00.000Z  1958-04-16T00:00:00.000Z  P13779DT0H0M0S   \n",
       "1  1876-06-13T00:00:00.000Z  1937-10-16T00:00:00.000Z  P22404DT0H0M0S   \n",
       "\n",
       "   age_years age_days_assign  age_year_assign  \n",
       "0         37  P13779DT0H0M0S               37  \n",
       "1         61  P22404DT0H0M0S               61  "
      ]
     },
     "execution_count": 84,
     "metadata": {},
     "output_type": "execute_result"
    }
   ],
   "source": [
    "sci_json_df = pd.read_json(\n",
    "('[\\n'\n",
    "' {\\n'\n",
    "' \"Name\":\"Rosaline Franklin\",\\n'\n",
    "' \"Born\":\"1920-07-25\",\\n'\n",
    "' \"Died\":\"1958-04-16\",\\n'\n",
    "' \"Age\":61,\\n'\n",
    "' \"Occupation\":\"Chemist\",\\n'\n",
    "' \"born_dt\":\"1920-07-25T00:00:00.000Z\",\\n'\n",
    "' \"died_dt\":\"1958-04-16T00:00:00.000Z\",\\n'\n",
    "' \"age_days\":\"P13779DT0H0M0S\",\\n'\n",
    "' \"age_years\":37.0,\\n'\n",
    "' \"age_days_assign\":\"P13779DT0H0M0S\",\\n'\n",
    "' \"age_year_assign\":37.0\\n'\n",
    "' },\\n'\n",
    "' {\\n'\n",
    "' \"Name\":\"William Gosset\",\\n'\n",
    "' \"Born\":\"1876-06-13\",\\n'\n",
    "' \"Died\":\"1937-10-16\",\\n'\n",
    "' \"Age\":45,\\n'\n",
    "' \"Occupation\":\"Statistician\",\\n'\n",
    "' \"born_dt\":\"1876-06-13T00:00:00.000Z\",\\n'\n",
    "' \"died_dt\":\"1937-10-16T00:00:00.000Z\",\\n'\n",
    "' \"age_days\":\"P22404DT0H0M0S\",\\n'\n",
    "' \"age_years\":61.0,\\n'\n",
    "' \"age_days_assign\":\"P22404DT0H0M0S\",\\n'\n",
    "' \"age_year_assign\":61.0\\n'\n",
    "' }\\n'\n",
    "']'), orient='records'\n",
    ")\n",
    "sci_json_df"
   ]
  },
  {
   "cell_type": "code",
   "execution_count": 88,
   "id": "29a66406",
   "metadata": {},
   "outputs": [
    {
     "data": {
      "text/plain": [
       "Name               object\n",
       "Born               object\n",
       "Died               object\n",
       "Age                 int64\n",
       "Occupation         object\n",
       "born_dt            object\n",
       "died_dt            object\n",
       "age_days           object\n",
       "age_years           int64\n",
       "age_days_assign    object\n",
       "age_year_assign     int64\n",
       "dtype: object"
      ]
     },
     "execution_count": 88,
     "metadata": {},
     "output_type": "execute_result"
    }
   ],
   "source": [
    "sci_json_df.dtypes"
   ]
  },
  {
   "cell_type": "markdown",
   "id": "ed95c20d",
   "metadata": {},
   "source": [
    "¿Observa cómo todas las fechas son diferentes de los valores originales? Esto se debe a que elegimos convertir las fechas al formato de cadena ISO 8601. Si queremos recuperar el objeto de fecha y hora original, debemos convertir esa representación nuevamente en una fecha."
   ]
  },
  {
   "cell_type": "code",
   "execution_count": null,
   "id": "5b10c652",
   "metadata": {},
   "outputs": [],
   "source": []
  }
 ],
 "metadata": {
  "kernelspec": {
   "display_name": "Python 3",
   "language": "python",
   "name": "python3"
  },
  "language_info": {
   "codemirror_mode": {
    "name": "ipython",
    "version": 3
   },
   "file_extension": ".py",
   "mimetype": "text/x-python",
   "name": "python",
   "nbconvert_exporter": "python",
   "pygments_lexer": "ipython3",
   "version": "3.7.4"
  }
 },
 "nbformat": 4,
 "nbformat_minor": 5
}
