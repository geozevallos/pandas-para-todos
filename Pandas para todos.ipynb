{
 "cells": [
  {
   "cell_type": "markdown",
   "id": "b29ac470",
   "metadata": {},
   "source": [
    "### DataFrame\n",
    "\n",
    "Representaría una hoja entera de calculo o data rectangular. También puede ser pensando como un diccionario o colleción de series.\n",
    "\n",
    "### Serie (Vector)\n",
    "\n",
    "Una única columna del data frame"
   ]
  },
  {
   "cell_type": "code",
   "execution_count": 2,
   "id": "088dbf56",
   "metadata": {},
   "outputs": [],
   "source": [
    "import pandas as pd"
   ]
  },
  {
   "cell_type": "markdown",
   "id": "f52471fa",
   "metadata": {},
   "source": [
    "#### Cargar un CSV"
   ]
  },
  {
   "cell_type": "code",
   "execution_count": 3,
   "id": "a1d415ab",
   "metadata": {},
   "outputs": [
    {
     "data": {
      "text/html": [
       "<div>\n",
       "<style scoped>\n",
       "    .dataframe tbody tr th:only-of-type {\n",
       "        vertical-align: middle;\n",
       "    }\n",
       "\n",
       "    .dataframe tbody tr th {\n",
       "        vertical-align: top;\n",
       "    }\n",
       "\n",
       "    .dataframe thead th {\n",
       "        text-align: right;\n",
       "    }\n",
       "</style>\n",
       "<table border=\"1\" class=\"dataframe\">\n",
       "  <thead>\n",
       "    <tr style=\"text-align: right;\">\n",
       "      <th></th>\n",
       "      <th>country</th>\n",
       "      <th>continent</th>\n",
       "      <th>year</th>\n",
       "      <th>lifeExp</th>\n",
       "      <th>pop</th>\n",
       "      <th>gdpPercap</th>\n",
       "    </tr>\n",
       "  </thead>\n",
       "  <tbody>\n",
       "    <tr>\n",
       "      <th>0</th>\n",
       "      <td>Afghanistan</td>\n",
       "      <td>Asia</td>\n",
       "      <td>1952</td>\n",
       "      <td>28.801</td>\n",
       "      <td>8425333</td>\n",
       "      <td>779.445314</td>\n",
       "    </tr>\n",
       "    <tr>\n",
       "      <th>1</th>\n",
       "      <td>Afghanistan</td>\n",
       "      <td>Asia</td>\n",
       "      <td>1957</td>\n",
       "      <td>30.332</td>\n",
       "      <td>9240934</td>\n",
       "      <td>820.853030</td>\n",
       "    </tr>\n",
       "    <tr>\n",
       "      <th>2</th>\n",
       "      <td>Afghanistan</td>\n",
       "      <td>Asia</td>\n",
       "      <td>1962</td>\n",
       "      <td>31.997</td>\n",
       "      <td>10267083</td>\n",
       "      <td>853.100710</td>\n",
       "    </tr>\n",
       "    <tr>\n",
       "      <th>3</th>\n",
       "      <td>Afghanistan</td>\n",
       "      <td>Asia</td>\n",
       "      <td>1967</td>\n",
       "      <td>34.020</td>\n",
       "      <td>11537966</td>\n",
       "      <td>836.197138</td>\n",
       "    </tr>\n",
       "    <tr>\n",
       "      <th>4</th>\n",
       "      <td>Afghanistan</td>\n",
       "      <td>Asia</td>\n",
       "      <td>1972</td>\n",
       "      <td>36.088</td>\n",
       "      <td>13079460</td>\n",
       "      <td>739.981106</td>\n",
       "    </tr>\n",
       "    <tr>\n",
       "      <th>...</th>\n",
       "      <td>...</td>\n",
       "      <td>...</td>\n",
       "      <td>...</td>\n",
       "      <td>...</td>\n",
       "      <td>...</td>\n",
       "      <td>...</td>\n",
       "    </tr>\n",
       "    <tr>\n",
       "      <th>1699</th>\n",
       "      <td>Zimbabwe</td>\n",
       "      <td>Africa</td>\n",
       "      <td>1987</td>\n",
       "      <td>62.351</td>\n",
       "      <td>9216418</td>\n",
       "      <td>706.157306</td>\n",
       "    </tr>\n",
       "    <tr>\n",
       "      <th>1700</th>\n",
       "      <td>Zimbabwe</td>\n",
       "      <td>Africa</td>\n",
       "      <td>1992</td>\n",
       "      <td>60.377</td>\n",
       "      <td>10704340</td>\n",
       "      <td>693.420786</td>\n",
       "    </tr>\n",
       "    <tr>\n",
       "      <th>1701</th>\n",
       "      <td>Zimbabwe</td>\n",
       "      <td>Africa</td>\n",
       "      <td>1997</td>\n",
       "      <td>46.809</td>\n",
       "      <td>11404948</td>\n",
       "      <td>792.449960</td>\n",
       "    </tr>\n",
       "    <tr>\n",
       "      <th>1702</th>\n",
       "      <td>Zimbabwe</td>\n",
       "      <td>Africa</td>\n",
       "      <td>2002</td>\n",
       "      <td>39.989</td>\n",
       "      <td>11926563</td>\n",
       "      <td>672.038623</td>\n",
       "    </tr>\n",
       "    <tr>\n",
       "      <th>1703</th>\n",
       "      <td>Zimbabwe</td>\n",
       "      <td>Africa</td>\n",
       "      <td>2007</td>\n",
       "      <td>43.487</td>\n",
       "      <td>12311143</td>\n",
       "      <td>469.709298</td>\n",
       "    </tr>\n",
       "  </tbody>\n",
       "</table>\n",
       "<p>1704 rows × 6 columns</p>\n",
       "</div>"
      ],
      "text/plain": [
       "          country continent  year  lifeExp       pop   gdpPercap\n",
       "0     Afghanistan      Asia  1952   28.801   8425333  779.445314\n",
       "1     Afghanistan      Asia  1957   30.332   9240934  820.853030\n",
       "2     Afghanistan      Asia  1962   31.997  10267083  853.100710\n",
       "3     Afghanistan      Asia  1967   34.020  11537966  836.197138\n",
       "4     Afghanistan      Asia  1972   36.088  13079460  739.981106\n",
       "...           ...       ...   ...      ...       ...         ...\n",
       "1699     Zimbabwe    Africa  1987   62.351   9216418  706.157306\n",
       "1700     Zimbabwe    Africa  1992   60.377  10704340  693.420786\n",
       "1701     Zimbabwe    Africa  1997   46.809  11404948  792.449960\n",
       "1702     Zimbabwe    Africa  2002   39.989  11926563  672.038623\n",
       "1703     Zimbabwe    Africa  2007   43.487  12311143  469.709298\n",
       "\n",
       "[1704 rows x 6 columns]"
      ]
     },
     "execution_count": 3,
     "metadata": {},
     "output_type": "execute_result"
    }
   ],
   "source": [
    "df = pd.read_csv('./pandas_for_everyone-master/data/gapminder.tsv', sep='\\t')\n",
    "df"
   ]
  },
  {
   "cell_type": "markdown",
   "id": "4b777d13",
   "metadata": {},
   "source": [
    "#### Type"
   ]
  },
  {
   "cell_type": "code",
   "execution_count": 6,
   "id": "55f0d0ef",
   "metadata": {},
   "outputs": [
    {
     "data": {
      "text/plain": [
       "pandas.core.frame.DataFrame"
      ]
     },
     "execution_count": 6,
     "metadata": {},
     "output_type": "execute_result"
    }
   ],
   "source": [
    "type(df)"
   ]
  },
  {
   "cell_type": "code",
   "execution_count": null,
   "id": "c3a438e2",
   "metadata": {},
   "outputs": [],
   "source": [
    "#### Numero de filas y columnas"
   ]
  },
  {
   "cell_type": "code",
   "execution_count": 7,
   "id": "1c685f33",
   "metadata": {},
   "outputs": [
    {
     "data": {
      "text/plain": [
       "(1704, 6)"
      ]
     },
     "execution_count": 7,
     "metadata": {},
     "output_type": "execute_result"
    }
   ],
   "source": [
    "df.shape"
   ]
  },
  {
   "cell_type": "code",
   "execution_count": 8,
   "id": "8b4d1ad3",
   "metadata": {},
   "outputs": [],
   "source": [
    "#### Nombres de columnas"
   ]
  },
  {
   "cell_type": "code",
   "execution_count": 9,
   "id": "d6baa272",
   "metadata": {},
   "outputs": [
    {
     "data": {
      "text/plain": [
       "Index(['country', 'continent', 'year', 'lifeExp', 'pop', 'gdpPercap'], dtype='object')"
      ]
     },
     "execution_count": 9,
     "metadata": {},
     "output_type": "execute_result"
    }
   ],
   "source": [
    "df.columns"
   ]
  },
  {
   "cell_type": "code",
   "execution_count": 10,
   "id": "3ae4cb69",
   "metadata": {},
   "outputs": [
    {
     "data": {
      "text/plain": [
       "pandas.core.indexes.base.Index"
      ]
     },
     "execution_count": 10,
     "metadata": {},
     "output_type": "execute_result"
    }
   ],
   "source": [
    "type(df.columns)"
   ]
  },
  {
   "cell_type": "markdown",
   "id": "e105acfc",
   "metadata": {},
   "source": [
    "#### Tipos de datos de las columnas\n",
    "Relación Pandas - Python:\n",
    "    - Object - string\n",
    "    - int64 - int\n",
    "    * float64 - float\n",
    "    * datetime64 - datetime"
   ]
  },
  {
   "cell_type": "code",
   "execution_count": 12,
   "id": "e8668ff4",
   "metadata": {},
   "outputs": [
    {
     "data": {
      "text/plain": [
       "country       object\n",
       "continent     object\n",
       "year           int64\n",
       "lifeExp      float64\n",
       "pop            int64\n",
       "gdpPercap    float64\n",
       "dtype: object"
      ]
     },
     "execution_count": 12,
     "metadata": {},
     "output_type": "execute_result"
    }
   ],
   "source": [
    "df.dtypes"
   ]
  },
  {
   "cell_type": "code",
   "execution_count": 13,
   "id": "84152cea",
   "metadata": {},
   "outputs": [
    {
     "name": "stdout",
     "output_type": "stream",
     "text": [
      "<class 'pandas.core.frame.DataFrame'>\n",
      "RangeIndex: 1704 entries, 0 to 1703\n",
      "Data columns (total 6 columns):\n",
      " #   Column     Non-Null Count  Dtype  \n",
      "---  ------     --------------  -----  \n",
      " 0   country    1704 non-null   object \n",
      " 1   continent  1704 non-null   object \n",
      " 2   year       1704 non-null   int64  \n",
      " 3   lifeExp    1704 non-null   float64\n",
      " 4   pop        1704 non-null   int64  \n",
      " 5   gdpPercap  1704 non-null   float64\n",
      "dtypes: float64(2), int64(2), object(2)\n",
      "memory usage: 80.0+ KB\n"
     ]
    }
   ],
   "source": [
    "df.info()"
   ]
  },
  {
   "cell_type": "code",
   "execution_count": 14,
   "id": "7f01edc5",
   "metadata": {},
   "outputs": [],
   "source": [
    "#### Primeras y ultimas observaciones\n",
    "Por defecto es 5"
   ]
  },
  {
   "cell_type": "code",
   "execution_count": 17,
   "id": "c28e9854",
   "metadata": {},
   "outputs": [
    {
     "data": {
      "text/html": [
       "<div>\n",
       "<style scoped>\n",
       "    .dataframe tbody tr th:only-of-type {\n",
       "        vertical-align: middle;\n",
       "    }\n",
       "\n",
       "    .dataframe tbody tr th {\n",
       "        vertical-align: top;\n",
       "    }\n",
       "\n",
       "    .dataframe thead th {\n",
       "        text-align: right;\n",
       "    }\n",
       "</style>\n",
       "<table border=\"1\" class=\"dataframe\">\n",
       "  <thead>\n",
       "    <tr style=\"text-align: right;\">\n",
       "      <th></th>\n",
       "      <th>country</th>\n",
       "      <th>continent</th>\n",
       "      <th>year</th>\n",
       "      <th>lifeExp</th>\n",
       "      <th>pop</th>\n",
       "      <th>gdpPercap</th>\n",
       "    </tr>\n",
       "  </thead>\n",
       "  <tbody>\n",
       "    <tr>\n",
       "      <th>0</th>\n",
       "      <td>Afghanistan</td>\n",
       "      <td>Asia</td>\n",
       "      <td>1952</td>\n",
       "      <td>28.801</td>\n",
       "      <td>8425333</td>\n",
       "      <td>779.445314</td>\n",
       "    </tr>\n",
       "    <tr>\n",
       "      <th>1</th>\n",
       "      <td>Afghanistan</td>\n",
       "      <td>Asia</td>\n",
       "      <td>1957</td>\n",
       "      <td>30.332</td>\n",
       "      <td>9240934</td>\n",
       "      <td>820.853030</td>\n",
       "    </tr>\n",
       "    <tr>\n",
       "      <th>2</th>\n",
       "      <td>Afghanistan</td>\n",
       "      <td>Asia</td>\n",
       "      <td>1962</td>\n",
       "      <td>31.997</td>\n",
       "      <td>10267083</td>\n",
       "      <td>853.100710</td>\n",
       "    </tr>\n",
       "    <tr>\n",
       "      <th>3</th>\n",
       "      <td>Afghanistan</td>\n",
       "      <td>Asia</td>\n",
       "      <td>1967</td>\n",
       "      <td>34.020</td>\n",
       "      <td>11537966</td>\n",
       "      <td>836.197138</td>\n",
       "    </tr>\n",
       "    <tr>\n",
       "      <th>4</th>\n",
       "      <td>Afghanistan</td>\n",
       "      <td>Asia</td>\n",
       "      <td>1972</td>\n",
       "      <td>36.088</td>\n",
       "      <td>13079460</td>\n",
       "      <td>739.981106</td>\n",
       "    </tr>\n",
       "    <tr>\n",
       "      <th>5</th>\n",
       "      <td>Afghanistan</td>\n",
       "      <td>Asia</td>\n",
       "      <td>1977</td>\n",
       "      <td>38.438</td>\n",
       "      <td>14880372</td>\n",
       "      <td>786.113360</td>\n",
       "    </tr>\n",
       "    <tr>\n",
       "      <th>6</th>\n",
       "      <td>Afghanistan</td>\n",
       "      <td>Asia</td>\n",
       "      <td>1982</td>\n",
       "      <td>39.854</td>\n",
       "      <td>12881816</td>\n",
       "      <td>978.011439</td>\n",
       "    </tr>\n",
       "    <tr>\n",
       "      <th>7</th>\n",
       "      <td>Afghanistan</td>\n",
       "      <td>Asia</td>\n",
       "      <td>1987</td>\n",
       "      <td>40.822</td>\n",
       "      <td>13867957</td>\n",
       "      <td>852.395945</td>\n",
       "    </tr>\n",
       "  </tbody>\n",
       "</table>\n",
       "</div>"
      ],
      "text/plain": [
       "       country continent  year  lifeExp       pop   gdpPercap\n",
       "0  Afghanistan      Asia  1952   28.801   8425333  779.445314\n",
       "1  Afghanistan      Asia  1957   30.332   9240934  820.853030\n",
       "2  Afghanistan      Asia  1962   31.997  10267083  853.100710\n",
       "3  Afghanistan      Asia  1967   34.020  11537966  836.197138\n",
       "4  Afghanistan      Asia  1972   36.088  13079460  739.981106\n",
       "5  Afghanistan      Asia  1977   38.438  14880372  786.113360\n",
       "6  Afghanistan      Asia  1982   39.854  12881816  978.011439\n",
       "7  Afghanistan      Asia  1987   40.822  13867957  852.395945"
      ]
     },
     "execution_count": 17,
     "metadata": {},
     "output_type": "execute_result"
    }
   ],
   "source": [
    "df.head(8)"
   ]
  },
  {
   "cell_type": "code",
   "execution_count": 18,
   "id": "5c9d25ec",
   "metadata": {},
   "outputs": [
    {
     "data": {
      "text/html": [
       "<div>\n",
       "<style scoped>\n",
       "    .dataframe tbody tr th:only-of-type {\n",
       "        vertical-align: middle;\n",
       "    }\n",
       "\n",
       "    .dataframe tbody tr th {\n",
       "        vertical-align: top;\n",
       "    }\n",
       "\n",
       "    .dataframe thead th {\n",
       "        text-align: right;\n",
       "    }\n",
       "</style>\n",
       "<table border=\"1\" class=\"dataframe\">\n",
       "  <thead>\n",
       "    <tr style=\"text-align: right;\">\n",
       "      <th></th>\n",
       "      <th>country</th>\n",
       "      <th>continent</th>\n",
       "      <th>year</th>\n",
       "      <th>lifeExp</th>\n",
       "      <th>pop</th>\n",
       "      <th>gdpPercap</th>\n",
       "    </tr>\n",
       "  </thead>\n",
       "  <tbody>\n",
       "    <tr>\n",
       "      <th>1701</th>\n",
       "      <td>Zimbabwe</td>\n",
       "      <td>Africa</td>\n",
       "      <td>1997</td>\n",
       "      <td>46.809</td>\n",
       "      <td>11404948</td>\n",
       "      <td>792.449960</td>\n",
       "    </tr>\n",
       "    <tr>\n",
       "      <th>1702</th>\n",
       "      <td>Zimbabwe</td>\n",
       "      <td>Africa</td>\n",
       "      <td>2002</td>\n",
       "      <td>39.989</td>\n",
       "      <td>11926563</td>\n",
       "      <td>672.038623</td>\n",
       "    </tr>\n",
       "    <tr>\n",
       "      <th>1703</th>\n",
       "      <td>Zimbabwe</td>\n",
       "      <td>Africa</td>\n",
       "      <td>2007</td>\n",
       "      <td>43.487</td>\n",
       "      <td>12311143</td>\n",
       "      <td>469.709298</td>\n",
       "    </tr>\n",
       "  </tbody>\n",
       "</table>\n",
       "</div>"
      ],
      "text/plain": [
       "       country continent  year  lifeExp       pop   gdpPercap\n",
       "1701  Zimbabwe    Africa  1997   46.809  11404948  792.449960\n",
       "1702  Zimbabwe    Africa  2002   39.989  11926563  672.038623\n",
       "1703  Zimbabwe    Africa  2007   43.487  12311143  469.709298"
      ]
     },
     "execution_count": 18,
     "metadata": {},
     "output_type": "execute_result"
    }
   ],
   "source": [
    "df.tail(3)"
   ]
  },
  {
   "cell_type": "markdown",
   "id": "a3057c83",
   "metadata": {},
   "source": [
    "#### Seleccion y subconjuntos de columnas por nombre"
   ]
  },
  {
   "cell_type": "code",
   "execution_count": 21,
   "id": "bde538d9",
   "metadata": {},
   "outputs": [
    {
     "data": {
      "text/plain": [
       "0    Afghanistan\n",
       "1    Afghanistan\n",
       "2    Afghanistan\n",
       "3    Afghanistan\n",
       "4    Afghanistan\n",
       "Name: country, dtype: object"
      ]
     },
     "execution_count": 21,
     "metadata": {},
     "output_type": "execute_result"
    }
   ],
   "source": [
    "country_df = df['country']\n",
    "country_df.head()"
   ]
  },
  {
   "cell_type": "code",
   "execution_count": 23,
   "id": "bf63b1be",
   "metadata": {},
   "outputs": [
    {
     "data": {
      "text/html": [
       "<div>\n",
       "<style scoped>\n",
       "    .dataframe tbody tr th:only-of-type {\n",
       "        vertical-align: middle;\n",
       "    }\n",
       "\n",
       "    .dataframe tbody tr th {\n",
       "        vertical-align: top;\n",
       "    }\n",
       "\n",
       "    .dataframe thead th {\n",
       "        text-align: right;\n",
       "    }\n",
       "</style>\n",
       "<table border=\"1\" class=\"dataframe\">\n",
       "  <thead>\n",
       "    <tr style=\"text-align: right;\">\n",
       "      <th></th>\n",
       "      <th>country</th>\n",
       "      <th>continent</th>\n",
       "      <th>year</th>\n",
       "    </tr>\n",
       "  </thead>\n",
       "  <tbody>\n",
       "    <tr>\n",
       "      <th>0</th>\n",
       "      <td>Afghanistan</td>\n",
       "      <td>Asia</td>\n",
       "      <td>1952</td>\n",
       "    </tr>\n",
       "    <tr>\n",
       "      <th>1</th>\n",
       "      <td>Afghanistan</td>\n",
       "      <td>Asia</td>\n",
       "      <td>1957</td>\n",
       "    </tr>\n",
       "    <tr>\n",
       "      <th>2</th>\n",
       "      <td>Afghanistan</td>\n",
       "      <td>Asia</td>\n",
       "      <td>1962</td>\n",
       "    </tr>\n",
       "    <tr>\n",
       "      <th>3</th>\n",
       "      <td>Afghanistan</td>\n",
       "      <td>Asia</td>\n",
       "      <td>1967</td>\n",
       "    </tr>\n",
       "    <tr>\n",
       "      <th>4</th>\n",
       "      <td>Afghanistan</td>\n",
       "      <td>Asia</td>\n",
       "      <td>1972</td>\n",
       "    </tr>\n",
       "    <tr>\n",
       "      <th>...</th>\n",
       "      <td>...</td>\n",
       "      <td>...</td>\n",
       "      <td>...</td>\n",
       "    </tr>\n",
       "    <tr>\n",
       "      <th>1699</th>\n",
       "      <td>Zimbabwe</td>\n",
       "      <td>Africa</td>\n",
       "      <td>1987</td>\n",
       "    </tr>\n",
       "    <tr>\n",
       "      <th>1700</th>\n",
       "      <td>Zimbabwe</td>\n",
       "      <td>Africa</td>\n",
       "      <td>1992</td>\n",
       "    </tr>\n",
       "    <tr>\n",
       "      <th>1701</th>\n",
       "      <td>Zimbabwe</td>\n",
       "      <td>Africa</td>\n",
       "      <td>1997</td>\n",
       "    </tr>\n",
       "    <tr>\n",
       "      <th>1702</th>\n",
       "      <td>Zimbabwe</td>\n",
       "      <td>Africa</td>\n",
       "      <td>2002</td>\n",
       "    </tr>\n",
       "    <tr>\n",
       "      <th>1703</th>\n",
       "      <td>Zimbabwe</td>\n",
       "      <td>Africa</td>\n",
       "      <td>2007</td>\n",
       "    </tr>\n",
       "  </tbody>\n",
       "</table>\n",
       "<p>1704 rows × 3 columns</p>\n",
       "</div>"
      ],
      "text/plain": [
       "          country continent  year\n",
       "0     Afghanistan      Asia  1952\n",
       "1     Afghanistan      Asia  1957\n",
       "2     Afghanistan      Asia  1962\n",
       "3     Afghanistan      Asia  1967\n",
       "4     Afghanistan      Asia  1972\n",
       "...           ...       ...   ...\n",
       "1699     Zimbabwe    Africa  1987\n",
       "1700     Zimbabwe    Africa  1992\n",
       "1701     Zimbabwe    Africa  1997\n",
       "1702     Zimbabwe    Africa  2002\n",
       "1703     Zimbabwe    Africa  2007\n",
       "\n",
       "[1704 rows x 3 columns]"
      ]
     },
     "execution_count": 23,
     "metadata": {},
     "output_type": "execute_result"
    }
   ],
   "source": [
    "subset = df[['country', 'continent', 'year']]\n",
    "subset"
   ]
  },
  {
   "cell_type": "code",
   "execution_count": null,
   "id": "65ade7c0",
   "metadata": {},
   "outputs": [],
   "source": [
    "#### Retornar un valor unico de dataframe o serie"
   ]
  },
  {
   "cell_type": "code",
   "execution_count": 24,
   "id": "becde8cf",
   "metadata": {},
   "outputs": [],
   "source": [
    "country_df = df['country']"
   ]
  },
  {
   "cell_type": "code",
   "execution_count": 26,
   "id": "d7a77e5d",
   "metadata": {},
   "outputs": [
    {
     "data": {
      "text/plain": [
       "pandas.core.series.Series"
      ]
     },
     "execution_count": 26,
     "metadata": {},
     "output_type": "execute_result"
    }
   ],
   "source": [
    "type(country_df)"
   ]
  },
  {
   "cell_type": "code",
   "execution_count": 28,
   "id": "745e2487",
   "metadata": {},
   "outputs": [
    {
     "data": {
      "text/plain": [
       "pandas.core.frame.DataFrame"
      ]
     },
     "execution_count": 28,
     "metadata": {},
     "output_type": "execute_result"
    }
   ],
   "source": [
    "country_df_list = df[['country']]\n",
    "type(country_df_list)"
   ]
  },
  {
   "cell_type": "markdown",
   "id": "5f5d2567",
   "metadata": {},
   "source": [
    "#### Usando notación de puntos para obtener un valor de columna\n",
    "Cuando quieres una sola columna de valores"
   ]
  },
  {
   "cell_type": "code",
   "execution_count": 31,
   "id": "13d1b77d",
   "metadata": {},
   "outputs": [
    {
     "data": {
      "text/plain": [
       "0       Afghanistan\n",
       "1       Afghanistan\n",
       "2       Afghanistan\n",
       "3       Afghanistan\n",
       "4       Afghanistan\n",
       "           ...     \n",
       "1699       Zimbabwe\n",
       "1700       Zimbabwe\n",
       "1701       Zimbabwe\n",
       "1702       Zimbabwe\n",
       "1703       Zimbabwe\n",
       "Name: country, Length: 1704, dtype: object"
      ]
     },
     "execution_count": 31,
     "metadata": {},
     "output_type": "execute_result"
    }
   ],
   "source": [
    "df.country"
   ]
  },
  {
   "cell_type": "code",
   "execution_count": 32,
   "id": "6a07c69b",
   "metadata": {},
   "outputs": [],
   "source": [
    "### Conjunto de filas"
   ]
  },
  {
   "cell_type": "markdown",
   "id": "076409b8",
   "metadata": {},
   "source": [
    "- loc[]: Conjunto basado en el etiqueta index (row name)\n",
    "- iloc[]: Conjunto basado en el indice de fila (row number)"
   ]
  },
  {
   "cell_type": "code",
   "execution_count": 33,
   "id": "7161b2e1",
   "metadata": {},
   "outputs": [],
   "source": [
    "#### Usando .loc"
   ]
  },
  {
   "cell_type": "code",
   "execution_count": 34,
   "id": "bbe2e151",
   "metadata": {},
   "outputs": [
    {
     "data": {
      "text/plain": [
       "country      Afghanistan\n",
       "continent           Asia\n",
       "year                1952\n",
       "lifeExp           28.801\n",
       "pop              8425333\n",
       "gdpPercap     779.445314\n",
       "Name: 0, dtype: object"
      ]
     },
     "execution_count": 34,
     "metadata": {},
     "output_type": "execute_result"
    }
   ],
   "source": [
    "df.loc[0]"
   ]
  },
  {
   "cell_type": "markdown",
   "id": "4f859010",
   "metadata": {},
   "source": [
    "Calculando el ultimo indice:"
   ]
  },
  {
   "cell_type": "code",
   "execution_count": 35,
   "id": "17771e67",
   "metadata": {},
   "outputs": [
    {
     "data": {
      "text/plain": [
       "country        Zimbabwe\n",
       "continent        Africa\n",
       "year               2007\n",
       "lifeExp          43.487\n",
       "pop            12311143\n",
       "gdpPercap    469.709298\n",
       "Name: 1703, dtype: object"
      ]
     },
     "execution_count": 35,
     "metadata": {},
     "output_type": "execute_result"
    }
   ],
   "source": [
    "number_of_rows = df.shape[0]\n",
    "last_row_index = number_of_rows - 1\n",
    "df.loc[last_row_index]"
   ]
  },
  {
   "cell_type": "code",
   "execution_count": 36,
   "id": "6d9f3798",
   "metadata": {},
   "outputs": [],
   "source": [
    "#### Conjunto de multiples filas"
   ]
  },
  {
   "cell_type": "code",
   "execution_count": 37,
   "id": "b1fbaac4",
   "metadata": {},
   "outputs": [
    {
     "data": {
      "text/html": [
       "<div>\n",
       "<style scoped>\n",
       "    .dataframe tbody tr th:only-of-type {\n",
       "        vertical-align: middle;\n",
       "    }\n",
       "\n",
       "    .dataframe tbody tr th {\n",
       "        vertical-align: top;\n",
       "    }\n",
       "\n",
       "    .dataframe thead th {\n",
       "        text-align: right;\n",
       "    }\n",
       "</style>\n",
       "<table border=\"1\" class=\"dataframe\">\n",
       "  <thead>\n",
       "    <tr style=\"text-align: right;\">\n",
       "      <th></th>\n",
       "      <th>country</th>\n",
       "      <th>continent</th>\n",
       "      <th>year</th>\n",
       "      <th>lifeExp</th>\n",
       "      <th>pop</th>\n",
       "      <th>gdpPercap</th>\n",
       "    </tr>\n",
       "  </thead>\n",
       "  <tbody>\n",
       "    <tr>\n",
       "      <th>0</th>\n",
       "      <td>Afghanistan</td>\n",
       "      <td>Asia</td>\n",
       "      <td>1952</td>\n",
       "      <td>28.801</td>\n",
       "      <td>8425333</td>\n",
       "      <td>779.445314</td>\n",
       "    </tr>\n",
       "    <tr>\n",
       "      <th>99</th>\n",
       "      <td>Bangladesh</td>\n",
       "      <td>Asia</td>\n",
       "      <td>1967</td>\n",
       "      <td>43.453</td>\n",
       "      <td>62821884</td>\n",
       "      <td>721.186086</td>\n",
       "    </tr>\n",
       "    <tr>\n",
       "      <th>999</th>\n",
       "      <td>Mongolia</td>\n",
       "      <td>Asia</td>\n",
       "      <td>1967</td>\n",
       "      <td>51.253</td>\n",
       "      <td>1149500</td>\n",
       "      <td>1226.041130</td>\n",
       "    </tr>\n",
       "  </tbody>\n",
       "</table>\n",
       "</div>"
      ],
      "text/plain": [
       "         country continent  year  lifeExp       pop    gdpPercap\n",
       "0    Afghanistan      Asia  1952   28.801   8425333   779.445314\n",
       "99    Bangladesh      Asia  1967   43.453  62821884   721.186086\n",
       "999     Mongolia      Asia  1967   51.253   1149500  1226.041130"
      ]
     },
     "execution_count": 37,
     "metadata": {},
     "output_type": "execute_result"
    }
   ],
   "source": [
    "df.loc[[0, 99, 999]]"
   ]
  },
  {
   "cell_type": "code",
   "execution_count": 38,
   "id": "f10c3af9",
   "metadata": {},
   "outputs": [],
   "source": [
    "### Usando .iloc[]"
   ]
  },
  {
   "cell_type": "code",
   "execution_count": 39,
   "id": "7662f2ae",
   "metadata": {},
   "outputs": [
    {
     "data": {
      "text/plain": [
       "country      Afghanistan\n",
       "continent           Asia\n",
       "year                1957\n",
       "lifeExp           30.332\n",
       "pop              9240934\n",
       "gdpPercap      820.85303\n",
       "Name: 1, dtype: object"
      ]
     },
     "execution_count": 39,
     "metadata": {},
     "output_type": "execute_result"
    }
   ],
   "source": [
    "df.iloc[1]"
   ]
  },
  {
   "cell_type": "code",
   "execution_count": 40,
   "id": "6d1da4da",
   "metadata": {},
   "outputs": [
    {
     "data": {
      "text/plain": [
       "country        Zimbabwe\n",
       "continent        Africa\n",
       "year               2007\n",
       "lifeExp          43.487\n",
       "pop            12311143\n",
       "gdpPercap    469.709298\n",
       "Name: 1703, dtype: object"
      ]
     },
     "execution_count": 40,
     "metadata": {},
     "output_type": "execute_result"
    }
   ],
   "source": [
    "df.iloc[-1]"
   ]
  },
  {
   "cell_type": "markdown",
   "id": "1771d22d",
   "metadata": {},
   "source": [
    "#### Combinando loc y iloc\n",
    "La sintaxis para ambas es la misma [[rows], [columns]]"
   ]
  },
  {
   "cell_type": "code",
   "execution_count": 42,
   "id": "dd04ce0a",
   "metadata": {},
   "outputs": [
    {
     "data": {
      "text/html": [
       "<div>\n",
       "<style scoped>\n",
       "    .dataframe tbody tr th:only-of-type {\n",
       "        vertical-align: middle;\n",
       "    }\n",
       "\n",
       "    .dataframe tbody tr th {\n",
       "        vertical-align: top;\n",
       "    }\n",
       "\n",
       "    .dataframe thead th {\n",
       "        text-align: right;\n",
       "    }\n",
       "</style>\n",
       "<table border=\"1\" class=\"dataframe\">\n",
       "  <thead>\n",
       "    <tr style=\"text-align: right;\">\n",
       "      <th></th>\n",
       "      <th>year</th>\n",
       "      <th>pop</th>\n",
       "    </tr>\n",
       "  </thead>\n",
       "  <tbody>\n",
       "    <tr>\n",
       "      <th>0</th>\n",
       "      <td>1952</td>\n",
       "      <td>8425333</td>\n",
       "    </tr>\n",
       "    <tr>\n",
       "      <th>1</th>\n",
       "      <td>1957</td>\n",
       "      <td>9240934</td>\n",
       "    </tr>\n",
       "    <tr>\n",
       "      <th>2</th>\n",
       "      <td>1962</td>\n",
       "      <td>10267083</td>\n",
       "    </tr>\n",
       "    <tr>\n",
       "      <th>3</th>\n",
       "      <td>1967</td>\n",
       "      <td>11537966</td>\n",
       "    </tr>\n",
       "    <tr>\n",
       "      <th>4</th>\n",
       "      <td>1972</td>\n",
       "      <td>13079460</td>\n",
       "    </tr>\n",
       "    <tr>\n",
       "      <th>...</th>\n",
       "      <td>...</td>\n",
       "      <td>...</td>\n",
       "    </tr>\n",
       "    <tr>\n",
       "      <th>1699</th>\n",
       "      <td>1987</td>\n",
       "      <td>9216418</td>\n",
       "    </tr>\n",
       "    <tr>\n",
       "      <th>1700</th>\n",
       "      <td>1992</td>\n",
       "      <td>10704340</td>\n",
       "    </tr>\n",
       "    <tr>\n",
       "      <th>1701</th>\n",
       "      <td>1997</td>\n",
       "      <td>11404948</td>\n",
       "    </tr>\n",
       "    <tr>\n",
       "      <th>1702</th>\n",
       "      <td>2002</td>\n",
       "      <td>11926563</td>\n",
       "    </tr>\n",
       "    <tr>\n",
       "      <th>1703</th>\n",
       "      <td>2007</td>\n",
       "      <td>12311143</td>\n",
       "    </tr>\n",
       "  </tbody>\n",
       "</table>\n",
       "<p>1704 rows × 2 columns</p>\n",
       "</div>"
      ],
      "text/plain": [
       "      year       pop\n",
       "0     1952   8425333\n",
       "1     1957   9240934\n",
       "2     1962  10267083\n",
       "3     1967  11537966\n",
       "4     1972  13079460\n",
       "...    ...       ...\n",
       "1699  1987   9216418\n",
       "1700  1992  10704340\n",
       "1701  1997  11404948\n",
       "1702  2002  11926563\n",
       "1703  2007  12311143\n",
       "\n",
       "[1704 rows x 2 columns]"
      ]
     },
     "execution_count": 42,
     "metadata": {},
     "output_type": "execute_result"
    }
   ],
   "source": [
    "df.loc[:,['year', 'pop']]"
   ]
  },
  {
   "cell_type": "code",
   "execution_count": 44,
   "id": "06fedc42",
   "metadata": {},
   "outputs": [
    {
     "data": {
      "text/html": [
       "<div>\n",
       "<style scoped>\n",
       "    .dataframe tbody tr th:only-of-type {\n",
       "        vertical-align: middle;\n",
       "    }\n",
       "\n",
       "    .dataframe tbody tr th {\n",
       "        vertical-align: top;\n",
       "    }\n",
       "\n",
       "    .dataframe thead th {\n",
       "        text-align: right;\n",
       "    }\n",
       "</style>\n",
       "<table border=\"1\" class=\"dataframe\">\n",
       "  <thead>\n",
       "    <tr style=\"text-align: right;\">\n",
       "      <th></th>\n",
       "      <th>year</th>\n",
       "      <th>pop</th>\n",
       "      <th>gdpPercap</th>\n",
       "    </tr>\n",
       "  </thead>\n",
       "  <tbody>\n",
       "    <tr>\n",
       "      <th>0</th>\n",
       "      <td>1952</td>\n",
       "      <td>8425333</td>\n",
       "      <td>779.445314</td>\n",
       "    </tr>\n",
       "    <tr>\n",
       "      <th>1</th>\n",
       "      <td>1957</td>\n",
       "      <td>9240934</td>\n",
       "      <td>820.853030</td>\n",
       "    </tr>\n",
       "    <tr>\n",
       "      <th>2</th>\n",
       "      <td>1962</td>\n",
       "      <td>10267083</td>\n",
       "      <td>853.100710</td>\n",
       "    </tr>\n",
       "    <tr>\n",
       "      <th>3</th>\n",
       "      <td>1967</td>\n",
       "      <td>11537966</td>\n",
       "      <td>836.197138</td>\n",
       "    </tr>\n",
       "    <tr>\n",
       "      <th>4</th>\n",
       "      <td>1972</td>\n",
       "      <td>13079460</td>\n",
       "      <td>739.981106</td>\n",
       "    </tr>\n",
       "    <tr>\n",
       "      <th>...</th>\n",
       "      <td>...</td>\n",
       "      <td>...</td>\n",
       "      <td>...</td>\n",
       "    </tr>\n",
       "    <tr>\n",
       "      <th>1699</th>\n",
       "      <td>1987</td>\n",
       "      <td>9216418</td>\n",
       "      <td>706.157306</td>\n",
       "    </tr>\n",
       "    <tr>\n",
       "      <th>1700</th>\n",
       "      <td>1992</td>\n",
       "      <td>10704340</td>\n",
       "      <td>693.420786</td>\n",
       "    </tr>\n",
       "    <tr>\n",
       "      <th>1701</th>\n",
       "      <td>1997</td>\n",
       "      <td>11404948</td>\n",
       "      <td>792.449960</td>\n",
       "    </tr>\n",
       "    <tr>\n",
       "      <th>1702</th>\n",
       "      <td>2002</td>\n",
       "      <td>11926563</td>\n",
       "      <td>672.038623</td>\n",
       "    </tr>\n",
       "    <tr>\n",
       "      <th>1703</th>\n",
       "      <td>2007</td>\n",
       "      <td>12311143</td>\n",
       "      <td>469.709298</td>\n",
       "    </tr>\n",
       "  </tbody>\n",
       "</table>\n",
       "<p>1704 rows × 3 columns</p>\n",
       "</div>"
      ],
      "text/plain": [
       "      year       pop   gdpPercap\n",
       "0     1952   8425333  779.445314\n",
       "1     1957   9240934  820.853030\n",
       "2     1962  10267083  853.100710\n",
       "3     1967  11537966  836.197138\n",
       "4     1972  13079460  739.981106\n",
       "...    ...       ...         ...\n",
       "1699  1987   9216418  706.157306\n",
       "1700  1992  10704340  693.420786\n",
       "1701  1997  11404948  792.449960\n",
       "1702  2002  11926563  672.038623\n",
       "1703  2007  12311143  469.709298\n",
       "\n",
       "[1704 rows x 3 columns]"
      ]
     },
     "execution_count": 44,
     "metadata": {},
     "output_type": "execute_result"
    }
   ],
   "source": [
    "df.iloc[:, [2,4,-1]]"
   ]
  },
  {
   "cell_type": "markdown",
   "id": "c883c6cc",
   "metadata": {},
   "source": [
    "#### Filtrando con range()"
   ]
  },
  {
   "cell_type": "code",
   "execution_count": 4,
   "id": "b1023d59",
   "metadata": {},
   "outputs": [
    {
     "name": "stdout",
     "output_type": "stream",
     "text": [
      "[0, 1, 2, 3, 4]\n"
     ]
    }
   ],
   "source": [
    "small_range = list(range(5))\n",
    "print(small_range)"
   ]
  },
  {
   "cell_type": "code",
   "execution_count": 6,
   "id": "b2213ed1",
   "metadata": {},
   "outputs": [
    {
     "name": "stdout",
     "output_type": "stream",
     "text": [
      "          country continent  year  lifeExp       pop\n",
      "0     Afghanistan      Asia  1952   28.801   8425333\n",
      "1     Afghanistan      Asia  1957   30.332   9240934\n",
      "2     Afghanistan      Asia  1962   31.997  10267083\n",
      "3     Afghanistan      Asia  1967   34.020  11537966\n",
      "4     Afghanistan      Asia  1972   36.088  13079460\n",
      "...           ...       ...   ...      ...       ...\n",
      "1699     Zimbabwe    Africa  1987   62.351   9216418\n",
      "1700     Zimbabwe    Africa  1992   60.377  10704340\n",
      "1701     Zimbabwe    Africa  1997   46.809  11404948\n",
      "1702     Zimbabwe    Africa  2002   39.989  11926563\n",
      "1703     Zimbabwe    Africa  2007   43.487  12311143\n",
      "\n",
      "[1704 rows x 5 columns]\n"
     ]
    }
   ],
   "source": [
    "subset = df.iloc[:, small_range]\n",
    "print(subset)"
   ]
  },
  {
   "cell_type": "code",
   "execution_count": 11,
   "id": "2796e367",
   "metadata": {},
   "outputs": [
    {
     "name": "stdout",
     "output_type": "stream",
     "text": [
      "          country  year       pop\n",
      "0     Afghanistan  1952   8425333\n",
      "1     Afghanistan  1957   9240934\n",
      "2     Afghanistan  1962  10267083\n",
      "3     Afghanistan  1967  11537966\n",
      "4     Afghanistan  1972  13079460\n",
      "...           ...   ...       ...\n",
      "1699     Zimbabwe  1987   9216418\n",
      "1700     Zimbabwe  1992  10704340\n",
      "1701     Zimbabwe  1997  11404948\n",
      "1702     Zimbabwe  2002  11926563\n",
      "1703     Zimbabwe  2007  12311143\n",
      "\n",
      "[1704 rows x 3 columns]\n"
     ]
    }
   ],
   "source": [
    "small_range = list(range(0,6,2))\n",
    "subset = df.iloc[:, small_range]\n",
    "print(subset)"
   ]
  },
  {
   "cell_type": "markdown",
   "id": "051d657d",
   "metadata": {},
   "source": [
    "#### Usando Slicing"
   ]
  },
  {
   "cell_type": "code",
   "execution_count": 12,
   "id": "0ac4578e",
   "metadata": {},
   "outputs": [
    {
     "name": "stdout",
     "output_type": "stream",
     "text": [
      "Index(['country', 'continent', 'year', 'lifeExp', 'pop', 'gdpPercap'], dtype='object')\n"
     ]
    }
   ],
   "source": [
    "print(df.columns)"
   ]
  },
  {
   "cell_type": "code",
   "execution_count": 14,
   "id": "a6d17826",
   "metadata": {},
   "outputs": [
    {
     "data": {
      "text/html": [
       "<div>\n",
       "<style scoped>\n",
       "    .dataframe tbody tr th:only-of-type {\n",
       "        vertical-align: middle;\n",
       "    }\n",
       "\n",
       "    .dataframe tbody tr th {\n",
       "        vertical-align: top;\n",
       "    }\n",
       "\n",
       "    .dataframe thead th {\n",
       "        text-align: right;\n",
       "    }\n",
       "</style>\n",
       "<table border=\"1\" class=\"dataframe\">\n",
       "  <thead>\n",
       "    <tr style=\"text-align: right;\">\n",
       "      <th></th>\n",
       "      <th>country</th>\n",
       "      <th>continent</th>\n",
       "      <th>year</th>\n",
       "    </tr>\n",
       "  </thead>\n",
       "  <tbody>\n",
       "    <tr>\n",
       "      <th>0</th>\n",
       "      <td>Afghanistan</td>\n",
       "      <td>Asia</td>\n",
       "      <td>1952</td>\n",
       "    </tr>\n",
       "    <tr>\n",
       "      <th>1</th>\n",
       "      <td>Afghanistan</td>\n",
       "      <td>Asia</td>\n",
       "      <td>1957</td>\n",
       "    </tr>\n",
       "    <tr>\n",
       "      <th>2</th>\n",
       "      <td>Afghanistan</td>\n",
       "      <td>Asia</td>\n",
       "      <td>1962</td>\n",
       "    </tr>\n",
       "    <tr>\n",
       "      <th>3</th>\n",
       "      <td>Afghanistan</td>\n",
       "      <td>Asia</td>\n",
       "      <td>1967</td>\n",
       "    </tr>\n",
       "    <tr>\n",
       "      <th>4</th>\n",
       "      <td>Afghanistan</td>\n",
       "      <td>Asia</td>\n",
       "      <td>1972</td>\n",
       "    </tr>\n",
       "    <tr>\n",
       "      <th>...</th>\n",
       "      <td>...</td>\n",
       "      <td>...</td>\n",
       "      <td>...</td>\n",
       "    </tr>\n",
       "    <tr>\n",
       "      <th>1699</th>\n",
       "      <td>Zimbabwe</td>\n",
       "      <td>Africa</td>\n",
       "      <td>1987</td>\n",
       "    </tr>\n",
       "    <tr>\n",
       "      <th>1700</th>\n",
       "      <td>Zimbabwe</td>\n",
       "      <td>Africa</td>\n",
       "      <td>1992</td>\n",
       "    </tr>\n",
       "    <tr>\n",
       "      <th>1701</th>\n",
       "      <td>Zimbabwe</td>\n",
       "      <td>Africa</td>\n",
       "      <td>1997</td>\n",
       "    </tr>\n",
       "    <tr>\n",
       "      <th>1702</th>\n",
       "      <td>Zimbabwe</td>\n",
       "      <td>Africa</td>\n",
       "      <td>2002</td>\n",
       "    </tr>\n",
       "    <tr>\n",
       "      <th>1703</th>\n",
       "      <td>Zimbabwe</td>\n",
       "      <td>Africa</td>\n",
       "      <td>2007</td>\n",
       "    </tr>\n",
       "  </tbody>\n",
       "</table>\n",
       "<p>1704 rows × 3 columns</p>\n",
       "</div>"
      ],
      "text/plain": [
       "          country continent  year\n",
       "0     Afghanistan      Asia  1952\n",
       "1     Afghanistan      Asia  1957\n",
       "2     Afghanistan      Asia  1962\n",
       "3     Afghanistan      Asia  1967\n",
       "4     Afghanistan      Asia  1972\n",
       "...           ...       ...   ...\n",
       "1699     Zimbabwe    Africa  1987\n",
       "1700     Zimbabwe    Africa  1992\n",
       "1701     Zimbabwe    Africa  1997\n",
       "1702     Zimbabwe    Africa  2002\n",
       "1703     Zimbabwe    Africa  2007\n",
       "\n",
       "[1704 rows x 3 columns]"
      ]
     },
     "execution_count": 14,
     "metadata": {},
     "output_type": "execute_result"
    }
   ],
   "source": [
    "subset = df.iloc[:, :3]\n",
    "subset"
   ]
  },
  {
   "cell_type": "code",
   "execution_count": 16,
   "id": "06e8c911",
   "metadata": {},
   "outputs": [
    {
     "data": {
      "text/html": [
       "<div>\n",
       "<style scoped>\n",
       "    .dataframe tbody tr th:only-of-type {\n",
       "        vertical-align: middle;\n",
       "    }\n",
       "\n",
       "    .dataframe tbody tr th {\n",
       "        vertical-align: top;\n",
       "    }\n",
       "\n",
       "    .dataframe thead th {\n",
       "        text-align: right;\n",
       "    }\n",
       "</style>\n",
       "<table border=\"1\" class=\"dataframe\">\n",
       "  <thead>\n",
       "    <tr style=\"text-align: right;\">\n",
       "      <th></th>\n",
       "      <th>lifeExp</th>\n",
       "      <th>pop</th>\n",
       "      <th>gdpPercap</th>\n",
       "    </tr>\n",
       "  </thead>\n",
       "  <tbody>\n",
       "    <tr>\n",
       "      <th>0</th>\n",
       "      <td>28.801</td>\n",
       "      <td>8425333</td>\n",
       "      <td>779.445314</td>\n",
       "    </tr>\n",
       "    <tr>\n",
       "      <th>1</th>\n",
       "      <td>30.332</td>\n",
       "      <td>9240934</td>\n",
       "      <td>820.853030</td>\n",
       "    </tr>\n",
       "    <tr>\n",
       "      <th>2</th>\n",
       "      <td>31.997</td>\n",
       "      <td>10267083</td>\n",
       "      <td>853.100710</td>\n",
       "    </tr>\n",
       "    <tr>\n",
       "      <th>3</th>\n",
       "      <td>34.020</td>\n",
       "      <td>11537966</td>\n",
       "      <td>836.197138</td>\n",
       "    </tr>\n",
       "    <tr>\n",
       "      <th>4</th>\n",
       "      <td>36.088</td>\n",
       "      <td>13079460</td>\n",
       "      <td>739.981106</td>\n",
       "    </tr>\n",
       "    <tr>\n",
       "      <th>...</th>\n",
       "      <td>...</td>\n",
       "      <td>...</td>\n",
       "      <td>...</td>\n",
       "    </tr>\n",
       "    <tr>\n",
       "      <th>1699</th>\n",
       "      <td>62.351</td>\n",
       "      <td>9216418</td>\n",
       "      <td>706.157306</td>\n",
       "    </tr>\n",
       "    <tr>\n",
       "      <th>1700</th>\n",
       "      <td>60.377</td>\n",
       "      <td>10704340</td>\n",
       "      <td>693.420786</td>\n",
       "    </tr>\n",
       "    <tr>\n",
       "      <th>1701</th>\n",
       "      <td>46.809</td>\n",
       "      <td>11404948</td>\n",
       "      <td>792.449960</td>\n",
       "    </tr>\n",
       "    <tr>\n",
       "      <th>1702</th>\n",
       "      <td>39.989</td>\n",
       "      <td>11926563</td>\n",
       "      <td>672.038623</td>\n",
       "    </tr>\n",
       "    <tr>\n",
       "      <th>1703</th>\n",
       "      <td>43.487</td>\n",
       "      <td>12311143</td>\n",
       "      <td>469.709298</td>\n",
       "    </tr>\n",
       "  </tbody>\n",
       "</table>\n",
       "<p>1704 rows × 3 columns</p>\n",
       "</div>"
      ],
      "text/plain": [
       "      lifeExp       pop   gdpPercap\n",
       "0      28.801   8425333  779.445314\n",
       "1      30.332   9240934  820.853030\n",
       "2      31.997  10267083  853.100710\n",
       "3      34.020  11537966  836.197138\n",
       "4      36.088  13079460  739.981106\n",
       "...       ...       ...         ...\n",
       "1699   62.351   9216418  706.157306\n",
       "1700   60.377  10704340  693.420786\n",
       "1701   46.809  11404948  792.449960\n",
       "1702   39.989  11926563  672.038623\n",
       "1703   43.487  12311143  469.709298\n",
       "\n",
       "[1704 rows x 3 columns]"
      ]
     },
     "execution_count": 16,
     "metadata": {},
     "output_type": "execute_result"
    }
   ],
   "source": [
    "subset = df.iloc[:, 3:6]\n",
    "subset"
   ]
  },
  {
   "cell_type": "code",
   "execution_count": 17,
   "id": "58a702cd",
   "metadata": {},
   "outputs": [
    {
     "data": {
      "text/html": [
       "<div>\n",
       "<style scoped>\n",
       "    .dataframe tbody tr th:only-of-type {\n",
       "        vertical-align: middle;\n",
       "    }\n",
       "\n",
       "    .dataframe tbody tr th {\n",
       "        vertical-align: top;\n",
       "    }\n",
       "\n",
       "    .dataframe thead th {\n",
       "        text-align: right;\n",
       "    }\n",
       "</style>\n",
       "<table border=\"1\" class=\"dataframe\">\n",
       "  <thead>\n",
       "    <tr style=\"text-align: right;\">\n",
       "      <th></th>\n",
       "      <th>country</th>\n",
       "      <th>year</th>\n",
       "      <th>pop</th>\n",
       "    </tr>\n",
       "  </thead>\n",
       "  <tbody>\n",
       "    <tr>\n",
       "      <th>0</th>\n",
       "      <td>Afghanistan</td>\n",
       "      <td>1952</td>\n",
       "      <td>8425333</td>\n",
       "    </tr>\n",
       "    <tr>\n",
       "      <th>1</th>\n",
       "      <td>Afghanistan</td>\n",
       "      <td>1957</td>\n",
       "      <td>9240934</td>\n",
       "    </tr>\n",
       "    <tr>\n",
       "      <th>2</th>\n",
       "      <td>Afghanistan</td>\n",
       "      <td>1962</td>\n",
       "      <td>10267083</td>\n",
       "    </tr>\n",
       "    <tr>\n",
       "      <th>3</th>\n",
       "      <td>Afghanistan</td>\n",
       "      <td>1967</td>\n",
       "      <td>11537966</td>\n",
       "    </tr>\n",
       "    <tr>\n",
       "      <th>4</th>\n",
       "      <td>Afghanistan</td>\n",
       "      <td>1972</td>\n",
       "      <td>13079460</td>\n",
       "    </tr>\n",
       "    <tr>\n",
       "      <th>...</th>\n",
       "      <td>...</td>\n",
       "      <td>...</td>\n",
       "      <td>...</td>\n",
       "    </tr>\n",
       "    <tr>\n",
       "      <th>1699</th>\n",
       "      <td>Zimbabwe</td>\n",
       "      <td>1987</td>\n",
       "      <td>9216418</td>\n",
       "    </tr>\n",
       "    <tr>\n",
       "      <th>1700</th>\n",
       "      <td>Zimbabwe</td>\n",
       "      <td>1992</td>\n",
       "      <td>10704340</td>\n",
       "    </tr>\n",
       "    <tr>\n",
       "      <th>1701</th>\n",
       "      <td>Zimbabwe</td>\n",
       "      <td>1997</td>\n",
       "      <td>11404948</td>\n",
       "    </tr>\n",
       "    <tr>\n",
       "      <th>1702</th>\n",
       "      <td>Zimbabwe</td>\n",
       "      <td>2002</td>\n",
       "      <td>11926563</td>\n",
       "    </tr>\n",
       "    <tr>\n",
       "      <th>1703</th>\n",
       "      <td>Zimbabwe</td>\n",
       "      <td>2007</td>\n",
       "      <td>12311143</td>\n",
       "    </tr>\n",
       "  </tbody>\n",
       "</table>\n",
       "<p>1704 rows × 3 columns</p>\n",
       "</div>"
      ],
      "text/plain": [
       "          country  year       pop\n",
       "0     Afghanistan  1952   8425333\n",
       "1     Afghanistan  1957   9240934\n",
       "2     Afghanistan  1962  10267083\n",
       "3     Afghanistan  1967  11537966\n",
       "4     Afghanistan  1972  13079460\n",
       "...           ...   ...       ...\n",
       "1699     Zimbabwe  1987   9216418\n",
       "1700     Zimbabwe  1992  10704340\n",
       "1701     Zimbabwe  1997  11404948\n",
       "1702     Zimbabwe  2002  11926563\n",
       "1703     Zimbabwe  2007  12311143\n",
       "\n",
       "[1704 rows x 3 columns]"
      ]
     },
     "execution_count": 17,
     "metadata": {},
     "output_type": "execute_result"
    }
   ],
   "source": [
    "# Cada 2 columnas\n",
    "subset = df.iloc[:, 0:6:2]\n",
    "subset"
   ]
  },
  {
   "cell_type": "code",
   "execution_count": 21,
   "id": "3bcedd59",
   "metadata": {},
   "outputs": [
    {
     "data": {
      "text/html": [
       "<div>\n",
       "<style scoped>\n",
       "    .dataframe tbody tr th:only-of-type {\n",
       "        vertical-align: middle;\n",
       "    }\n",
       "\n",
       "    .dataframe tbody tr th {\n",
       "        vertical-align: top;\n",
       "    }\n",
       "\n",
       "    .dataframe thead th {\n",
       "        text-align: right;\n",
       "    }\n",
       "</style>\n",
       "<table border=\"1\" class=\"dataframe\">\n",
       "  <thead>\n",
       "    <tr style=\"text-align: right;\">\n",
       "      <th></th>\n",
       "      <th>country</th>\n",
       "      <th>year</th>\n",
       "      <th>pop</th>\n",
       "    </tr>\n",
       "  </thead>\n",
       "  <tbody>\n",
       "    <tr>\n",
       "      <th>0</th>\n",
       "      <td>Afghanistan</td>\n",
       "      <td>1952</td>\n",
       "      <td>8425333</td>\n",
       "    </tr>\n",
       "    <tr>\n",
       "      <th>1</th>\n",
       "      <td>Afghanistan</td>\n",
       "      <td>1957</td>\n",
       "      <td>9240934</td>\n",
       "    </tr>\n",
       "    <tr>\n",
       "      <th>2</th>\n",
       "      <td>Afghanistan</td>\n",
       "      <td>1962</td>\n",
       "      <td>10267083</td>\n",
       "    </tr>\n",
       "    <tr>\n",
       "      <th>3</th>\n",
       "      <td>Afghanistan</td>\n",
       "      <td>1967</td>\n",
       "      <td>11537966</td>\n",
       "    </tr>\n",
       "    <tr>\n",
       "      <th>4</th>\n",
       "      <td>Afghanistan</td>\n",
       "      <td>1972</td>\n",
       "      <td>13079460</td>\n",
       "    </tr>\n",
       "    <tr>\n",
       "      <th>...</th>\n",
       "      <td>...</td>\n",
       "      <td>...</td>\n",
       "      <td>...</td>\n",
       "    </tr>\n",
       "    <tr>\n",
       "      <th>1699</th>\n",
       "      <td>Zimbabwe</td>\n",
       "      <td>1987</td>\n",
       "      <td>9216418</td>\n",
       "    </tr>\n",
       "    <tr>\n",
       "      <th>1700</th>\n",
       "      <td>Zimbabwe</td>\n",
       "      <td>1992</td>\n",
       "      <td>10704340</td>\n",
       "    </tr>\n",
       "    <tr>\n",
       "      <th>1701</th>\n",
       "      <td>Zimbabwe</td>\n",
       "      <td>1997</td>\n",
       "      <td>11404948</td>\n",
       "    </tr>\n",
       "    <tr>\n",
       "      <th>1702</th>\n",
       "      <td>Zimbabwe</td>\n",
       "      <td>2002</td>\n",
       "      <td>11926563</td>\n",
       "    </tr>\n",
       "    <tr>\n",
       "      <th>1703</th>\n",
       "      <td>Zimbabwe</td>\n",
       "      <td>2007</td>\n",
       "      <td>12311143</td>\n",
       "    </tr>\n",
       "  </tbody>\n",
       "</table>\n",
       "<p>1704 rows × 3 columns</p>\n",
       "</div>"
      ],
      "text/plain": [
       "          country  year       pop\n",
       "0     Afghanistan  1952   8425333\n",
       "1     Afghanistan  1957   9240934\n",
       "2     Afghanistan  1962  10267083\n",
       "3     Afghanistan  1967  11537966\n",
       "4     Afghanistan  1972  13079460\n",
       "...           ...   ...       ...\n",
       "1699     Zimbabwe  1987   9216418\n",
       "1700     Zimbabwe  1992  10704340\n",
       "1701     Zimbabwe  1997  11404948\n",
       "1702     Zimbabwe  2002  11926563\n",
       "1703     Zimbabwe  2007  12311143\n",
       "\n",
       "[1704 rows x 3 columns]"
      ]
     },
     "execution_count": 21,
     "metadata": {},
     "output_type": "execute_result"
    }
   ],
   "source": [
    "# Si dejas vacio en los 2 puntos toma como si fuera todo\n",
    "subset = df.iloc[:, ::2]\n",
    "subset"
   ]
  },
  {
   "cell_type": "markdown",
   "id": "de4333b3",
   "metadata": {},
   "source": [
    "#### Subconjuntos de filas y columnas\n",
    "\n",
    "Cuando solo usamos los dos puntos, :, en .loc[] y .iloc[] a la izquierda de la coma, seleccionamos todas las filas en nuestro marco de datos (es decir, dividimos todos los valores en el primer eje de nuestro marco de datos). Sin embargo, podemos optar por poner valores a la izquierda de la coma si queremos seleccionar filas específicas junto con columnas específicas."
   ]
  },
  {
   "cell_type": "code",
   "execution_count": 22,
   "id": "a0b056d7",
   "metadata": {},
   "outputs": [
    {
     "name": "stdout",
     "output_type": "stream",
     "text": [
      "Angola\n"
     ]
    }
   ],
   "source": [
    "print(df.loc[42, 'country'])"
   ]
  },
  {
   "cell_type": "code",
   "execution_count": 24,
   "id": "88214a59",
   "metadata": {},
   "outputs": [
    {
     "name": "stdout",
     "output_type": "stream",
     "text": [
      "Angola\n"
     ]
    }
   ],
   "source": [
    "print(df.iloc[42, 0])"
   ]
  },
  {
   "cell_type": "markdown",
   "id": "e5062546",
   "metadata": {},
   "source": [
    "##### Subconjuntos multiples filas y columnas\n",
    "\n",
    "Podemos combinar la sintaxis de subconjuntos de filas y columnas con la sintaxis de subconjuntos de múltiples filas y múltiples columnas para obtener varias porciones de nuestros datos.\n"
   ]
  },
  {
   "cell_type": "code",
   "execution_count": 25,
   "id": "ee6d0935",
   "metadata": {},
   "outputs": [
    {
     "name": "stdout",
     "output_type": "stream",
     "text": [
      "         country       pop    gdpPercap\n",
      "0    Afghanistan   8425333   779.445314\n",
      "99    Bangladesh  62821884   721.186086\n",
      "999     Mongolia   1149500  1226.041130\n"
     ]
    }
   ],
   "source": [
    "print(df.iloc[[0,99,999], [0,4,5]])"
   ]
  },
  {
   "cell_type": "markdown",
   "id": "a6cb923b",
   "metadata": {},
   "source": [
    "# Es mas facil de leer haciendo referencia al nombre  de la columnas\n",
    "print(df.loc[[0,99, 999], ['country', 'pop', 'gdpPercap']])"
   ]
  },
  {
   "cell_type": "markdown",
   "id": "45f1a13d",
   "metadata": {},
   "source": [
    "**IMPORTANTE**\n",
    "\n",
    "Preste atención a las diferencias en cómo esos dos atributos seleccionan valores: .loc[] coincide con el valor nombrado y .iloc[] divide por posición."
   ]
  },
  {
   "cell_type": "code",
   "execution_count": 28,
   "id": "9817ea6b",
   "metadata": {},
   "outputs": [
    {
     "name": "stdout",
     "output_type": "stream",
     "text": [
      "        country continent  year  lifeExp       pop    gdpPercap\n",
      "10  Afghanistan      Asia  2002   42.129  25268405   726.734055\n",
      "11  Afghanistan      Asia  2007   43.828  31889923   974.580338\n",
      "12      Albania    Europe  1952   55.230   1282697  1601.056136\n",
      "13      Albania    Europe  1957   59.280   1476505  1942.284244\n"
     ]
    }
   ],
   "source": [
    "print(df.loc[10:13, :])"
   ]
  },
  {
   "cell_type": "code",
   "execution_count": 29,
   "id": "de748485",
   "metadata": {},
   "outputs": [
    {
     "name": "stdout",
     "output_type": "stream",
     "text": [
      "        country continent  year  lifeExp       pop    gdpPercap\n",
      "10  Afghanistan      Asia  2002   42.129  25268405   726.734055\n",
      "11  Afghanistan      Asia  2007   43.828  31889923   974.580338\n",
      "12      Albania    Europe  1952   55.230   1282697  1601.056136\n"
     ]
    }
   ],
   "source": [
    "print(df.iloc[10:13, :])"
   ]
  },
  {
   "cell_type": "markdown",
   "id": "0843c224",
   "metadata": {},
   "source": [
    "### Cálculos agrupados y agregados"
   ]
  },
  {
   "cell_type": "markdown",
   "id": "c0194721",
   "metadata": {},
   "source": [
    "#### Medias agrupadas"
   ]
  },
  {
   "cell_type": "markdown",
   "id": "f87403ed",
   "metadata": {},
   "source": [
    "Pensar en cálculos agrupados es como un proceso de dividir, aplicar y combinar. Primero dividimos nuestros datos en varias partes, luego aplicamos una función (o cálculo) de nuestra elección a cada una de las partes divididas y, finalmente, combinamos todos los cálculos divididos individuales en un solo marco de datos."
   ]
  },
  {
   "cell_type": "code",
   "execution_count": 31,
   "id": "7664b6fe",
   "metadata": {},
   "outputs": [
    {
     "name": "stdout",
     "output_type": "stream",
     "text": [
      "year\n",
      "1952    49.057620\n",
      "1957    51.507401\n",
      "1962    53.609249\n",
      "1967    55.678290\n",
      "1972    57.647386\n",
      "1977    59.570157\n",
      "1982    61.533197\n",
      "1987    63.212613\n",
      "1992    64.160338\n",
      "1997    65.014676\n",
      "2002    65.694923\n",
      "2007    67.007423\n",
      "Name: lifeExp, dtype: float64\n"
     ]
    }
   ],
   "source": [
    "print(df.groupby('year')['lifeExp'].mean())"
   ]
  },
  {
   "cell_type": "markdown",
   "id": "10100774",
   "metadata": {},
   "source": [
    "Calculando en multiple columnas"
   ]
  },
  {
   "cell_type": "code",
   "execution_count": 33,
   "id": "411cf076",
   "metadata": {},
   "outputs": [
    {
     "name": "stdout",
     "output_type": "stream",
     "text": [
      "                  lifeExp     gdpPercap\n",
      "year continent                         \n",
      "1952 Africa     39.135500   1252.572466\n",
      "     Americas   53.279840   4079.062552\n",
      "     Asia       46.314394   5195.484004\n",
      "     Europe     64.408500   5661.057435\n",
      "     Oceania    69.255000  10298.085650\n",
      "1957 Africa     41.266346   1385.236062\n",
      "     Americas   55.960280   4616.043733\n",
      "     Asia       49.318544   5787.732940\n",
      "     Europe     66.703067   6963.012816\n",
      "     Oceania    70.295000  11598.522455\n",
      "1962 Africa     43.319442   1598.078825\n",
      "     Americas   58.398760   4901.541870\n",
      "     Asia       51.563223   5729.369625\n",
      "     Europe     68.539233   8365.486814\n",
      "     Oceania    71.085000  12696.452430\n",
      "1967 Africa     45.334538   2050.363801\n",
      "     Americas   60.410920   5668.253496\n",
      "     Asia       54.663640   5971.173374\n",
      "     Europe     69.737600  10143.823757\n",
      "     Oceania    71.310000  14495.021790\n",
      "1972 Africa     47.450942   2339.615674\n",
      "     Americas   62.394920   6491.334139\n",
      "     Asia       57.319269   8187.468699\n",
      "     Europe     70.775033  12479.575246\n",
      "     Oceania    71.910000  16417.333380\n",
      "1977 Africa     49.580423   2585.938508\n",
      "     Americas   64.391560   7352.007126\n",
      "     Asia       59.610556   7791.314020\n",
      "     Europe     71.937767  14283.979110\n",
      "     Oceania    72.855000  17283.957605\n",
      "1982 Africa     51.592865   2481.592960\n",
      "     Americas   66.228840   7506.737088\n",
      "     Asia       62.617939   7434.135157\n",
      "     Europe     72.806400  15617.896551\n",
      "     Oceania    74.290000  18554.709840\n",
      "1987 Africa     53.344788   2282.668991\n",
      "     Americas   68.090720   7793.400261\n",
      "     Asia       64.851182   7608.226508\n",
      "     Europe     73.642167  17214.310727\n",
      "     Oceania    75.320000  20448.040160\n",
      "1992 Africa     53.629577   2281.810333\n",
      "     Americas   69.568360   8044.934406\n",
      "     Asia       66.537212   8639.690248\n",
      "     Europe     74.440100  17061.568084\n",
      "     Oceania    76.945000  20894.045885\n",
      "1997 Africa     53.598269   2378.759555\n",
      "     Americas   71.150480   8889.300863\n",
      "     Asia       68.020515   9834.093295\n",
      "     Europe     75.505167  19076.781802\n",
      "     Oceania    78.190000  24024.175170\n",
      "2002 Africa     53.325231   2599.385159\n",
      "     Americas   72.422040   9287.677107\n",
      "     Asia       69.233879  10174.090397\n",
      "     Europe     76.700600  21711.732422\n",
      "     Oceania    79.740000  26938.778040\n",
      "2007 Africa     54.806038   3089.032605\n",
      "     Americas   73.608120  11003.031625\n",
      "     Asia       70.728485  12473.026870\n",
      "     Europe     77.648600  25054.481636\n",
      "     Oceania    80.719500  29810.188275\n"
     ]
    }
   ],
   "source": [
    "multi_group_var=df.groupby(['year', 'continent'])[['lifeExp', 'gdpPercap']].mean()\n",
    "print(multi_group_var)"
   ]
  },
  {
   "cell_type": "markdown",
   "id": "d2bdbbf0",
   "metadata": {},
   "source": [
    "Si necesita \"aplanar\" el DataFrame, puede utilizar el método .reset_index()."
   ]
  },
  {
   "cell_type": "code",
   "execution_count": 35,
   "id": "8996bbd9",
   "metadata": {},
   "outputs": [
    {
     "name": "stdout",
     "output_type": "stream",
     "text": [
      "    year continent    lifeExp     gdpPercap\n",
      "0   1952    Africa  39.135500   1252.572466\n",
      "1   1952  Americas  53.279840   4079.062552\n",
      "2   1952      Asia  46.314394   5195.484004\n",
      "3   1952    Europe  64.408500   5661.057435\n",
      "4   1952   Oceania  69.255000  10298.085650\n",
      "5   1957    Africa  41.266346   1385.236062\n",
      "6   1957  Americas  55.960280   4616.043733\n",
      "7   1957      Asia  49.318544   5787.732940\n",
      "8   1957    Europe  66.703067   6963.012816\n",
      "9   1957   Oceania  70.295000  11598.522455\n",
      "10  1962    Africa  43.319442   1598.078825\n",
      "11  1962  Americas  58.398760   4901.541870\n",
      "12  1962      Asia  51.563223   5729.369625\n",
      "13  1962    Europe  68.539233   8365.486814\n",
      "14  1962   Oceania  71.085000  12696.452430\n",
      "15  1967    Africa  45.334538   2050.363801\n",
      "16  1967  Americas  60.410920   5668.253496\n",
      "17  1967      Asia  54.663640   5971.173374\n",
      "18  1967    Europe  69.737600  10143.823757\n",
      "19  1967   Oceania  71.310000  14495.021790\n",
      "20  1972    Africa  47.450942   2339.615674\n",
      "21  1972  Americas  62.394920   6491.334139\n",
      "22  1972      Asia  57.319269   8187.468699\n",
      "23  1972    Europe  70.775033  12479.575246\n",
      "24  1972   Oceania  71.910000  16417.333380\n",
      "25  1977    Africa  49.580423   2585.938508\n",
      "26  1977  Americas  64.391560   7352.007126\n",
      "27  1977      Asia  59.610556   7791.314020\n",
      "28  1977    Europe  71.937767  14283.979110\n",
      "29  1977   Oceania  72.855000  17283.957605\n",
      "30  1982    Africa  51.592865   2481.592960\n",
      "31  1982  Americas  66.228840   7506.737088\n",
      "32  1982      Asia  62.617939   7434.135157\n",
      "33  1982    Europe  72.806400  15617.896551\n",
      "34  1982   Oceania  74.290000  18554.709840\n",
      "35  1987    Africa  53.344788   2282.668991\n",
      "36  1987  Americas  68.090720   7793.400261\n",
      "37  1987      Asia  64.851182   7608.226508\n",
      "38  1987    Europe  73.642167  17214.310727\n",
      "39  1987   Oceania  75.320000  20448.040160\n",
      "40  1992    Africa  53.629577   2281.810333\n",
      "41  1992  Americas  69.568360   8044.934406\n",
      "42  1992      Asia  66.537212   8639.690248\n",
      "43  1992    Europe  74.440100  17061.568084\n",
      "44  1992   Oceania  76.945000  20894.045885\n",
      "45  1997    Africa  53.598269   2378.759555\n",
      "46  1997  Americas  71.150480   8889.300863\n",
      "47  1997      Asia  68.020515   9834.093295\n",
      "48  1997    Europe  75.505167  19076.781802\n",
      "49  1997   Oceania  78.190000  24024.175170\n",
      "50  2002    Africa  53.325231   2599.385159\n",
      "51  2002  Americas  72.422040   9287.677107\n",
      "52  2002      Asia  69.233879  10174.090397\n",
      "53  2002    Europe  76.700600  21711.732422\n",
      "54  2002   Oceania  79.740000  26938.778040\n",
      "55  2007    Africa  54.806038   3089.032605\n",
      "56  2007  Americas  73.608120  11003.031625\n",
      "57  2007      Asia  70.728485  12473.026870\n",
      "58  2007    Europe  77.648600  25054.481636\n",
      "59  2007   Oceania  80.719500  29810.188275\n"
     ]
    }
   ],
   "source": [
    "flat = multi_group_var.reset_index()\n",
    "print(flat)"
   ]
  },
  {
   "cell_type": "markdown",
   "id": "ef06ecf7",
   "metadata": {},
   "source": [
    "#### Medias agrupadas"
   ]
  },
  {
   "cell_type": "markdown",
   "id": "2bd4be08",
   "metadata": {},
   "source": [
    "Otra tarea común relacionada con los datos es calcular frecuencias. Podemos usar los métodos .nunique() y .value_counts(), respectivamente, para obtener recuentos de valores únicos y recuentos de frecuencia en una serie Pandas."
   ]
  },
  {
   "cell_type": "code",
   "execution_count": 36,
   "id": "7d7f926b",
   "metadata": {},
   "outputs": [
    {
     "name": "stdout",
     "output_type": "stream",
     "text": [
      "continent\n",
      "Africa      52\n",
      "Americas    25\n",
      "Asia        33\n",
      "Europe      30\n",
      "Oceania      2\n",
      "Name: country, dtype: int64\n"
     ]
    }
   ],
   "source": [
    "print(df.groupby('continent')['country'].nunique())"
   ]
  },
  {
   "cell_type": "code",
   "execution_count": 38,
   "id": "5be3df14",
   "metadata": {},
   "outputs": [
    {
     "name": "stdout",
     "output_type": "stream",
     "text": [
      "continent  country       \n",
      "Africa     Algeria           12\n",
      "           Angola            12\n",
      "           Benin             12\n",
      "           Botswana          12\n",
      "           Burkina Faso      12\n",
      "                             ..\n",
      "Europe     Switzerland       12\n",
      "           Turkey            12\n",
      "           United Kingdom    12\n",
      "Oceania    Australia         12\n",
      "           New Zealand       12\n",
      "Name: country, Length: 142, dtype: int64\n"
     ]
    }
   ],
   "source": [
    "print(df.groupby('continent')['country'].value_counts())"
   ]
  },
  {
   "cell_type": "code",
   "execution_count": 39,
   "id": "e7688365",
   "metadata": {},
   "outputs": [],
   "source": [
    "import matplotlib.pyplot as plt"
   ]
  },
  {
   "cell_type": "code",
   "execution_count": 40,
   "id": "cc0b7b34",
   "metadata": {},
   "outputs": [
    {
     "name": "stdout",
     "output_type": "stream",
     "text": [
      "year\n",
      "1952    49.057620\n",
      "1957    51.507401\n",
      "1962    53.609249\n",
      "1967    55.678290\n",
      "1972    57.647386\n",
      "1977    59.570157\n",
      "1982    61.533197\n",
      "1987    63.212613\n",
      "1992    64.160338\n",
      "1997    65.014676\n",
      "2002    65.694923\n",
      "2007    67.007423\n",
      "Name: lifeExp, dtype: float64\n"
     ]
    }
   ],
   "source": [
    "global_yearly_life_expectancy = df.groupby('year')['lifeExp'].mean()\n",
    "print(global_yearly_life_expectancy)"
   ]
  },
  {
   "cell_type": "code",
   "execution_count": 42,
   "id": "c7d1cc56",
   "metadata": {},
   "outputs": [
    {
     "data": {
      "image/png": "[encoded data removed]",
      "text/plain": [
       "<Figure size 432x288 with 1 Axes>"
      ]
     },
     "metadata": {
      "needs_background": "light"
     },
     "output_type": "display_data"
    }
   ],
   "source": [
    "global_yearly_life_expectancy.plot()\n",
    "plt.show()"
   ]
  },
  {
   "cell_type": "code",
   "execution_count": null,
   "id": "1b7ea087",
   "metadata": {},
   "outputs": [],
   "source": []
  },
  {
   "cell_type": "code",
   "execution_count": null,
   "id": "14b4744f",
   "metadata": {},
   "outputs": [],
   "source": []
  },
  {
   "cell_type": "code",
   "execution_count": null,
   "id": "18105c93",
   "metadata": {},
   "outputs": [],
   "source": []
  }
 ],
 "metadata": {
  "kernelspec": {
   "display_name": "Python 3",
   "language": "python",
   "name": "python3"
  },
  "language_info": {
   "codemirror_mode": {
    "name": "ipython",
    "version": 3
   },
   "file_extension": ".py",
   "mimetype": "text/x-python",
   "name": "python",
   "nbconvert_exporter": "python",
   "pygments_lexer": "ipython3",
   "version": "3.7.4"
  }
 },
 "nbformat": 4,
 "nbformat_minor": 5
}
